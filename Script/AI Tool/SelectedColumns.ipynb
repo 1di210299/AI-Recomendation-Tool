{
 "cells": [
  {
   "cell_type": "code",
   "execution_count": 5,
   "metadata": {},
   "outputs": [],
   "source": [
    "import pandas as pd \n",
    "import numpy as np "
   ]
  },
  {
   "cell_type": "code",
   "execution_count": 6,
   "metadata": {},
   "outputs": [
    {
     "name": "stderr",
     "output_type": "stream",
     "text": [
      "/tmp/ipykernel_11423/579017065.py:17: DtypeWarning: Columns (10,13,27,32,45,46,47,49,50,51,52,54,55,56,57,58,59,60) have mixed types. Specify dtype option on import or set low_memory=False.\n",
      "  product_1 = pd.read_csv(r'/home/juandi/Documents/TOM_JETSON/Data/Data Source/Shopify/Products/products_export_1.csv')\n",
      "/tmp/ipykernel_11423/579017065.py:19: DtypeWarning: Columns (20,52,53,56) have mixed types. Specify dtype option on import or set low_memory=False.\n",
      "  orders_1 = pd.read_csv(r'/home/juandi/Documents/TOM_JETSON/Data/Data Source/Shopify/Orders/orders_export_1.csv')\n"
     ]
    }
   ],
   "source": [
    "customers_export = pd.read_csv(r'/home/juandi/Documents/TOM_JETSON/Data/Data Source/Shopify/Customer/customers_export.csv')\n",
    "\n",
    "order_over_time = pd.read_csv(r'/home/juandi/Documents/TOM_JETSON/Data/Data Source/Shopify/Sales/orders_over_time_2023-10-18.csv')\n",
    "\n",
    "returning_customers = pd.read_csv(r'/home/juandi/Documents/TOM_JETSON/Data/Data Source/Shopify/Customer/returning_customers.csv')\n",
    "\n",
    "sales_over_time = pd.read_csv(r'/home/juandi/Documents/TOM_JETSON/Data/Data Source/Shopify/Sales/Sales over time_2023-10-18.csv')\n",
    "\n",
    "sales = pd.read_csv(r'/home/juandi/Documents/TOM_JETSON/Data/Data Source/Shopify/Sales/sales_2023-10-18_2024-10-16.csv')\n",
    "\n",
    "sales_by_product = pd.read_csv(r'/home/juandi/Documents/TOM_JETSON/Data/Data Source/Shopify/Sales/sales_by_product_2023-10-18.csv')\n",
    "\n",
    "sales_by_traffic = pd.read_csv(r'/home/juandi/Documents/TOM_JETSON/Data/Data Source/Shopify/Sales/sales_by_traffic_referrer_2023_.csv')\n",
    "\n",
    "klaviyo_data = pd.read_excel(r'/home/juandi/Documents/TOM_JETSON/Data/Data Source/Klaviyo/cleaned_data_for_klaviyo.xlsx')\n",
    "\n",
    "product_1 = pd.read_csv(r'/home/juandi/Documents/TOM_JETSON/Data/Data Source/Shopify/Products/products_export_1.csv')\n",
    "\n",
    "orders_1 = pd.read_csv(r'/home/juandi/Documents/TOM_JETSON/Data/Data Source/Shopify/Orders/orders_export_1.csv')\n"
   ]
  },
  {
   "cell_type": "code",
   "execution_count": 7,
   "metadata": {},
   "outputs": [
    {
     "data": {
      "text/plain": [
       "Index(['Customer ID', 'First Name', 'Last Name', 'Email',\n",
       "       'Accepts Email Marketing', 'Default Address Company',\n",
       "       'Default Address Address1', 'Default Address Address2',\n",
       "       'Default Address City', 'Default Address Province Code',\n",
       "       'Default Address Country Code', 'Default Address Zip',\n",
       "       'Default Address Phone', 'Phone', 'Accepts SMS Marketing',\n",
       "       'Total Spent', 'Total Orders', 'Note', 'Tax Exempt', 'Tags'],\n",
       "      dtype='object')"
      ]
     },
     "execution_count": 7,
     "metadata": {},
     "output_type": "execute_result"
    }
   ],
   "source": [
    "customers_export.columns"
   ]
  },
  {
   "cell_type": "code",
   "execution_count": 8,
   "metadata": {},
   "outputs": [
    {
     "data": {
      "text/plain": [
       "Index(['hour', 'orders', 'average_units_ordered', 'average_order_value',\n",
       "       'returned_item_quantity_abs'],\n",
       "      dtype='object')"
      ]
     },
     "execution_count": 8,
     "metadata": {},
     "output_type": "execute_result"
    }
   ],
   "source": [
    "order_over_time.columns"
   ]
  },
  {
   "cell_type": "code",
   "execution_count": 9,
   "metadata": {},
   "outputs": [
    {
     "data": {
      "text/plain": [
       "Index(['full_name', 'email', 'accepts_email_marketing', 'first_order_date',\n",
       "       'last_order_date', 'total_number_of_orders',\n",
       "       'total_average_order_value', 'total_amount_spent'],\n",
       "      dtype='object')"
      ]
     },
     "execution_count": 9,
     "metadata": {},
     "output_type": "execute_result"
    }
   ],
   "source": [
    "returning_customers.columns"
   ]
  },
  {
   "cell_type": "code",
   "execution_count": 10,
   "metadata": {},
   "outputs": [
    {
     "data": {
      "text/plain": [
       "Index(['Customer ID', 'First Name', 'Last Name', 'Email',\n",
       "       'Accepts Email Marketing', 'Default Address Company',\n",
       "       'Default Address Address1', 'Default Address Address2',\n",
       "       'Default Address City', 'Default Address Province Code',\n",
       "       'Default Address Country Code', 'Default Address Zip',\n",
       "       'Default Address Phone', 'Phone', 'Accepts SMS Marketing',\n",
       "       'Total Spent', 'Total Orders', 'Note', 'Tax Exempt', 'Tags'],\n",
       "      dtype='object')"
      ]
     },
     "execution_count": 10,
     "metadata": {},
     "output_type": "execute_result"
    }
   ],
   "source": [
    "customers_export.columns"
   ]
  },
  {
   "cell_type": "code",
   "execution_count": 11,
   "metadata": {},
   "outputs": [
    {
     "data": {
      "text/plain": [
       "Index(['product_title', 'product_vendor', 'product_type', 'net_quantity',\n",
       "       'gross_sales', 'discounts', 'returns', 'net_sales', 'taxes',\n",
       "       'total_sales'],\n",
       "      dtype='object')"
      ]
     },
     "execution_count": 11,
     "metadata": {},
     "output_type": "execute_result"
    }
   ],
   "source": [
    "sales_over_time.columns"
   ]
  },
  {
   "cell_type": "code",
   "execution_count": 12,
   "metadata": {},
   "outputs": [
    {
     "data": {
      "text/plain": [
       "Index(['api_client_title', 'orders', 'gross_sales', 'discounts', 'returns',\n",
       "       'net_sales', 'shipping', 'taxes', 'total_sales'],\n",
       "      dtype='object')"
      ]
     },
     "execution_count": 12,
     "metadata": {},
     "output_type": "execute_result"
    }
   ],
   "source": [
    "sales.columns"
   ]
  },
  {
   "cell_type": "code",
   "execution_count": 13,
   "metadata": {},
   "outputs": [
    {
     "data": {
      "text/plain": [
       "Index(['product_title', 'product_vendor', 'product_type', 'net_quantity',\n",
       "       'gross_sales', 'discounts', 'returns', 'net_sales', 'taxes',\n",
       "       'total_sales'],\n",
       "      dtype='object')"
      ]
     },
     "execution_count": 13,
     "metadata": {},
     "output_type": "execute_result"
    }
   ],
   "source": [
    "sales_by_product.columns"
   ]
  },
  {
   "cell_type": "code",
   "execution_count": 14,
   "metadata": {},
   "outputs": [
    {
     "data": {
      "text/plain": [
       "Index(['referrer_source', 'referrer_name', 'orders', 'total_sales'], dtype='object')"
      ]
     },
     "execution_count": 14,
     "metadata": {},
     "output_type": "execute_result"
    }
   ],
   "source": [
    "sales_by_traffic.columns"
   ]
  },
  {
   "cell_type": "code",
   "execution_count": 15,
   "metadata": {},
   "outputs": [
    {
     "data": {
      "text/plain": [
       "Index(['product_title', 'product_vendor', 'product_type', 'net_quantity',\n",
       "       'gross_sales', 'discounts', 'returns', 'net_sales', 'taxes',\n",
       "       'total_sales'],\n",
       "      dtype='object')"
      ]
     },
     "execution_count": 15,
     "metadata": {},
     "output_type": "execute_result"
    }
   ],
   "source": [
    "sales_over_time.columns"
   ]
  },
  {
   "cell_type": "code",
   "execution_count": 16,
   "metadata": {},
   "outputs": [
    {
     "data": {
      "text/plain": [
       "Index(['Name', 'Customer: Billing Address City',\n",
       "       'Customer: Billing Address State', 'PhoneNumber', 'Email',\n",
       "       'Item: Department', 'ItemName', 'Source Sales: # of Tickets',\n",
       "       'Source Sales: Net Sales', 'Source Sales: Net Qty Sold',\n",
       "       'In-Store LABEL'],\n",
       "      dtype='object')"
      ]
     },
     "execution_count": 16,
     "metadata": {},
     "output_type": "execute_result"
    }
   ],
   "source": [
    "klaviyo_data.columns"
   ]
  },
  {
   "cell_type": "code",
   "execution_count": 17,
   "metadata": {},
   "outputs": [
    {
     "data": {
      "text/plain": [
       "Index(['Handle', 'Title', 'Body (HTML)', 'Vendor', 'Product Category', 'Type',\n",
       "       'Tags', 'Published', 'Option1 Name', 'Option1 Value',\n",
       "       'Option1 Linked To', 'Option2 Name', 'Option2 Value',\n",
       "       'Option2 Linked To', 'Option3 Name', 'Option3 Value',\n",
       "       'Option3 Linked To', 'Variant SKU', 'Variant Grams',\n",
       "       'Variant Inventory Tracker', 'Variant Inventory Qty',\n",
       "       'Variant Inventory Policy', 'Variant Fulfillment Service',\n",
       "       'Variant Price', 'Variant Compare At Price',\n",
       "       'Variant Requires Shipping', 'Variant Taxable', 'Variant Barcode',\n",
       "       'Image Src', 'Image Position', 'Image Alt Text', 'Gift Card',\n",
       "       'SEO Title', 'SEO Description',\n",
       "       'Google Shopping / Google Product Category', 'Google Shopping / Gender',\n",
       "       'Google Shopping / Age Group', 'Google Shopping / MPN',\n",
       "       'Google Shopping / Condition', 'Google Shopping / Custom Product',\n",
       "       'Google Shopping / Custom Label 0', 'Google Shopping / Custom Label 1',\n",
       "       'Google Shopping / Custom Label 2', 'Google Shopping / Custom Label 3',\n",
       "       'Google Shopping / Custom Label 4',\n",
       "       'productvideo (product.metafields.custom.productvideo)',\n",
       "       'Product rating count (product.metafields.reviews.rating_count)',\n",
       "       'Age group (product.metafields.shopify.age-group)',\n",
       "       'Bag/Case material (product.metafields.shopify.bag-case-material)',\n",
       "       'Clothing features (product.metafields.shopify.clothing-features)',\n",
       "       'Color (product.metafields.shopify.color-pattern)',\n",
       "       'Fabric (product.metafields.shopify.fabric)',\n",
       "       'Fit (product.metafields.shopify.fit)',\n",
       "       'Material (product.metafields.shopify.material)',\n",
       "       'Neckline (product.metafields.shopify.neckline)',\n",
       "       'Pants length type (product.metafields.shopify.pants-length-type)',\n",
       "       'Size (product.metafields.shopify.size)',\n",
       "       'Skirt/Dress length type (product.metafields.shopify.skirt-dress-length-type)',\n",
       "       'Sleeve length type (product.metafields.shopify.sleeve-length-type)',\n",
       "       'Target gender (product.metafields.shopify.target-gender)',\n",
       "       'Top length type (product.metafields.shopify.top-length-type)',\n",
       "       'Variant Image', 'Variant Weight Unit', 'Variant Tax Code',\n",
       "       'Cost per item', 'Included / United States', 'Price / United States',\n",
       "       'Compare At Price / United States', 'Status'],\n",
       "      dtype='object')"
      ]
     },
     "execution_count": 17,
     "metadata": {},
     "output_type": "execute_result"
    }
   ],
   "source": [
    "product_1.columns"
   ]
  },
  {
   "cell_type": "code",
   "execution_count": 18,
   "metadata": {},
   "outputs": [
    {
     "data": {
      "text/plain": [
       "Index(['Name', 'Email', 'Financial Status', 'Paid at', 'Fulfillment Status',\n",
       "       'Fulfilled at', 'Accepts Marketing', 'Currency', 'Subtotal', 'Shipping',\n",
       "       'Taxes', 'Total', 'Discount Code', 'Discount Amount', 'Shipping Method',\n",
       "       'Created at', 'Lineitem quantity', 'Lineitem name', 'Lineitem price',\n",
       "       'Lineitem compare at price', 'Lineitem sku',\n",
       "       'Lineitem requires shipping', 'Lineitem taxable',\n",
       "       'Lineitem fulfillment status', 'Billing Name', 'Billing Street',\n",
       "       'Billing Address1', 'Billing Address2', 'Billing Company',\n",
       "       'Billing City', 'Billing Zip', 'Billing Province', 'Billing Country',\n",
       "       'Billing Phone', 'Shipping Name', 'Shipping Street',\n",
       "       'Shipping Address1', 'Shipping Address2', 'Shipping Company',\n",
       "       'Shipping City', 'Shipping Zip', 'Shipping Province',\n",
       "       'Shipping Country', 'Shipping Phone', 'Notes', 'Note Attributes',\n",
       "       'Cancelled at', 'Payment Method', 'Payment Reference',\n",
       "       'Refunded Amount', 'Vendor', 'Outstanding Balance', 'Employee',\n",
       "       'Location', 'Device ID', 'Id', 'Tags', 'Risk Level', 'Source',\n",
       "       'Lineitem discount', 'Tax 1 Name', 'Tax 1 Value', 'Tax 2 Name',\n",
       "       'Tax 2 Value', 'Tax 3 Name', 'Tax 3 Value', 'Tax 4 Name', 'Tax 4 Value',\n",
       "       'Tax 5 Name', 'Tax 5 Value', 'Phone', 'Receipt Number', 'Duties',\n",
       "       'Billing Province Name', 'Shipping Province Name', 'Payment ID',\n",
       "       'Payment Terms Name', 'Next Payment Due At', 'Payment References'],\n",
       "      dtype='object')"
      ]
     },
     "execution_count": 18,
     "metadata": {},
     "output_type": "execute_result"
    }
   ],
   "source": [
    "orders_1.columns"
   ]
  },
  {
   "cell_type": "code",
   "execution_count": 20,
   "metadata": {},
   "outputs": [
    {
     "data": {
      "text/plain": [
       "Index(['Name', 'Email', 'Financial Status', 'Total', 'Billing Name', 'Vendor',\n",
       "       'Lineitem name', 'Extracted Colors', 'Created at'],\n",
       "      dtype='object')"
      ]
     },
     "execution_count": 20,
     "metadata": {},
     "output_type": "execute_result"
    }
   ],
   "source": [
    "ddf= pd.read_csv(r'/home/juandi/Documents/TOM_JETSON/Color/ColorSegmentation/colores_extraidos_shopify.csv')\n",
    "ddf.columns"
   ]
  },
  {
   "cell_type": "code",
   "execution_count": null,
   "metadata": {},
   "outputs": [],
   "source": []
  }
 ],
 "metadata": {
  "kernelspec": {
   "display_name": ".venv",
   "language": "python",
   "name": "python3"
  },
  "language_info": {
   "codemirror_mode": {
    "name": "ipython",
    "version": 3
   },
   "file_extension": ".py",
   "mimetype": "text/x-python",
   "name": "python",
   "nbconvert_exporter": "python",
   "pygments_lexer": "ipython3",
   "version": "3.9.20"
  }
 },
 "nbformat": 4,
 "nbformat_minor": 2
}
