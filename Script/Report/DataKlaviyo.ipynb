{
 "cells": [
  {
   "cell_type": "code",
   "execution_count": 1,
   "metadata": {},
   "outputs": [],
   "source": [
    "import pandas as pd\n",
    "import numpy as np"
   ]
  },
  {
   "cell_type": "code",
   "execution_count": 2,
   "metadata": {},
   "outputs": [
    {
     "name": "stdout",
     "output_type": "stream",
     "text": [
      "Cargando archivos originales...\n",
      "Tamaño de datos in-store: (5817, 11)\n",
      "Tamaño de datos online: (31848, 20)\n",
      "Renombrando columnas...\n",
      "Concatenando DataFrames...\n",
      "Duplicados por Email antes de consolidar: 5693\n",
      "Consolidando registros duplicados...\n",
      "Tamaño después de consolidar: (31971, 8)\n",
      "Rellenando valores nulos...\n",
      "Guardando datos en 'final_klaviyo_data.csv'...\n",
      "¡Proceso completado con éxito!\n"
     ]
    },
    {
     "name": "stderr",
     "output_type": "stream",
     "text": [
      "/tmp/ipykernel_17132/3691082298.py:76: DeprecationWarning: DataFrameGroupBy.apply operated on the grouping columns. This behavior is deprecated, and in a future version of pandas the grouping columns will be excluded from the operation. Either pass `include_groups=False` to exclude the groupings or explicitly select the grouping columns after groupby to silence this warning.\n",
      "  consolidated_df = combined_df.groupby('Email', as_index=False).apply(consolidate_sources)\n"
     ]
    }
   ],
   "source": [
    "print(\"Cargando archivos originales...\")\n",
    "in_store_df = pd.read_excel(\n",
    "    '/home/juandi/Documents/TOM_JETSON/Data/cleaned_data_for_klaviyo.xlsx', engine='openpyxl'\n",
    ")\n",
    "online_store_df = pd.read_csv(\n",
    "    '/home/juandi/Documents/TOM_JETSON/Data/customers_export.csv', low_memory=False\n",
    ")\n",
    "\n",
    "print(f\"Tamaño de datos in-store: {in_store_df.shape}\")\n",
    "print(f\"Tamaño de datos online: {online_store_df.shape}\")\n",
    "\n",
    "print(\"Renombrando columnas...\")\n",
    "in_store_df.rename(columns={\n",
    "    'Name': 'Full Name',\n",
    "    'Customer: Billing Address City': 'City',\n",
    "    'Customer: Billing Address State': 'State',\n",
    "    'PhoneNumber': 'Phone',\n",
    "    'Email': 'Email',\n",
    "    'Source Sales: # of Tickets': 'Total Orders',\n",
    "    'Source Sales: Net Sales': 'Total Spent'\n",
    "}, inplace=True)\n",
    "\n",
    "online_store_df.rename(columns={\n",
    "    'First Name': 'First Name',\n",
    "    'Last Name': 'Last Name',\n",
    "    'Email': 'Email',\n",
    "    'Default Address City': 'City',\n",
    "    'Default Address Province Code': 'State',\n",
    "    'Total Spent': 'Total Spent',\n",
    "    'Total Orders': 'Total Orders'\n",
    "}, inplace=True)\n",
    "\n",
    "online_store_df['Full Name'] = online_store_df['First Name'] + ' ' + online_store_df['Last Name']\n",
    "\n",
    "in_store_df['Source'] = 'In-store'\n",
    "online_store_df['Source'] = 'Online'\n",
    "\n",
    "columns_to_keep = ['Full Name', 'Email', 'Phone', 'City', 'State', 'Total Spent', 'Total Orders', 'Source']\n",
    "in_store_df = in_store_df[columns_to_keep]\n",
    "online_store_df = online_store_df[columns_to_keep]\n",
    "\n",
    "print(\"Concatenando DataFrames...\")\n",
    "combined_df = pd.concat([in_store_df, online_store_df], ignore_index=True)\n",
    "\n",
    "combined_df['Email'] = combined_df['Email'].str.strip().str.lower()\n",
    "\n",
    "print(f\"Duplicados por Email antes de consolidar: {combined_df['Email'].duplicated().sum()}\")\n",
    "\n",
    "def consolidate_sources(group):\n",
    "    if 'In-store' in group['Source'].values and 'Online' in group['Source'].values:\n",
    "        source = 'Both'\n",
    "    else:\n",
    "        source = group['Source'].iloc[0] \n",
    "    return pd.Series({\n",
    "        'Full Name': group['Full Name'].iloc[0],\n",
    "        'Email': group['Email'].iloc[0],\n",
    "        'Phone': group['Phone'].iloc[0],\n",
    "        'City': group['City'].iloc[0],\n",
    "        'State': group['State'].iloc[0],\n",
    "        'Total Spent': group['Total Spent'].sum(),\n",
    "        'Total Orders': group['Total Orders'].sum(),\n",
    "        'Source': source\n",
    "    })\n",
    "\n",
    "print(\"Consolidando registros duplicados...\")\n",
    "consolidated_df = combined_df.groupby('Email', as_index=False).apply(consolidate_sources)\n",
    "\n",
    "print(f\"Tamaño después de consolidar: {consolidated_df.shape}\")\n",
    "\n",
    "print(\"Rellenando valores nulos...\")\n",
    "consolidated_df.fillna({'Phone': 'Not Provided'}, inplace=True)\n",
    "\n",
    "# Guardar el DataFrame consolidado\n",
    "print(\"Guardando datos en 'final_klaviyo_data.csv'...\")\n",
    "consolidated_df.to_csv('final_klaviyo_data.csv', index=False)\n",
    "\n",
    "print(\"¡Proceso completado con éxito!\")\n"
   ]
  },
  {
   "cell_type": "code",
   "execution_count": 4,
   "metadata": {},
   "outputs": [],
   "source": [
    "import pandas as pd\n",
    "\n",
    "data = pd.read_excel(r'/home/juandi/Documents/TOM_JETSON/Data/cleaned_data_for_klaviyo.xlsx')\n",
    "data.to_csv('klaviyo_data_in_store1.csv')"
   ]
  },
  {
   "cell_type": "code",
   "execution_count": null,
   "metadata": {},
   "outputs": [],
   "source": []
  }
 ],
 "metadata": {
  "kernelspec": {
   "display_name": ".venv",
   "language": "python",
   "name": "python3"
  },
  "language_info": {
   "codemirror_mode": {
    "name": "ipython",
    "version": 3
   },
   "file_extension": ".py",
   "mimetype": "text/x-python",
   "name": "python",
   "nbconvert_exporter": "python",
   "pygments_lexer": "ipython3",
   "version": "3.9.20"
  }
 },
 "nbformat": 4,
 "nbformat_minor": 2
}
