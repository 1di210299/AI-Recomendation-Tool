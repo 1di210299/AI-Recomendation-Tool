{
 "cells": [
  {
   "cell_type": "code",
   "execution_count": null,
   "metadata": {},
   "outputs": [],
   "source": [
    "import pandas as pd\n",
    "import numpy as np\n",
    "import re"
   ]
  },
  {
   "cell_type": "code",
   "execution_count": null,
   "metadata": {},
   "outputs": [
    {
     "name": "stderr",
     "output_type": "stream",
     "text": [
      "/tmp/ipykernel_52015/1134300938.py:1: DtypeWarning: Columns (20,52,53,56) have mixed types. Specify dtype option on import or set low_memory=False.\n",
      "  orders_1 = pd.read_csv(r'/home/juandi/Documents/TOM_JETSON/Data/Shopify/Orders/orders_export_1.csv')\n",
      "/tmp/ipykernel_52015/1134300938.py:3: DtypeWarning: Columns (20,45,52,53,56,66,68,76) have mixed types. Specify dtype option on import or set low_memory=False.\n",
      "  orders_2 = pd.read_csv(r'/home/juandi/Documents/TOM_JETSON/Data/Shopify/Orders/orders_export_2.csv')\n",
      "/tmp/ipykernel_52015/1134300938.py:5: DtypeWarning: Columns (45,56) have mixed types. Specify dtype option on import or set low_memory=False.\n",
      "  orders_3 = pd.read_csv(r'/home/juandi/Documents/TOM_JETSON/Data/Shopify/Orders/orders_export_3.csv')\n"
     ]
    }
   ],
   "source": [
    "orders_1 = pd.read_csv(r'/home/juandi/Documents/TOM_JETSON/Data/Shopify/Orders/orders_export_1.csv')\n",
    "\n",
    "orders_2 = pd.read_csv(r'/home/juandi/Documents/TOM_JETSON/Data/Shopify/Orders/orders_export_2.csv')\n",
    "\n",
    "orders_3 = pd.read_csv(r'/home/juandi/Documents/TOM_JETSON/Data/Shopify/Orders/orders_export_3.csv')\n",
    "\n",
    "total_order_shopify = pd.concat([orders_1,orders_2,orders_3], ignore_index=True)"
   ]
  },
  {
   "cell_type": "code",
   "execution_count": null,
   "metadata": {},
   "outputs": [],
   "source": [
    "total_order_klaviyo = pd.read_csv(r'/home/juandi/Documents/TOM_JETSON/Data/Klaviyo/List Export 2024-11-08 (1).csv')"
   ]
  },
  {
   "cell_type": "code",
   "execution_count": null,
   "metadata": {},
   "outputs": [
    {
     "data": {
      "text/plain": [
       "0       2024-10-18 00:40:03+00:00\n",
       "1       2024-10-18 00:40:03+00:00\n",
       "2       2024-10-18 00:40:03+00:00\n",
       "3       2024-10-18 00:13:01+00:00\n",
       "4       2024-10-17 16:59:32+00:00\n",
       "                   ...           \n",
       "57171   2013-12-02 20:28:10+00:00\n",
       "57172   2013-12-02 02:20:46+00:00\n",
       "57173   2013-12-02 02:20:46+00:00\n",
       "57174   2013-11-26 22:27:14+00:00\n",
       "57175   2013-11-25 22:14:49+00:00\n",
       "Name: Created at, Length: 57176, dtype: datetime64[ns, UTC]"
      ]
     },
     "execution_count": 11,
     "metadata": {},
     "output_type": "execute_result"
    }
   ],
   "source": [
    "total_order_shopify['Created at']"
   ]
  },
  {
   "cell_type": "markdown",
   "metadata": {},
   "source": [
    "# SHOPIFY"
   ]
  },
  {
   "cell_type": "code",
   "execution_count": null,
   "metadata": {},
   "outputs": [
    {
     "name": "stdout",
     "output_type": "stream",
     "text": [
      "Fechas válidas: 57176\n",
      "Fechas no válidas: 0\n",
      "Empty DataFrame\n",
      "Columns: [Name, Email, Financial Status, Paid at, Fulfillment Status, Fulfilled at, Accepts Marketing, Currency, Subtotal, Shipping, Taxes, Total, Discount Code, Discount Amount, Shipping Method, Created at, Lineitem quantity, Lineitem name, Lineitem price, Lineitem compare at price, Lineitem sku, Lineitem requires shipping, Lineitem taxable, Lineitem fulfillment status, Billing Name, Billing Street, Billing Address1, Billing Address2, Billing Company, Billing City, Billing Zip, Billing Province, Billing Country, Billing Phone, Shipping Name, Shipping Street, Shipping Address1, Shipping Address2, Shipping Company, Shipping City, Shipping Zip, Shipping Province, Shipping Country, Shipping Phone, Notes, Note Attributes, Cancelled at, Payment Method, Payment Reference, Refunded Amount, Vendor, Outstanding Balance, Employee, Location, Device ID, Id, Tags, Risk Level, Source, Lineitem discount, Tax 1 Name, Tax 1 Value, Tax 2 Name, Tax 2 Value, Tax 3 Name, Tax 3 Value, Tax 4 Name, Tax 4 Value, Tax 5 Name, Tax 5 Value, Phone, Receipt Number, Duties, Billing Province Name, Shipping Province Name, Payment ID, Payment Terms Name, Next Payment Due At, Payment References]\n",
      "Index: []\n",
      "\n",
      "[0 rows x 79 columns]\n",
      "Archivo 'colores_extraidos_shopify.csv' generado exitosamente.\n"
     ]
    }
   ],
   "source": [
    "total_order_shopify['Created at'] = total_order_shopify['Created at'].astype(str).str.strip()\n",
    "\n",
    "total_order_shopify['Created at'] = pd.to_datetime(total_order_shopify['Created at'], errors='coerce', utc=True)\n",
    "\n",
    "print(f\"Fechas válidas: {total_order_shopify['Created at'].notna().sum()}\")\n",
    "print(f\"Fechas no válidas: {total_order_shopify['Created at'].isna().sum()}\")\n",
    "\n",
    "fechas_no_validas = total_order_shopify[total_order_shopify['Created at'].isna()]\n",
    "print(fechas_no_validas.head(10))  \n",
    "\n",
    "df = total_order_shopify.dropna(subset=['Created at'])\n",
    "\n",
    "\n",
    "color_list = [\n",
    "    \"black\", \"white\", \"red\", \"blue\", \"green\", \"yellow\", \"pink\", \"purple\", \"grey\", \"gray\",\n",
    "    \"navy\", \"gold\", \"brown\", \"burgundy\", \"cream\", \"fuchsia\", \"sky\", \"taupe\", \"olive\", \"dark\",\n",
    "    \"light\", \"silver\", \"teal\", \"beige\", \"coral\", \"mustard\", \"lavender\", \"orange\", \"magenta\",\n",
    "    \"aqua\", \"ivory\", \"maroon\", \"charcoal\", \"mint\", \"peach\", \"plum\", \"sand\", \"bronze\"\n",
    "]\n",
    "\n",
    "color_pattern = r'\\b(?:' + '|'.join(color_list) + r')\\b'\n",
    "\n",
    "def extract_colors(text):\n",
    "    colors = re.findall(color_pattern, text, re.IGNORECASE)\n",
    "    return [color.lower() for color in colors]\n",
    "\n",
    "df['Extracted Colors'] = df['Lineitem name'].apply(lambda x: extract_colors(str(x)))\n",
    "\n",
    "df_exploded = df.explode('Extracted Colors')\n",
    "\n",
    "df_exploded = df_exploded.dropna(subset=['Extracted Colors'])\n",
    "\n",
    "df_resultado = df_exploded[['Name','Email','Financial Status','Total','Billing Name','Vendor','Lineitem name', 'Extracted Colors', 'Created at']]\n",
    "df_resultado.to_csv('/home/juandi/Documents/TOM_JETSON/Color/ColorSegmentation/colores_extraidos_shopify.csv', index=False)\n",
    "\n",
    "print(\"Archivo 'colores_extraidos_shopify.csv' generado exitosamente.\")"
   ]
  },
  {
   "cell_type": "markdown",
   "metadata": {},
   "source": [
    "# KLAVIYO"
   ]
  },
  {
   "cell_type": "code",
   "execution_count": null,
   "metadata": {},
   "outputs": [
    {
     "data": {
      "text/plain": [
       "Index(['Email', 'Klaviyo ID', 'First Name', 'Last Name', 'Organization',\n",
       "       'Locale', 'Title', 'Phone Number', 'Address', 'Address 2',\n",
       "       ...\n",
       "       'Total Spent', 'undefined', 'UTM Campaign', 'UTM Content', 'UTM Medium',\n",
       "       'UTM Source', 'UTM Term', 'Vendor', 'Consent', 'SMS Consent Timestamp'],\n",
       "      dtype='object', length=107)"
      ]
     },
     "execution_count": 16,
     "metadata": {},
     "output_type": "execute_result"
    }
   ],
   "source": [
    "total_order_klaviyo.columns\n"
   ]
  },
  {
   "cell_type": "code",
   "execution_count": null,
   "metadata": {},
   "outputs": [
    {
     "name": "stdout",
     "output_type": "stream",
     "text": [
      "Fechas válidas: 7653\n",
      "Fechas no válidas: 0\n",
      "Empty DataFrame\n",
      "Columns: [Email, Klaviyo ID, First Name, Last Name, Organization, Locale, Title, Phone Number, Address, Address 2, City, State / Region, Country, Zip Code, Latitude, Longitude, Source, Locale: Language, Locale: Country, Email Marketing Consent, Email Marketing Consent Timestamp, Email Marketing Consent Method, Email Marketing Consent Method Detail, Email Marketing Consent Custom Method Detail, Email Marketing Double Opted In, SMS Marketing Consent, SMS Marketing Consent Timestamp, SMS Marketing Consent Method, SMS Marketing Consent Method Detail, Email Suppressions, Email Suppressions Timestamp, Email List Suppressions, Email List Suppressions Reasons, Email List Suppressions Timestamp, First Active, Last Active, Profile Created On, Date Added, Last Open, Last Click, Initial Source, Initial Source Referrer, Initial Source Term, Initial Source Medium, Initial Source First Page, Initial Source Campaign, Initial Source Content, Last Source, Last Source Referrer, Last Source Term, Last Source Medium, Last Source First Page, Last Source Campaign, Last Source Content, Historic Customer Lifetime Value, Predicted Customer Lifetime Value, Total Customer Lifetime Value, Historic Number Of Orders, Predicted Number Of Orders, Churn Risk Prediction, Average Days Between Orders, Average Order Value, Expected Date Of Next Order, $consent_form_id, $consent_form_version, $consent_method, $consent_timestamp, $phone_number_region, $sms_consent_method, $timezone, _kx, Accepts Marketing, Birthday, birthday, color_preference , consent_text, Email opt-in date, External ID, favorite brands and collections, Financial Status, Full Name, In-Store LABEL, Initial Referring Domain, Last Referring Domain, Lineitem name, Lineitem price, Location Visited, other stores, Payment Method, premise label, Search Engine, Search Keyword, Shopify Tags, Subtotal, Time: Time, Total, Total Orders, Total Spent, undefined, UTM Campaign, ...]\n",
      "Index: []\n",
      "\n",
      "[0 rows x 107 columns]\n",
      "Archivo 'colores_extraidos_klaviyo.csv' generado exitosamente.\n"
     ]
    }
   ],
   "source": [
    "total_order_klaviyo['Date Added'] = total_order_klaviyo['Date Added'].astype(str).str.strip()\n",
    "\n",
    "total_order_klaviyo['Date Added'] = pd.to_datetime(total_order_klaviyo['Date Added'], errors='coerce', utc=True)\n",
    "\n",
    "print(f\"Fechas válidas: {total_order_klaviyo['Date Added'].notna().sum()}\")\n",
    "print(f\"Fechas no válidas: {total_order_klaviyo['Date Added'].isna().sum()}\")\n",
    "\n",
    "fechas_no_validas = total_order_klaviyo[total_order_klaviyo['Date Added'].isna()]\n",
    "print(fechas_no_validas.head(10))  \n",
    "\n",
    "df = total_order_klaviyo.dropna(subset=['Date Added'])\n",
    "\n",
    "\n",
    "color_list = [\n",
    "    \"black\", \"white\", \"red\", \"blue\", \"green\", \"yellow\", \"pink\", \"purple\", \"grey\", \"gray\",\n",
    "    \"navy\", \"gold\", \"burgundy\", \"cream\", \"fuchsia\", \"sky\", \"taupe\", \"olive\", \"dark\",\n",
    "    \"light\", \"silver\", \"teal\", \"beige\", \"coral\", \"mustard\", \"lavender\", \"orange\", \"magenta\",\n",
    "    \"aqua\", \"ivory\", \"maroon\", \"charcoal\", \"mint\", \"peach\", \"plum\", \"sand\", \"bronze\"\n",
    "]\n",
    "\n",
    "color_pattern = r'\\b(?:' + '|'.join(color_list) + r')\\b'\n",
    "\n",
    "def extract_colors(text):\n",
    "    colors = re.findall(color_pattern, text, re.IGNORECASE)\n",
    "    return [color.lower() for color in colors]\n",
    "\n",
    "df['Extracted Colors'] = df['Lineitem name'].apply(lambda x: extract_colors(str(x)))\n",
    "\n",
    "df_exploded = df.explode('Extracted Colors')\n",
    "\n",
    "df_exploded = df_exploded.dropna(subset=['Extracted Colors'])\n",
    "\n",
    "df_resultado = df_exploded[['First Name','Last Name','Email','Financial Status','Total','Vendor','Lineitem name', 'Extracted Colors', 'Date Added']]\n",
    "df_resultado.to_csv('/home/juandi/Documents/TOM_JETSON/Color/ColorSegmentation/colores_extraidos_klaviyo.csv', index=False)\n",
    "\n",
    "print(\"Archivo 'colores_extraidos_klaviyo.csv' generado exitosamente.\")"
   ]
  },
  {
   "cell_type": "code",
   "execution_count": null,
   "metadata": {},
   "outputs": [],
   "source": []
  }
 ],
 "metadata": {
  "kernelspec": {
   "display_name": ".venv",
   "language": "python",
   "name": "python3"
  },
  "language_info": {
   "codemirror_mode": {
    "name": "ipython",
    "version": 3
   },
   "file_extension": ".py",
   "mimetype": "text/x-python",
   "name": "python",
   "nbconvert_exporter": "python",
   "pygments_lexer": "ipython3",
   "version": "3.9.20"
  }
 },
 "nbformat": 4,
 "nbformat_minor": 2
}
