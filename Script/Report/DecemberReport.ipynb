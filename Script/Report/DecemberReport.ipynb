{
 "cells": [
  {
   "cell_type": "code",
   "execution_count": 1,
   "metadata": {},
   "outputs": [],
   "source": [
    "import pandas as pd\n",
    "import numpy as np\n",
    "import seaborn as sns\n",
    "from scipy import stats\n",
    "from datetime import datetime\n",
    "import plotly.express as px \n",
    "import plotly.graph_objects as go\n",
    "from sklearn.model_selection import train_test_split, GridSearchCV, StratifiedKFold\n",
    "from sklearn.linear_model import LogisticRegression\n",
    "from sklearn.preprocessing import StandardScaler\n",
    "from sklearn.metrics import (\n",
    "    classification_report, \n",
    "    accuracy_score, \n",
    "    confusion_matrix, \n",
    "    ConfusionMatrixDisplay, \n",
    "    roc_auc_score\n",
    ")\n",
    "from sklearn.cluster import KMeans\n",
    "import plotly.express as px\n",
    "import tabulate\n",
    "from imblearn.under_sampling import RandomUnderSampler\n",
    "import re\n"
   ]
  },
  {
   "cell_type": "code",
   "execution_count": 2,
   "metadata": {},
   "outputs": [
    {
     "ename": "FileNotFoundError",
     "evalue": "[Errno 2] No such file or directory: '/home/juandi/Documents/TOM_JETSON/Data/customers_export.csv'",
     "output_type": "error",
     "traceback": [
      "\u001b[0;31m---------------------------------------------------------------------------\u001b[0m",
      "\u001b[0;31mFileNotFoundError\u001b[0m                         Traceback (most recent call last)",
      "Cell \u001b[0;32mIn[2], line 3\u001b[0m\n\u001b[1;32m      1\u001b[0m sns\u001b[38;5;241m.\u001b[39mset(style\u001b[38;5;241m=\u001b[39m\u001b[38;5;124m'\u001b[39m\u001b[38;5;124mwhitegrid\u001b[39m\u001b[38;5;124m'\u001b[39m, palette\u001b[38;5;241m=\u001b[39m\u001b[38;5;124m'\u001b[39m\u001b[38;5;124mmuted\u001b[39m\u001b[38;5;124m'\u001b[39m)\n\u001b[0;32m----> 3\u001b[0m customers_export \u001b[38;5;241m=\u001b[39m \u001b[43mpd\u001b[49m\u001b[38;5;241;43m.\u001b[39;49m\u001b[43mread_csv\u001b[49m\u001b[43m(\u001b[49m\u001b[38;5;124;43mr\u001b[39;49m\u001b[38;5;124;43m'\u001b[39;49m\u001b[38;5;124;43m/home/juandi/Documents/TOM_JETSON/Data/customers_export.csv\u001b[39;49m\u001b[38;5;124;43m'\u001b[39;49m\u001b[43m)\u001b[49m\n\u001b[1;32m      5\u001b[0m order_over_time \u001b[38;5;241m=\u001b[39m pd\u001b[38;5;241m.\u001b[39mread_csv(\u001b[38;5;124mr\u001b[39m\u001b[38;5;124m'\u001b[39m\u001b[38;5;124m/home/juandi/Documents/TOM_JETSON/Data/orders_over_time_2023-10-18.csv\u001b[39m\u001b[38;5;124m'\u001b[39m)\n\u001b[1;32m      7\u001b[0m returning_customers \u001b[38;5;241m=\u001b[39m pd\u001b[38;5;241m.\u001b[39mread_csv(\u001b[38;5;124mr\u001b[39m\u001b[38;5;124m'\u001b[39m\u001b[38;5;124m/home/juandi/Documents/TOM_JETSON/Data/returning_customers.csv\u001b[39m\u001b[38;5;124m'\u001b[39m)\n",
      "File \u001b[0;32m~/Documents/TOM_JETSON/.venv/lib/python3.9/site-packages/pandas/io/parsers/readers.py:1026\u001b[0m, in \u001b[0;36mread_csv\u001b[0;34m(filepath_or_buffer, sep, delimiter, header, names, index_col, usecols, dtype, engine, converters, true_values, false_values, skipinitialspace, skiprows, skipfooter, nrows, na_values, keep_default_na, na_filter, verbose, skip_blank_lines, parse_dates, infer_datetime_format, keep_date_col, date_parser, date_format, dayfirst, cache_dates, iterator, chunksize, compression, thousands, decimal, lineterminator, quotechar, quoting, doublequote, escapechar, comment, encoding, encoding_errors, dialect, on_bad_lines, delim_whitespace, low_memory, memory_map, float_precision, storage_options, dtype_backend)\u001b[0m\n\u001b[1;32m   1013\u001b[0m kwds_defaults \u001b[38;5;241m=\u001b[39m _refine_defaults_read(\n\u001b[1;32m   1014\u001b[0m     dialect,\n\u001b[1;32m   1015\u001b[0m     delimiter,\n\u001b[0;32m   (...)\u001b[0m\n\u001b[1;32m   1022\u001b[0m     dtype_backend\u001b[38;5;241m=\u001b[39mdtype_backend,\n\u001b[1;32m   1023\u001b[0m )\n\u001b[1;32m   1024\u001b[0m kwds\u001b[38;5;241m.\u001b[39mupdate(kwds_defaults)\n\u001b[0;32m-> 1026\u001b[0m \u001b[38;5;28;01mreturn\u001b[39;00m \u001b[43m_read\u001b[49m\u001b[43m(\u001b[49m\u001b[43mfilepath_or_buffer\u001b[49m\u001b[43m,\u001b[49m\u001b[43m \u001b[49m\u001b[43mkwds\u001b[49m\u001b[43m)\u001b[49m\n",
      "File \u001b[0;32m~/Documents/TOM_JETSON/.venv/lib/python3.9/site-packages/pandas/io/parsers/readers.py:620\u001b[0m, in \u001b[0;36m_read\u001b[0;34m(filepath_or_buffer, kwds)\u001b[0m\n\u001b[1;32m    617\u001b[0m _validate_names(kwds\u001b[38;5;241m.\u001b[39mget(\u001b[38;5;124m\"\u001b[39m\u001b[38;5;124mnames\u001b[39m\u001b[38;5;124m\"\u001b[39m, \u001b[38;5;28;01mNone\u001b[39;00m))\n\u001b[1;32m    619\u001b[0m \u001b[38;5;66;03m# Create the parser.\u001b[39;00m\n\u001b[0;32m--> 620\u001b[0m parser \u001b[38;5;241m=\u001b[39m \u001b[43mTextFileReader\u001b[49m\u001b[43m(\u001b[49m\u001b[43mfilepath_or_buffer\u001b[49m\u001b[43m,\u001b[49m\u001b[43m \u001b[49m\u001b[38;5;241;43m*\u001b[39;49m\u001b[38;5;241;43m*\u001b[39;49m\u001b[43mkwds\u001b[49m\u001b[43m)\u001b[49m\n\u001b[1;32m    622\u001b[0m \u001b[38;5;28;01mif\u001b[39;00m chunksize \u001b[38;5;129;01mor\u001b[39;00m iterator:\n\u001b[1;32m    623\u001b[0m     \u001b[38;5;28;01mreturn\u001b[39;00m parser\n",
      "File \u001b[0;32m~/Documents/TOM_JETSON/.venv/lib/python3.9/site-packages/pandas/io/parsers/readers.py:1620\u001b[0m, in \u001b[0;36mTextFileReader.__init__\u001b[0;34m(self, f, engine, **kwds)\u001b[0m\n\u001b[1;32m   1617\u001b[0m     \u001b[38;5;28mself\u001b[39m\u001b[38;5;241m.\u001b[39moptions[\u001b[38;5;124m\"\u001b[39m\u001b[38;5;124mhas_index_names\u001b[39m\u001b[38;5;124m\"\u001b[39m] \u001b[38;5;241m=\u001b[39m kwds[\u001b[38;5;124m\"\u001b[39m\u001b[38;5;124mhas_index_names\u001b[39m\u001b[38;5;124m\"\u001b[39m]\n\u001b[1;32m   1619\u001b[0m \u001b[38;5;28mself\u001b[39m\u001b[38;5;241m.\u001b[39mhandles: IOHandles \u001b[38;5;241m|\u001b[39m \u001b[38;5;28;01mNone\u001b[39;00m \u001b[38;5;241m=\u001b[39m \u001b[38;5;28;01mNone\u001b[39;00m\n\u001b[0;32m-> 1620\u001b[0m \u001b[38;5;28mself\u001b[39m\u001b[38;5;241m.\u001b[39m_engine \u001b[38;5;241m=\u001b[39m \u001b[38;5;28;43mself\u001b[39;49m\u001b[38;5;241;43m.\u001b[39;49m\u001b[43m_make_engine\u001b[49m\u001b[43m(\u001b[49m\u001b[43mf\u001b[49m\u001b[43m,\u001b[49m\u001b[43m \u001b[49m\u001b[38;5;28;43mself\u001b[39;49m\u001b[38;5;241;43m.\u001b[39;49m\u001b[43mengine\u001b[49m\u001b[43m)\u001b[49m\n",
      "File \u001b[0;32m~/Documents/TOM_JETSON/.venv/lib/python3.9/site-packages/pandas/io/parsers/readers.py:1880\u001b[0m, in \u001b[0;36mTextFileReader._make_engine\u001b[0;34m(self, f, engine)\u001b[0m\n\u001b[1;32m   1878\u001b[0m     \u001b[38;5;28;01mif\u001b[39;00m \u001b[38;5;124m\"\u001b[39m\u001b[38;5;124mb\u001b[39m\u001b[38;5;124m\"\u001b[39m \u001b[38;5;129;01mnot\u001b[39;00m \u001b[38;5;129;01min\u001b[39;00m mode:\n\u001b[1;32m   1879\u001b[0m         mode \u001b[38;5;241m+\u001b[39m\u001b[38;5;241m=\u001b[39m \u001b[38;5;124m\"\u001b[39m\u001b[38;5;124mb\u001b[39m\u001b[38;5;124m\"\u001b[39m\n\u001b[0;32m-> 1880\u001b[0m \u001b[38;5;28mself\u001b[39m\u001b[38;5;241m.\u001b[39mhandles \u001b[38;5;241m=\u001b[39m \u001b[43mget_handle\u001b[49m\u001b[43m(\u001b[49m\n\u001b[1;32m   1881\u001b[0m \u001b[43m    \u001b[49m\u001b[43mf\u001b[49m\u001b[43m,\u001b[49m\n\u001b[1;32m   1882\u001b[0m \u001b[43m    \u001b[49m\u001b[43mmode\u001b[49m\u001b[43m,\u001b[49m\n\u001b[1;32m   1883\u001b[0m \u001b[43m    \u001b[49m\u001b[43mencoding\u001b[49m\u001b[38;5;241;43m=\u001b[39;49m\u001b[38;5;28;43mself\u001b[39;49m\u001b[38;5;241;43m.\u001b[39;49m\u001b[43moptions\u001b[49m\u001b[38;5;241;43m.\u001b[39;49m\u001b[43mget\u001b[49m\u001b[43m(\u001b[49m\u001b[38;5;124;43m\"\u001b[39;49m\u001b[38;5;124;43mencoding\u001b[39;49m\u001b[38;5;124;43m\"\u001b[39;49m\u001b[43m,\u001b[49m\u001b[43m \u001b[49m\u001b[38;5;28;43;01mNone\u001b[39;49;00m\u001b[43m)\u001b[49m\u001b[43m,\u001b[49m\n\u001b[1;32m   1884\u001b[0m \u001b[43m    \u001b[49m\u001b[43mcompression\u001b[49m\u001b[38;5;241;43m=\u001b[39;49m\u001b[38;5;28;43mself\u001b[39;49m\u001b[38;5;241;43m.\u001b[39;49m\u001b[43moptions\u001b[49m\u001b[38;5;241;43m.\u001b[39;49m\u001b[43mget\u001b[49m\u001b[43m(\u001b[49m\u001b[38;5;124;43m\"\u001b[39;49m\u001b[38;5;124;43mcompression\u001b[39;49m\u001b[38;5;124;43m\"\u001b[39;49m\u001b[43m,\u001b[49m\u001b[43m \u001b[49m\u001b[38;5;28;43;01mNone\u001b[39;49;00m\u001b[43m)\u001b[49m\u001b[43m,\u001b[49m\n\u001b[1;32m   1885\u001b[0m \u001b[43m    \u001b[49m\u001b[43mmemory_map\u001b[49m\u001b[38;5;241;43m=\u001b[39;49m\u001b[38;5;28;43mself\u001b[39;49m\u001b[38;5;241;43m.\u001b[39;49m\u001b[43moptions\u001b[49m\u001b[38;5;241;43m.\u001b[39;49m\u001b[43mget\u001b[49m\u001b[43m(\u001b[49m\u001b[38;5;124;43m\"\u001b[39;49m\u001b[38;5;124;43mmemory_map\u001b[39;49m\u001b[38;5;124;43m\"\u001b[39;49m\u001b[43m,\u001b[49m\u001b[43m \u001b[49m\u001b[38;5;28;43;01mFalse\u001b[39;49;00m\u001b[43m)\u001b[49m\u001b[43m,\u001b[49m\n\u001b[1;32m   1886\u001b[0m \u001b[43m    \u001b[49m\u001b[43mis_text\u001b[49m\u001b[38;5;241;43m=\u001b[39;49m\u001b[43mis_text\u001b[49m\u001b[43m,\u001b[49m\n\u001b[1;32m   1887\u001b[0m \u001b[43m    \u001b[49m\u001b[43merrors\u001b[49m\u001b[38;5;241;43m=\u001b[39;49m\u001b[38;5;28;43mself\u001b[39;49m\u001b[38;5;241;43m.\u001b[39;49m\u001b[43moptions\u001b[49m\u001b[38;5;241;43m.\u001b[39;49m\u001b[43mget\u001b[49m\u001b[43m(\u001b[49m\u001b[38;5;124;43m\"\u001b[39;49m\u001b[38;5;124;43mencoding_errors\u001b[39;49m\u001b[38;5;124;43m\"\u001b[39;49m\u001b[43m,\u001b[49m\u001b[43m \u001b[49m\u001b[38;5;124;43m\"\u001b[39;49m\u001b[38;5;124;43mstrict\u001b[39;49m\u001b[38;5;124;43m\"\u001b[39;49m\u001b[43m)\u001b[49m\u001b[43m,\u001b[49m\n\u001b[1;32m   1888\u001b[0m \u001b[43m    \u001b[49m\u001b[43mstorage_options\u001b[49m\u001b[38;5;241;43m=\u001b[39;49m\u001b[38;5;28;43mself\u001b[39;49m\u001b[38;5;241;43m.\u001b[39;49m\u001b[43moptions\u001b[49m\u001b[38;5;241;43m.\u001b[39;49m\u001b[43mget\u001b[49m\u001b[43m(\u001b[49m\u001b[38;5;124;43m\"\u001b[39;49m\u001b[38;5;124;43mstorage_options\u001b[39;49m\u001b[38;5;124;43m\"\u001b[39;49m\u001b[43m,\u001b[49m\u001b[43m \u001b[49m\u001b[38;5;28;43;01mNone\u001b[39;49;00m\u001b[43m)\u001b[49m\u001b[43m,\u001b[49m\n\u001b[1;32m   1889\u001b[0m \u001b[43m\u001b[49m\u001b[43m)\u001b[49m\n\u001b[1;32m   1890\u001b[0m \u001b[38;5;28;01massert\u001b[39;00m \u001b[38;5;28mself\u001b[39m\u001b[38;5;241m.\u001b[39mhandles \u001b[38;5;129;01mis\u001b[39;00m \u001b[38;5;129;01mnot\u001b[39;00m \u001b[38;5;28;01mNone\u001b[39;00m\n\u001b[1;32m   1891\u001b[0m f \u001b[38;5;241m=\u001b[39m \u001b[38;5;28mself\u001b[39m\u001b[38;5;241m.\u001b[39mhandles\u001b[38;5;241m.\u001b[39mhandle\n",
      "File \u001b[0;32m~/Documents/TOM_JETSON/.venv/lib/python3.9/site-packages/pandas/io/common.py:873\u001b[0m, in \u001b[0;36mget_handle\u001b[0;34m(path_or_buf, mode, encoding, compression, memory_map, is_text, errors, storage_options)\u001b[0m\n\u001b[1;32m    868\u001b[0m \u001b[38;5;28;01melif\u001b[39;00m \u001b[38;5;28misinstance\u001b[39m(handle, \u001b[38;5;28mstr\u001b[39m):\n\u001b[1;32m    869\u001b[0m     \u001b[38;5;66;03m# Check whether the filename is to be opened in binary mode.\u001b[39;00m\n\u001b[1;32m    870\u001b[0m     \u001b[38;5;66;03m# Binary mode does not support 'encoding' and 'newline'.\u001b[39;00m\n\u001b[1;32m    871\u001b[0m     \u001b[38;5;28;01mif\u001b[39;00m ioargs\u001b[38;5;241m.\u001b[39mencoding \u001b[38;5;129;01mand\u001b[39;00m \u001b[38;5;124m\"\u001b[39m\u001b[38;5;124mb\u001b[39m\u001b[38;5;124m\"\u001b[39m \u001b[38;5;129;01mnot\u001b[39;00m \u001b[38;5;129;01min\u001b[39;00m ioargs\u001b[38;5;241m.\u001b[39mmode:\n\u001b[1;32m    872\u001b[0m         \u001b[38;5;66;03m# Encoding\u001b[39;00m\n\u001b[0;32m--> 873\u001b[0m         handle \u001b[38;5;241m=\u001b[39m \u001b[38;5;28;43mopen\u001b[39;49m\u001b[43m(\u001b[49m\n\u001b[1;32m    874\u001b[0m \u001b[43m            \u001b[49m\u001b[43mhandle\u001b[49m\u001b[43m,\u001b[49m\n\u001b[1;32m    875\u001b[0m \u001b[43m            \u001b[49m\u001b[43mioargs\u001b[49m\u001b[38;5;241;43m.\u001b[39;49m\u001b[43mmode\u001b[49m\u001b[43m,\u001b[49m\n\u001b[1;32m    876\u001b[0m \u001b[43m            \u001b[49m\u001b[43mencoding\u001b[49m\u001b[38;5;241;43m=\u001b[39;49m\u001b[43mioargs\u001b[49m\u001b[38;5;241;43m.\u001b[39;49m\u001b[43mencoding\u001b[49m\u001b[43m,\u001b[49m\n\u001b[1;32m    877\u001b[0m \u001b[43m            \u001b[49m\u001b[43merrors\u001b[49m\u001b[38;5;241;43m=\u001b[39;49m\u001b[43merrors\u001b[49m\u001b[43m,\u001b[49m\n\u001b[1;32m    878\u001b[0m \u001b[43m            \u001b[49m\u001b[43mnewline\u001b[49m\u001b[38;5;241;43m=\u001b[39;49m\u001b[38;5;124;43m\"\u001b[39;49m\u001b[38;5;124;43m\"\u001b[39;49m\u001b[43m,\u001b[49m\n\u001b[1;32m    879\u001b[0m \u001b[43m        \u001b[49m\u001b[43m)\u001b[49m\n\u001b[1;32m    880\u001b[0m     \u001b[38;5;28;01melse\u001b[39;00m:\n\u001b[1;32m    881\u001b[0m         \u001b[38;5;66;03m# Binary mode\u001b[39;00m\n\u001b[1;32m    882\u001b[0m         handle \u001b[38;5;241m=\u001b[39m \u001b[38;5;28mopen\u001b[39m(handle, ioargs\u001b[38;5;241m.\u001b[39mmode)\n",
      "\u001b[0;31mFileNotFoundError\u001b[0m: [Errno 2] No such file or directory: '/home/juandi/Documents/TOM_JETSON/Data/customers_export.csv'"
     ]
    }
   ],
   "source": [
    "sns.set(style='whitegrid', palette='muted')\n",
    "\n",
    "customers_export = pd.read_csv(r'/home/juandi/Documents/TOM_JETSON/Data/customers_export.csv')\n",
    "\n",
    "order_over_time = pd.read_csv(r'/home/juandi/Documents/TOM_JETSON/Data/orders_over_time_2023-10-18.csv')\n",
    "\n",
    "returning_customers = pd.read_csv(r'/home/juandi/Documents/TOM_JETSON/Data/returning_customers.csv')\n",
    "\n",
    "sales_over_time = pd.read_csv(r'/home/juandi/Documents/TOM_JETSON/Data/Sales over time_2023-10-18.csv')\n",
    "\n",
    "sales = pd.read_csv(r'/home/juandi/Documents/TOM_JETSON/Data/sales_2023-10-18_2024-10-16.csv')\n",
    "\n",
    "sales_by_product = pd.read_csv(r'/home/juandi/Documents/TOM_JETSON/Data/sales_by_product_2023-10-18.csv')\n",
    "\n",
    "sales_by_traffic = pd.read_csv(r'/home/juandi/Documents/TOM_JETSON/Data/sales_by_traffic_referrer_2023_.csv')\n",
    "\n",
    "klaviyo_data = pd.read_excel(r'/home/juandi/Documents/TOM_JETSON/Data/cleaned_data_for_klaviyo.xlsx')\n",
    "\n",
    "product_1 = pd.read_csv(r'/home/juandi/Documents/TOM_JETSON/Data/products_export_1.csv')\n",
    "\n",
    "product_2 = pd.read_csv(r'/home/juandi/Documents/TOM_JETSON/Data/products_export_1.csv')\n",
    "\n",
    "product_3 = pd.read_csv(r'/home/juandi/Documents/TOM_JETSON/Data/products_export_3.csv')\n",
    "\n",
    "orders_1 = pd.read_csv(r'/home/juandi/Documents/TOM_JETSON/Data/orders_export_1.csv')\n",
    "\n",
    "orders_2 = pd.read_csv(r'/home/juandi/Documents/TOM_JETSON/Data/orders_export_2.csv')\n",
    "\n",
    "orders_3 = pd.read_csv(r'/home/juandi/Documents/TOM_JETSON/Data/orders_export_3.csv')"
   ]
  },
  {
   "cell_type": "code",
   "execution_count": 5,
   "metadata": {},
   "outputs": [],
   "source": [
    "products_total = pd.concat([product_1,product_2,product_3], ignore_index=True)\n",
    "\n",
    "order_total = pd.concat([orders_1,orders_2,orders_3], ignore_index=True)"
   ]
  },
  {
   "cell_type": "code",
   "execution_count": 6,
   "metadata": {},
   "outputs": [
    {
     "name": "stdout",
     "output_type": "stream",
     "text": [
      "Fechas válidas: 57176\n",
      "Fechas no válidas: 0\n",
      "Empty DataFrame\n",
      "Columns: [Name, Email, Financial Status, Paid at, Fulfillment Status, Fulfilled at, Accepts Marketing, Currency, Subtotal, Shipping, Taxes, Total, Discount Code, Discount Amount, Shipping Method, Created at, Lineitem quantity, Lineitem name, Lineitem price, Lineitem compare at price, Lineitem sku, Lineitem requires shipping, Lineitem taxable, Lineitem fulfillment status, Billing Name, Billing Street, Billing Address1, Billing Address2, Billing Company, Billing City, Billing Zip, Billing Province, Billing Country, Billing Phone, Shipping Name, Shipping Street, Shipping Address1, Shipping Address2, Shipping Company, Shipping City, Shipping Zip, Shipping Province, Shipping Country, Shipping Phone, Notes, Note Attributes, Cancelled at, Payment Method, Payment Reference, Refunded Amount, Vendor, Outstanding Balance, Employee, Location, Device ID, Id, Tags, Risk Level, Source, Lineitem discount, Tax 1 Name, Tax 1 Value, Tax 2 Name, Tax 2 Value, Tax 3 Name, Tax 3 Value, Tax 4 Name, Tax 4 Value, Tax 5 Name, Tax 5 Value, Phone, Receipt Number, Duties, Billing Province Name, Shipping Province Name, Payment ID, Payment Terms Name, Next Payment Due At, Payment References]\n",
      "Index: []\n",
      "\n",
      "[0 rows x 79 columns]\n",
      "Archivo 'colores_extraidos_noviembre.csv' generado exitosamente.\n"
     ]
    },
    {
     "name": "stderr",
     "output_type": "stream",
     "text": [
      "/tmp/ipykernel_12674/1820311664.py:37: SettingWithCopyWarning: \n",
      "A value is trying to be set on a copy of a slice from a DataFrame.\n",
      "Try using .loc[row_indexer,col_indexer] = value instead\n",
      "\n",
      "See the caveats in the documentation: https://pandas.pydata.org/pandas-docs/stable/user_guide/indexing.html#returning-a-view-versus-a-copy\n",
      "  df_december['Colores Extraidos'] = df_december['Lineitem name'].apply(lambda x: extract_colors(str(x)))\n"
     ]
    }
   ],
   "source": [
    "order_total['Created at'] = order_total['Created at'].astype(str).str.strip()\n",
    "\n",
    "# Intentar convertir 'Created at' a datetime y manejar errores\n",
    "order_total['Created at'] = pd.to_datetime(order_total['Created at'], errors='coerce', utc=True)\n",
    "\n",
    "# Revisar cuántas fechas fueron convertidas correctamente\n",
    "print(f\"Fechas válidas: {order_total['Created at'].notna().sum()}\")\n",
    "print(f\"Fechas no válidas: {order_total['Created at'].isna().sum()}\")\n",
    "\n",
    "# Imprimir algunas fechas no válidas para inspección\n",
    "fechas_no_validas = order_total[order_total['Created at'].isna()]\n",
    "print(fechas_no_validas.head(10))  # Ver las primeras filas con fechas no válidas\n",
    "\n",
    "# Filtrar solo las filas con fechas válidas\n",
    "df = order_total.dropna(subset=['Created at'])\n",
    "\n",
    "# Filtrar los registros para el mes de diciembre\n",
    "df_december = df[df['Created at'].dt.month == 11]\n",
    "\n",
    "# Lista de colores extendida\n",
    "color_list = [\n",
    "    \"black\", \"white\", \"red\", \"blue\", \"green\", \"yellow\", \"pink\", \"purple\", \"grey\", \"gray\",\n",
    "    \"navy\", \"gold\", \"brown\", \"burgundy\", \"cream\", \"fuchsia\", \"sky\", \"taupe\", \"olive\", \"dark\",\n",
    "    \"light\", \"silver\", \"teal\", \"beige\", \"coral\", \"mustard\", \"lavender\", \"orange\", \"magenta\",\n",
    "    \"aqua\", \"ivory\", \"maroon\", \"charcoal\", \"mint\", \"peach\", \"plum\", \"sand\", \"bronze\"\n",
    "]\n",
    "\n",
    "# Crear un patrón de regex para encontrar colores\n",
    "color_pattern = r'\\b(?:' + '|'.join(color_list) + r')\\b'\n",
    "\n",
    "# Función para extraer colores de la columna 'Lineitem name'\n",
    "def extract_colors(text):\n",
    "    colors = re.findall(color_pattern, text, re.IGNORECASE)\n",
    "    return [color.lower() for color in colors]\n",
    "\n",
    "# Aplicar la función para extraer colores\n",
    "df_december['Colores Extraidos'] = df_december['Lineitem name'].apply(lambda x: extract_colors(str(x)))\n",
    "\n",
    "# Separar los colores en filas individuales\n",
    "df_exploded = df_december.explode('Colores Extraidos')\n",
    "\n",
    "# Eliminar filas sin colores extraídos\n",
    "df_exploded = df_exploded.dropna(subset=['Colores Extraidos'])\n",
    "\n",
    "# Seleccionar las columnas necesarias\n",
    "df_resultado = df_exploded[['Lineitem name', 'Colores Extraidos', 'Created at']]\n",
    "\n",
    "# Guardar el resultado en un archivo CSV\n",
    "df_resultado.to_csv('colores_extraidos_noviembre.csv', index=False)\n",
    "\n",
    "print(\"Archivo 'colores_extraidos_noviembre.csv' generado exitosamente.\")"
   ]
  },
  {
   "cell_type": "code",
   "execution_count": 7,
   "metadata": {},
   "outputs": [
    {
     "name": "stdout",
     "output_type": "stream",
     "text": [
      "Total de ventas recientes: 316\n",
      "Número de filas comunes entre entrenamiento y prueba: 0\n",
      "Distribución de Target: [25718   280]\n",
      "Distribución en y_train: [16459   179]\n",
      "Distribución en y_val: [4115   45]\n",
      "Distribución en y_test: [5144   56]\n",
      "Distribución después del undersampling: [179 179]\n",
      "Mejores parámetros: {'C': 0.001, 'max_iter': 500}\n",
      "Reporte de validación:\n",
      "               precision    recall  f1-score   support\n",
      "\n",
      "           0       1.00      1.00      1.00      4115\n",
      "           1       1.00      1.00      1.00        45\n",
      "\n",
      "    accuracy                           1.00      4160\n",
      "   macro avg       1.00      1.00      1.00      4160\n",
      "weighted avg       1.00      1.00      1.00      4160\n",
      "\n",
      "AUC-ROC en validación: 1.0000\n",
      "Reporte de prueba:\n",
      "               precision    recall  f1-score   support\n",
      "\n",
      "           0       1.00      1.00      1.00      5144\n",
      "           1       1.00      1.00      1.00        56\n",
      "\n",
      "    accuracy                           1.00      5200\n",
      "   macro avg       1.00      1.00      1.00      5200\n",
      "weighted avg       1.00      1.00      1.00      5200\n",
      "\n",
      "AUC-ROC en prueba: 1.0000\n",
      "Top 15 productos más probables para noviembre y diciembre 2024:\n",
      "╒═══════╤═══════════════════════════════════════════════════════════════╤═════════════════════════╕\n",
      "│       │ Producto                                                      │   Probabilidad de Venta │\n",
      "╞═══════╪═══════════════════════════════════════════════════════════════╪═════════════════════════╡\n",
      "│  9159 │ Gift Wrapping                                                 │                1        │\n",
      "├───────┼───────────────────────────────────────────────────────────────┼─────────────────────────┤\n",
      "│    45 │ *PRE ORDER* Notre Dame Corded Crew - Navy/Gold/Green / Small  │                1        │\n",
      "├───────┼───────────────────────────────────────────────────────────────┼─────────────────────────┤\n",
      "│    43 │ *PRE ORDER* Notre Dame Corded Crew - Navy/Gold/Green / Large  │                0.99997  │\n",
      "├───────┼───────────────────────────────────────────────────────────────┼─────────────────────────┤\n",
      "│    44 │ *PRE ORDER* Notre Dame Corded Crew - Navy/Gold/Green / Medium │                0.999692 │\n",
      "├───────┼───────────────────────────────────────────────────────────────┼─────────────────────────┤\n",
      "│    46 │ *PRE ORDER* Notre Dame Corded Crew - Navy/Gold/Green / XLarge │                0.99686  │\n",
      "├───────┼───────────────────────────────────────────────────────────────┼─────────────────────────┤\n",
      "│ 16570 │ ONLINE Gift Card - $50 ONLINE                                 │                0.969209 │\n",
      "├───────┼───────────────────────────────────────────────────────────────┼─────────────────────────┤\n",
      "│ 25131 │ Westlyn Woven Sling Bag - Cream                               │                0.968865 │\n",
      "├───────┼───────────────────────────────────────────────────────────────┼─────────────────────────┤\n",
      "│  1387 │ Autumn in the Neighborhood Puzzle                             │                0.968851 │\n",
      "├───────┼───────────────────────────────────────────────────────────────┼─────────────────────────┤\n",
      "│ 25949 │ {Heartloom} Kiel Cardi - Lake / Small                         │                0.968845 │\n",
      "├───────┼───────────────────────────────────────────────────────────────┼─────────────────────────┤\n",
      "│ 25133 │ Westlyn Woven Sling Bag - Emerald                             │                0.968845 │\n",
      "├───────┼───────────────────────────────────────────────────────────────┼─────────────────────────┤\n",
      "│  6537 │ Dottie Dress - Navy / Small                                   │                0.968845 │\n",
      "├───────┼───────────────────────────────────────────────────────────────┼─────────────────────────┤\n",
      "│  2618 │ Bonnie Soft Wrap Blouse - Cognac / Large                      │                0.968842 │\n",
      "├───────┼───────────────────────────────────────────────────────────────┼─────────────────────────┤\n",
      "│  7637 │ Fall for Me Maxi Dress - Black Multi / Small                  │                0.968842 │\n",
      "├───────┼───────────────────────────────────────────────────────────────┼─────────────────────────┤\n",
      "│ 11709 │ Janine Long Sleeve - Black/Ecru / Medium                      │                0.968842 │\n",
      "├───────┼───────────────────────────────────────────────────────────────┼─────────────────────────┤\n",
      "│ 20538 │ Sherry Sweater - Hunter Green/Pink / Small                    │                0.968842 │\n",
      "╘═══════╧═══════════════════════════════════════════════════════════════╧═════════════════════════╛\n"
     ]
    },
    {
     "data": {
      "application/vnd.plotly.v1+json": {
       "config": {
        "plotlyServerURL": "https://plot.ly"
       },
       "data": [
        {
         "customdata": [
          [
           "Blaga.Zymali@alliant.com"
          ],
          [
           "Labovino@gmail.com"
          ],
          [
           "Lisa.h.anderson@gmail.com"
          ],
          [
           "Sarah.E.West.22@nd.edu"
          ],
          [
           "addieprina5@gmail.com"
          ],
          [
           "alexpreschlack@aol.com"
          ],
          [
           "ambutler1954@gmail.com"
          ],
          [
           "amh1232@comcast.net"
          ],
          [
           "amosterkamp@gmail.com"
          ],
          [
           "annietazelaar@gmail.com"
          ],
          [
           "axpgal@aol.com"
          ],
          [
           "bateman.s52@gmail.com"
          ],
          [
           "bbeatrize75@gmail.com"
          ],
          [
           "bonniesartore1@sbcglobal.net"
          ],
          [
           "brankin0032@gmail.com"
          ],
          [
           "brebauer26@gmail.com"
          ],
          [
           "cajbaker@twc.com"
          ],
          [
           "cburggraf@comwide.com"
          ],
          [
           "cchisnell@comcast.net"
          ],
          [
           "chrissyandjay@me.com"
          ],
          [
           "ckrakora.junk@gmail.com"
          ],
          [
           "clextons@gmail.com"
          ],
          [
           "cmp7777@gmail.com"
          ],
          [
           "coreymccann80@gmail.com"
          ],
          [
           "courtneymills68@sbcglobal.net"
          ],
          [
           "crystalleonardi24@gmail.com"
          ],
          [
           "ctirakian@gmail.com"
          ],
          [
           "cunningham.mel.86@gmail.com"
          ],
          [
           "d_dhillman@yahoo.com"
          ],
          [
           "daniellewagner16@yahoo.com"
          ],
          [
           "daze0723@gmail.com"
          ],
          [
           "dianadionne@yahoo.com"
          ],
          [
           "diane.haleas@ignatius.org"
          ],
          [
           "dkdoles@gmail.com"
          ],
          [
           "donnaf.neill@gmail.com"
          ],
          [
           "donnay67@gmail.com"
          ],
          [
           "doriegaty@yahoo.com"
          ],
          [
           "drinans5@gmail.com"
          ],
          [
           "dshellpoppas@aol.com"
          ],
          [
           "dwashb916@gmail.com"
          ],
          [
           "edunning92@hotmail.com"
          ],
          [
           "ekpatti@gmail.com"
          ],
          [
           "elizabeth.adelmann@gmail.com"
          ],
          [
           "emilylouisekershner@gmail.com"
          ],
          [
           "epmesi@ameritech.net"
          ],
          [
           "eriazzi@yahoo.com"
          ],
          [
           "erin.a.mcnaughton@gmail.com"
          ],
          [
           "erin@shopvintagecharm.com"
          ],
          [
           "eypac4@aol.com"
          ],
          [
           "gaw326@gmail.com"
          ],
          [
           "ginaeolson@comcast.net"
          ],
          [
           "griffins5@comcast.net"
          ],
          [
           "h.zeiner@hotmail.com"
          ],
          [
           "heidi.featherstone@gmail.com"
          ],
          [
           "hollygreenok@gmail.com"
          ],
          [
           "hrhode17@gmail.com"
          ],
          [
           "hthiel317@gmail.com"
          ],
          [
           "huff.adrienne@gmail.com"
          ],
          [
           "jaclynmcmillin@gmail.com"
          ],
          [
           "jadeelliscook@aol.com"
          ],
          [
           "jaeger813@hotmail.com"
          ],
          [
           "jaimeturza@gmail.com"
          ],
          [
           "jatuley3@gmail.com"
          ],
          [
           "jbattw84@gmail.com"
          ],
          [
           "jen.washburn1@gmail.com"
          ],
          [
           "jennifergrayulrich@gmail.com"
          ],
          [
           "jennyconnelly2003@yahoo.com"
          ],
          [
           "jessie95g@yahoo.com"
          ],
          [
           "jlkitlica@gmail.com"
          ],
          [
           "jlweibel3@gmail.com"
          ],
          [
           "jml139@aol.com"
          ],
          [
           "jodyburleyson@yahoo.com"
          ],
          [
           "joyg89@gmail.com"
          ],
          [
           "jpogvara@cassiday.com"
          ],
          [
           "jscotto46@gmail.com"
          ],
          [
           "juliannadalto1133@gmail.com"
          ],
          [
           "julieannrutkowski@gmail.com"
          ],
          [
           "juliekcasey1@gmail.com"
          ],
          [
           "kangan.chopra@gmail.com"
          ],
          [
           "katherine.cuccia@gmail.com"
          ],
          [
           "katie.selden@gmail.com"
          ],
          [
           "katiebug_slp@yahoo.com"
          ],
          [
           "kaybarne@gmail.com"
          ],
          [
           "kcallahan@thornoaks.com"
          ],
          [
           "kcsimpson73@yahoo.com"
          ],
          [
           "kellyamyn@yahoo.com"
          ],
          [
           "kellydrenee@aol.com"
          ],
          [
           "kfet1818@gmail.com"
          ],
          [
           "kidpoor123@aol.com"
          ],
          [
           "kimberleyzajac@gmail.com"
          ],
          [
           "klynnelittle@hotmail.com"
          ],
          [
           "kmesina2@gmail.com"
          ],
          [
           "kogutdonna1@gmail.com"
          ],
          [
           "kristiw75@yahoo.com"
          ],
          [
           "kubschkaren@gmail.com"
          ],
          [
           "kwillis@compassion.com"
          ],
          [
           "lackbarb@gmail.com"
          ],
          [
           "lambertmeg@gmail.com"
          ],
          [
           "lauramoreilly@hotmail.com"
          ],
          [
           "libertcrew@yahoo.com"
          ],
          [
           "lilianehrgott@gmail.com"
          ],
          [
           "linda.stiglicz@hotmail.com"
          ],
          [
           "lindagcollins1@gmail.com"
          ],
          [
           "lindamslick@gmail.com"
          ],
          [
           "lisafusello@gmail.com"
          ],
          [
           "ljohnson4318@gmail.com"
          ],
          [
           "m_pelton@sbcglobal.net"
          ],
          [
           "macdonald_brittany@hotmail.com"
          ],
          [
           "maggie.kiser@gmail.com"
          ],
          [
           "maria_stiefel@yahoo.com"
          ],
          [
           "mary.klingenberger@gmail.com"
          ],
          [
           "marykurash61@yahoo.com"
          ],
          [
           "mbmurphy6@gmail.com"
          ],
          [
           "mcwelles@gmail.com"
          ],
          [
           "mdaly05@yahoo.com"
          ],
          [
           "mekrueger22@gmail.com"
          ],
          [
           "melissaahaggerty@mac.com"
          ],
          [
           "merridithlynch@yahoo.com"
          ],
          [
           "mjd28@ix.netcom.com"
          ],
          [
           "mmccol01@gmail.com"
          ],
          [
           "mskow@comcast.net"
          ],
          [
           "mysimpletreasures@msn.com"
          ],
          [
           "nancyhamric@hotmail.com"
          ],
          [
           "nicole.petri@aol.com"
          ],
          [
           "njp313@aol.com"
          ],
          [
           "nlbeekman@comcast.net"
          ],
          [
           "noah_denson@comcast.net"
          ],
          [
           "oremus.emma@gmail.com"
          ],
          [
           "patrick.szachowiczdo@gmail.com"
          ],
          [
           "peggy344@gmail.com"
          ],
          [
           "pknorris1@att.net"
          ],
          [
           "pwdye2012@gmail.com"
          ],
          [
           "rbrown1933@yahoo.com"
          ],
          [
           "rileycarolineburr@gmail.com"
          ],
          [
           "rmbreault14@hotmail.com"
          ],
          [
           "rubowj@yahoo.com"
          ],
          [
           "s.larocco12@gmail.com"
          ],
          [
           "sandynel22@yahoo.com"
          ],
          [
           "sarahannfarrell@gmail.com"
          ],
          [
           "sarahmyser05@gmail.com"
          ],
          [
           "sasovey@aol.com"
          ],
          [
           "sassyrn72@gmail.com"
          ],
          [
           "sheajenniferm@gmail.com"
          ],
          [
           "sheilamarieb@comcast.net"
          ],
          [
           "sheilamatieb@comcast.net"
          ],
          [
           "sherimariematthews@gmail.com"
          ],
          [
           "smithmer@bellsouth.net"
          ],
          [
           "srenae1969@aol.com"
          ],
          [
           "stephanie.august@gmail.com"
          ],
          [
           "stephanie@plainandposh.com"
          ],
          [
           "stephaniescott@alumni.nd.edu"
          ],
          [
           "stephgrimm@sbcglobal.net"
          ],
          [
           "suequimby@yahoo.com"
          ],
          [
           "susankusper@gmail.com"
          ],
          [
           "tdboyd1@aol.com"
          ],
          [
           "temphp123@aol.com"
          ],
          [
           "theblauws@aol.com"
          ],
          [
           "theresascotto519@gmail.com"
          ],
          [
           "toniab73@yahoo.com"
          ],
          [
           "vekoys@gmail.com"
          ],
          [
           "vesposito@ladse.org"
          ],
          [
           "victoriahight13@icloud.com"
          ],
          [
           "wendybrenk@sbcglobal.net"
          ]
         ],
         "hovertemplate": "Log(1 + Total Gastado)=%{x}<br>Número de Órdenes=%{marker.size}<br>Email=%{customdata[0]}<br>Cluster=%{marker.color}<extra></extra>",
         "legendgroup": "",
         "marker": {
          "color": [
           1,
           1,
           1,
           1,
           1,
           0,
           1,
           1,
           1,
           1,
           0,
           1,
           0,
           0,
           0,
           2,
           1,
           1,
           1,
           0,
           0,
           1,
           1,
           1,
           1,
           1,
           1,
           1,
           0,
           1,
           1,
           1,
           1,
           0,
           0,
           2,
           0,
           1,
           1,
           0,
           1,
           1,
           0,
           1,
           1,
           0,
           0,
           1,
           0,
           1,
           1,
           1,
           0,
           0,
           1,
           0,
           1,
           0,
           1,
           0,
           1,
           0,
           0,
           1,
           1,
           1,
           0,
           1,
           0,
           0,
           1,
           0,
           0,
           1,
           1,
           0,
           1,
           1,
           1,
           1,
           1,
           1,
           0,
           2,
           0,
           1,
           0,
           0,
           1,
           0,
           1,
           1,
           1,
           1,
           1,
           1,
           1,
           1,
           0,
           1,
           1,
           1,
           1,
           1,
           1,
           1,
           1,
           1,
           1,
           0,
           1,
           1,
           2,
           1,
           1,
           0,
           1,
           1,
           1,
           1,
           1,
           1,
           0,
           0,
           1,
           1,
           1,
           0,
           0,
           0,
           0,
           1,
           1,
           0,
           1,
           1,
           0,
           1,
           1,
           1,
           0,
           1,
           1,
           0,
           0,
           1,
           0,
           2,
           0,
           1,
           1,
           0,
           1,
           1,
           0,
           0,
           1,
           0,
           1,
           1,
           0,
           0,
           2
          ],
          "coloraxis": "coloraxis",
          "line": {
           "color": "DarkSlateGrey",
           "width": 2
          },
          "size": [
           1,
           1,
           1,
           1,
           1,
           1,
           1,
           1,
           1,
           1,
           1,
           1,
           1,
           1,
           1,
           2,
           1,
           1,
           1,
           1,
           1,
           1,
           1,
           1,
           1,
           1,
           1,
           1,
           1,
           1,
           1,
           1,
           1,
           1,
           1,
           2,
           1,
           1,
           1,
           1,
           1,
           1,
           1,
           1,
           1,
           1,
           1,
           1,
           1,
           1,
           1,
           1,
           1,
           1,
           1,
           1,
           1,
           1,
           1,
           1,
           1,
           1,
           1,
           1,
           1,
           1,
           1,
           1,
           1,
           1,
           1,
           1,
           1,
           1,
           1,
           1,
           1,
           1,
           1,
           1,
           1,
           1,
           1,
           2,
           1,
           1,
           1,
           1,
           1,
           1,
           1,
           1,
           1,
           1,
           1,
           1,
           1,
           1,
           1,
           1,
           1,
           1,
           1,
           1,
           1,
           1,
           1,
           1,
           1,
           1,
           1,
           1,
           3,
           1,
           1,
           1,
           1,
           1,
           1,
           1,
           1,
           1,
           1,
           1,
           1,
           1,
           1,
           1,
           1,
           1,
           1,
           1,
           1,
           1,
           1,
           1,
           1,
           1,
           1,
           1,
           1,
           1,
           1,
           1,
           1,
           1,
           1,
           2,
           1,
           1,
           1,
           1,
           1,
           1,
           1,
           1,
           1,
           1,
           1,
           1,
           1,
           1,
           2
          ],
          "sizemode": "area",
          "sizeref": 0.020833333333333332,
          "symbol": "circle"
         },
         "mode": "markers",
         "name": "",
         "orientation": "v",
         "showlegend": false,
         "type": "scatter",
         "x": [
          4.476199804691132,
          4.188138441508461,
          4.450852825603734,
          4.289088639014612,
          4.821893169499378,
          5.0369526024136295,
          4.4235283980988935,
          4.6913478822291435,
          4.23410650459726,
          4.601162164590552,
          4.941570991486734,
          4.162003210695915,
          5.098646171418969,
          5.979442571880656,
          5.342334251964811,
          6.339335852490564,
          4.16418152181088,
          4.544251771018675,
          4.3425058765115985,
          4.930870325627393,
          5.187609244563615,
          4.584967478670572,
          4.748404354073999,
          4.571613402459248,
          4.273048472104136,
          4.384523514872469,
          4.268297869345539,
          4.12260802749496,
          6.008592030768573,
          4.733035556985987,
          3.6109179126442243,
          3.9318256327243257,
          4.191471272952824,
          5.0548435487605765,
          5.1823451902956155,
          5.888046587909494,
          5.32598117053051,
          4.418840607796598,
          4.4796069630127455,
          5.029195319617166,
          4.028916756899646,
          4.048649602959971,
          5.243280230618128,
          4.109561528026961,
          4.101154654150649,
          5.403262796069531,
          6.3941424412081105,
          4.12260802749496,
          5.666322876495819,
          4.3425058765115985,
          4.191471272952824,
          4.298780886070615,
          4.937347498326424,
          5.432367374668292,
          4.343805421853684,
          5.393218371742757,
          4.316420877575887,
          4.9811378233072325,
          4.100989104940769,
          7.011962129424085,
          4.476199804691132,
          5.683851839167322,
          5.291947119540193,
          4.182508053051405,
          4.689603241962921,
          3.3881121421135,
          5.105339229565553,
          4.384523514872469,
          5.365789081663049,
          5.881956553653434,
          4.852030263919617,
          5.061328408411774,
          6.480351263355219,
          4.3425058765115985,
          4.362206507224575,
          4.997212273764115,
          4.800325700762133,
          4.328098292648326,
          4.476199804691132,
          4.37449836825309,
          4.222444564849416,
          4.356708826689592,
          5.043425116919247,
          5.967197468964984,
          5.110782242701195,
          4.290459441148391,
          4.9082333604781745,
          5.14166355650266,
          4.384523514872469,
          5.440988117712199,
          4.553876891600541,
          4.513164540192067,
          4.740749480229915,
          4.191471272952824,
          4.289088639014612,
          4.191471272952824,
          4.794963757620747,
          4.573885895948325,
          5.427721503759297,
          4.679349584162343,
          4.356708826689592,
          4.513164540192067,
          4.222444564849416,
          4.465908118654584,
          4.316420877575887,
          4.4796069630127455,
          4.290459441148391,
          4.793142414290861,
          4.384523514872469,
          5.588745664667843,
          4.3425058765115985,
          4.571613402459248,
          5.782069796387094,
          4.571613402459248,
          4.268297869345539,
          5.056245805348308,
          4.513164540192067,
          4.25589635752967,
          4.316420877575887,
          4.191471272952824,
          4.2431955089544555,
          4.222444564849416,
          5.279134547131263,
          5.432411101028736,
          4.300816579248338,
          4.356708826689592,
          3.9318256327243257,
          5.605802066295998,
          6.235351459560092,
          6.497136915633172,
          6.083017678034595,
          4.553876891600541,
          4.356708826689592,
          5.211451433526375,
          3.9318256327243257,
          4.513164540192067,
          5.103943471229908,
          4.477336814478207,
          4.599554447202456,
          4.418840607796598,
          5.408113032370921,
          4.356708826689592,
          4.25589635752967,
          4.873669439023098,
          4.954417614098027,
          4.097672352314776,
          5.2479709921112985,
          5.0369526024136295,
          4.929135970517119,
          4.328098292648326,
          4.418840607796598,
          5.1611221273701915,
          4.4857107459507635,
          3.7464405646384678,
          5.062595033026967,
          5.0561821090522265,
          4.373490303651595,
          4.883710600522589,
          4.3425058765115985,
          4.356708826689592,
          5.992738734985712,
          4.972587226458726,
          5.0238805208462765
         ],
         "xaxis": "x",
         "y": [
          1,
          1,
          1,
          1,
          1,
          1,
          1,
          1,
          1,
          1,
          1,
          1,
          1,
          1,
          1,
          2,
          1,
          1,
          1,
          1,
          1,
          1,
          1,
          1,
          1,
          1,
          1,
          1,
          1,
          1,
          1,
          1,
          1,
          1,
          1,
          2,
          1,
          1,
          1,
          1,
          1,
          1,
          1,
          1,
          1,
          1,
          1,
          1,
          1,
          1,
          1,
          1,
          1,
          1,
          1,
          1,
          1,
          1,
          1,
          1,
          1,
          1,
          1,
          1,
          1,
          1,
          1,
          1,
          1,
          1,
          1,
          1,
          1,
          1,
          1,
          1,
          1,
          1,
          1,
          1,
          1,
          1,
          1,
          2,
          1,
          1,
          1,
          1,
          1,
          1,
          1,
          1,
          1,
          1,
          1,
          1,
          1,
          1,
          1,
          1,
          1,
          1,
          1,
          1,
          1,
          1,
          1,
          1,
          1,
          1,
          1,
          1,
          3,
          1,
          1,
          1,
          1,
          1,
          1,
          1,
          1,
          1,
          1,
          1,
          1,
          1,
          1,
          1,
          1,
          1,
          1,
          1,
          1,
          1,
          1,
          1,
          1,
          1,
          1,
          1,
          1,
          1,
          1,
          1,
          1,
          1,
          1,
          2,
          1,
          1,
          1,
          1,
          1,
          1,
          1,
          1,
          1,
          1,
          1,
          1,
          1,
          1,
          2
         ],
         "yaxis": "y"
        }
       ],
       "layout": {
        "coloraxis": {
         "colorbar": {
          "title": {
           "text": "Cluster"
          }
         },
         "colorscale": [
          [
           0,
           "#0d0887"
          ],
          [
           0.1111111111111111,
           "#46039f"
          ],
          [
           0.2222222222222222,
           "#7201a8"
          ],
          [
           0.3333333333333333,
           "#9c179e"
          ],
          [
           0.4444444444444444,
           "#bd3786"
          ],
          [
           0.5555555555555556,
           "#d8576b"
          ],
          [
           0.6666666666666666,
           "#ed7953"
          ],
          [
           0.7777777777777778,
           "#fb9f3a"
          ],
          [
           0.8888888888888888,
           "#fdca26"
          ],
          [
           1,
           "#f0f921"
          ]
         ]
        },
        "legend": {
         "itemsizing": "constant",
         "tracegroupgap": 0
        },
        "template": {
         "data": {
          "bar": [
           {
            "error_x": {
             "color": "#f2f5fa"
            },
            "error_y": {
             "color": "#f2f5fa"
            },
            "marker": {
             "line": {
              "color": "rgb(17,17,17)",
              "width": 0.5
             },
             "pattern": {
              "fillmode": "overlay",
              "size": 10,
              "solidity": 0.2
             }
            },
            "type": "bar"
           }
          ],
          "barpolar": [
           {
            "marker": {
             "line": {
              "color": "rgb(17,17,17)",
              "width": 0.5
             },
             "pattern": {
              "fillmode": "overlay",
              "size": 10,
              "solidity": 0.2
             }
            },
            "type": "barpolar"
           }
          ],
          "carpet": [
           {
            "aaxis": {
             "endlinecolor": "#A2B1C6",
             "gridcolor": "#506784",
             "linecolor": "#506784",
             "minorgridcolor": "#506784",
             "startlinecolor": "#A2B1C6"
            },
            "baxis": {
             "endlinecolor": "#A2B1C6",
             "gridcolor": "#506784",
             "linecolor": "#506784",
             "minorgridcolor": "#506784",
             "startlinecolor": "#A2B1C6"
            },
            "type": "carpet"
           }
          ],
          "choropleth": [
           {
            "colorbar": {
             "outlinewidth": 0,
             "ticks": ""
            },
            "type": "choropleth"
           }
          ],
          "contour": [
           {
            "colorbar": {
             "outlinewidth": 0,
             "ticks": ""
            },
            "colorscale": [
             [
              0,
              "#0d0887"
             ],
             [
              0.1111111111111111,
              "#46039f"
             ],
             [
              0.2222222222222222,
              "#7201a8"
             ],
             [
              0.3333333333333333,
              "#9c179e"
             ],
             [
              0.4444444444444444,
              "#bd3786"
             ],
             [
              0.5555555555555556,
              "#d8576b"
             ],
             [
              0.6666666666666666,
              "#ed7953"
             ],
             [
              0.7777777777777778,
              "#fb9f3a"
             ],
             [
              0.8888888888888888,
              "#fdca26"
             ],
             [
              1,
              "#f0f921"
             ]
            ],
            "type": "contour"
           }
          ],
          "contourcarpet": [
           {
            "colorbar": {
             "outlinewidth": 0,
             "ticks": ""
            },
            "type": "contourcarpet"
           }
          ],
          "heatmap": [
           {
            "colorbar": {
             "outlinewidth": 0,
             "ticks": ""
            },
            "colorscale": [
             [
              0,
              "#0d0887"
             ],
             [
              0.1111111111111111,
              "#46039f"
             ],
             [
              0.2222222222222222,
              "#7201a8"
             ],
             [
              0.3333333333333333,
              "#9c179e"
             ],
             [
              0.4444444444444444,
              "#bd3786"
             ],
             [
              0.5555555555555556,
              "#d8576b"
             ],
             [
              0.6666666666666666,
              "#ed7953"
             ],
             [
              0.7777777777777778,
              "#fb9f3a"
             ],
             [
              0.8888888888888888,
              "#fdca26"
             ],
             [
              1,
              "#f0f921"
             ]
            ],
            "type": "heatmap"
           }
          ],
          "heatmapgl": [
           {
            "colorbar": {
             "outlinewidth": 0,
             "ticks": ""
            },
            "colorscale": [
             [
              0,
              "#0d0887"
             ],
             [
              0.1111111111111111,
              "#46039f"
             ],
             [
              0.2222222222222222,
              "#7201a8"
             ],
             [
              0.3333333333333333,
              "#9c179e"
             ],
             [
              0.4444444444444444,
              "#bd3786"
             ],
             [
              0.5555555555555556,
              "#d8576b"
             ],
             [
              0.6666666666666666,
              "#ed7953"
             ],
             [
              0.7777777777777778,
              "#fb9f3a"
             ],
             [
              0.8888888888888888,
              "#fdca26"
             ],
             [
              1,
              "#f0f921"
             ]
            ],
            "type": "heatmapgl"
           }
          ],
          "histogram": [
           {
            "marker": {
             "pattern": {
              "fillmode": "overlay",
              "size": 10,
              "solidity": 0.2
             }
            },
            "type": "histogram"
           }
          ],
          "histogram2d": [
           {
            "colorbar": {
             "outlinewidth": 0,
             "ticks": ""
            },
            "colorscale": [
             [
              0,
              "#0d0887"
             ],
             [
              0.1111111111111111,
              "#46039f"
             ],
             [
              0.2222222222222222,
              "#7201a8"
             ],
             [
              0.3333333333333333,
              "#9c179e"
             ],
             [
              0.4444444444444444,
              "#bd3786"
             ],
             [
              0.5555555555555556,
              "#d8576b"
             ],
             [
              0.6666666666666666,
              "#ed7953"
             ],
             [
              0.7777777777777778,
              "#fb9f3a"
             ],
             [
              0.8888888888888888,
              "#fdca26"
             ],
             [
              1,
              "#f0f921"
             ]
            ],
            "type": "histogram2d"
           }
          ],
          "histogram2dcontour": [
           {
            "colorbar": {
             "outlinewidth": 0,
             "ticks": ""
            },
            "colorscale": [
             [
              0,
              "#0d0887"
             ],
             [
              0.1111111111111111,
              "#46039f"
             ],
             [
              0.2222222222222222,
              "#7201a8"
             ],
             [
              0.3333333333333333,
              "#9c179e"
             ],
             [
              0.4444444444444444,
              "#bd3786"
             ],
             [
              0.5555555555555556,
              "#d8576b"
             ],
             [
              0.6666666666666666,
              "#ed7953"
             ],
             [
              0.7777777777777778,
              "#fb9f3a"
             ],
             [
              0.8888888888888888,
              "#fdca26"
             ],
             [
              1,
              "#f0f921"
             ]
            ],
            "type": "histogram2dcontour"
           }
          ],
          "mesh3d": [
           {
            "colorbar": {
             "outlinewidth": 0,
             "ticks": ""
            },
            "type": "mesh3d"
           }
          ],
          "parcoords": [
           {
            "line": {
             "colorbar": {
              "outlinewidth": 0,
              "ticks": ""
             }
            },
            "type": "parcoords"
           }
          ],
          "pie": [
           {
            "automargin": true,
            "type": "pie"
           }
          ],
          "scatter": [
           {
            "marker": {
             "line": {
              "color": "#283442"
             }
            },
            "type": "scatter"
           }
          ],
          "scatter3d": [
           {
            "line": {
             "colorbar": {
              "outlinewidth": 0,
              "ticks": ""
             }
            },
            "marker": {
             "colorbar": {
              "outlinewidth": 0,
              "ticks": ""
             }
            },
            "type": "scatter3d"
           }
          ],
          "scattercarpet": [
           {
            "marker": {
             "colorbar": {
              "outlinewidth": 0,
              "ticks": ""
             }
            },
            "type": "scattercarpet"
           }
          ],
          "scattergeo": [
           {
            "marker": {
             "colorbar": {
              "outlinewidth": 0,
              "ticks": ""
             }
            },
            "type": "scattergeo"
           }
          ],
          "scattergl": [
           {
            "marker": {
             "line": {
              "color": "#283442"
             }
            },
            "type": "scattergl"
           }
          ],
          "scattermapbox": [
           {
            "marker": {
             "colorbar": {
              "outlinewidth": 0,
              "ticks": ""
             }
            },
            "type": "scattermapbox"
           }
          ],
          "scatterpolar": [
           {
            "marker": {
             "colorbar": {
              "outlinewidth": 0,
              "ticks": ""
             }
            },
            "type": "scatterpolar"
           }
          ],
          "scatterpolargl": [
           {
            "marker": {
             "colorbar": {
              "outlinewidth": 0,
              "ticks": ""
             }
            },
            "type": "scatterpolargl"
           }
          ],
          "scatterternary": [
           {
            "marker": {
             "colorbar": {
              "outlinewidth": 0,
              "ticks": ""
             }
            },
            "type": "scatterternary"
           }
          ],
          "surface": [
           {
            "colorbar": {
             "outlinewidth": 0,
             "ticks": ""
            },
            "colorscale": [
             [
              0,
              "#0d0887"
             ],
             [
              0.1111111111111111,
              "#46039f"
             ],
             [
              0.2222222222222222,
              "#7201a8"
             ],
             [
              0.3333333333333333,
              "#9c179e"
             ],
             [
              0.4444444444444444,
              "#bd3786"
             ],
             [
              0.5555555555555556,
              "#d8576b"
             ],
             [
              0.6666666666666666,
              "#ed7953"
             ],
             [
              0.7777777777777778,
              "#fb9f3a"
             ],
             [
              0.8888888888888888,
              "#fdca26"
             ],
             [
              1,
              "#f0f921"
             ]
            ],
            "type": "surface"
           }
          ],
          "table": [
           {
            "cells": {
             "fill": {
              "color": "#506784"
             },
             "line": {
              "color": "rgb(17,17,17)"
             }
            },
            "header": {
             "fill": {
              "color": "#2a3f5f"
             },
             "line": {
              "color": "rgb(17,17,17)"
             }
            },
            "type": "table"
           }
          ]
         },
         "layout": {
          "annotationdefaults": {
           "arrowcolor": "#f2f5fa",
           "arrowhead": 0,
           "arrowwidth": 1
          },
          "autotypenumbers": "strict",
          "coloraxis": {
           "colorbar": {
            "outlinewidth": 0,
            "ticks": ""
           }
          },
          "colorscale": {
           "diverging": [
            [
             0,
             "#8e0152"
            ],
            [
             0.1,
             "#c51b7d"
            ],
            [
             0.2,
             "#de77ae"
            ],
            [
             0.3,
             "#f1b6da"
            ],
            [
             0.4,
             "#fde0ef"
            ],
            [
             0.5,
             "#f7f7f7"
            ],
            [
             0.6,
             "#e6f5d0"
            ],
            [
             0.7,
             "#b8e186"
            ],
            [
             0.8,
             "#7fbc41"
            ],
            [
             0.9,
             "#4d9221"
            ],
            [
             1,
             "#276419"
            ]
           ],
           "sequential": [
            [
             0,
             "#0d0887"
            ],
            [
             0.1111111111111111,
             "#46039f"
            ],
            [
             0.2222222222222222,
             "#7201a8"
            ],
            [
             0.3333333333333333,
             "#9c179e"
            ],
            [
             0.4444444444444444,
             "#bd3786"
            ],
            [
             0.5555555555555556,
             "#d8576b"
            ],
            [
             0.6666666666666666,
             "#ed7953"
            ],
            [
             0.7777777777777778,
             "#fb9f3a"
            ],
            [
             0.8888888888888888,
             "#fdca26"
            ],
            [
             1,
             "#f0f921"
            ]
           ],
           "sequentialminus": [
            [
             0,
             "#0d0887"
            ],
            [
             0.1111111111111111,
             "#46039f"
            ],
            [
             0.2222222222222222,
             "#7201a8"
            ],
            [
             0.3333333333333333,
             "#9c179e"
            ],
            [
             0.4444444444444444,
             "#bd3786"
            ],
            [
             0.5555555555555556,
             "#d8576b"
            ],
            [
             0.6666666666666666,
             "#ed7953"
            ],
            [
             0.7777777777777778,
             "#fb9f3a"
            ],
            [
             0.8888888888888888,
             "#fdca26"
            ],
            [
             1,
             "#f0f921"
            ]
           ]
          },
          "colorway": [
           "#636efa",
           "#EF553B",
           "#00cc96",
           "#ab63fa",
           "#FFA15A",
           "#19d3f3",
           "#FF6692",
           "#B6E880",
           "#FF97FF",
           "#FECB52"
          ],
          "font": {
           "color": "#f2f5fa"
          },
          "geo": {
           "bgcolor": "rgb(17,17,17)",
           "lakecolor": "rgb(17,17,17)",
           "landcolor": "rgb(17,17,17)",
           "showlakes": true,
           "showland": true,
           "subunitcolor": "#506784"
          },
          "hoverlabel": {
           "align": "left"
          },
          "hovermode": "closest",
          "mapbox": {
           "style": "dark"
          },
          "paper_bgcolor": "rgb(17,17,17)",
          "plot_bgcolor": "rgb(17,17,17)",
          "polar": {
           "angularaxis": {
            "gridcolor": "#506784",
            "linecolor": "#506784",
            "ticks": ""
           },
           "bgcolor": "rgb(17,17,17)",
           "radialaxis": {
            "gridcolor": "#506784",
            "linecolor": "#506784",
            "ticks": ""
           }
          },
          "scene": {
           "xaxis": {
            "backgroundcolor": "rgb(17,17,17)",
            "gridcolor": "#506784",
            "gridwidth": 2,
            "linecolor": "#506784",
            "showbackground": true,
            "ticks": "",
            "zerolinecolor": "#C8D4E3"
           },
           "yaxis": {
            "backgroundcolor": "rgb(17,17,17)",
            "gridcolor": "#506784",
            "gridwidth": 2,
            "linecolor": "#506784",
            "showbackground": true,
            "ticks": "",
            "zerolinecolor": "#C8D4E3"
           },
           "zaxis": {
            "backgroundcolor": "rgb(17,17,17)",
            "gridcolor": "#506784",
            "gridwidth": 2,
            "linecolor": "#506784",
            "showbackground": true,
            "ticks": "",
            "zerolinecolor": "#C8D4E3"
           }
          },
          "shapedefaults": {
           "line": {
            "color": "#f2f5fa"
           }
          },
          "sliderdefaults": {
           "bgcolor": "#C8D4E3",
           "bordercolor": "rgb(17,17,17)",
           "borderwidth": 1,
           "tickwidth": 0
          },
          "ternary": {
           "aaxis": {
            "gridcolor": "#506784",
            "linecolor": "#506784",
            "ticks": ""
           },
           "baxis": {
            "gridcolor": "#506784",
            "linecolor": "#506784",
            "ticks": ""
           },
           "bgcolor": "rgb(17,17,17)",
           "caxis": {
            "gridcolor": "#506784",
            "linecolor": "#506784",
            "ticks": ""
           }
          },
          "title": {
           "x": 0.05
          },
          "updatemenudefaults": {
           "bgcolor": "#506784",
           "borderwidth": 0
          },
          "xaxis": {
           "automargin": true,
           "gridcolor": "#283442",
           "linecolor": "#506784",
           "ticks": "",
           "title": {
            "standoff": 15
           },
           "zerolinecolor": "#283442",
           "zerolinewidth": 2
          },
          "yaxis": {
           "automargin": true,
           "gridcolor": "#283442",
           "linecolor": "#506784",
           "ticks": "",
           "title": {
            "standoff": 15
           },
           "zerolinecolor": "#283442",
           "zerolinewidth": 2
          }
         }
        },
        "title": {
         "text": "Clustering de Clientes (Log del Total Gastado)"
        },
        "xaxis": {
         "anchor": "y",
         "domain": [
          0,
          1
         ],
         "title": {
          "text": "Log(1 + Total Gastado)"
         }
        },
        "yaxis": {
         "anchor": "x",
         "domain": [
          0,
          1
         ],
         "range": [
          0,
          5
         ],
         "title": {
          "text": "Número de Órdenes"
         }
        }
       }
      }
     },
     "metadata": {},
     "output_type": "display_data"
    },
    {
     "data": {
      "image/png": "[encoded data removed]",
      "text/plain": [
       "<Figure size 640x480 with 2 Axes>"
      ]
     },
     "metadata": {},
     "output_type": "display_data"
    }
   ],
   "source": [
    "import pandas as pd\n",
    "import numpy as np\n",
    "from sklearn.preprocessing import StandardScaler\n",
    "from sklearn.model_selection import train_test_split, StratifiedKFold, GridSearchCV\n",
    "from sklearn.linear_model import LogisticRegression\n",
    "from sklearn.metrics import classification_report, roc_auc_score, confusion_matrix, ConfusionMatrixDisplay\n",
    "from imblearn.under_sampling import RandomUnderSampler\n",
    "import plotly.express as px\n",
    "from sklearn.cluster import KMeans\n",
    "import tabulate\n",
    "\n",
    "# Asegurar que 'Created at' sea datetime\n",
    "order_total['Created at'] = pd.to_datetime(order_total['Created at'], errors='coerce')\n",
    "\n",
    "# Filtrar ventas recientes de noviembre y diciembre de 2024\n",
    "recent_sales = order_total[\n",
    "    (order_total['Created at'].dt.month.isin([10, 11, 12])) &\n",
    "    (order_total['Created at'].dt.year == 2024)\n",
    "].copy()\n",
    "\n",
    "print(f\"Total de ventas recientes: {len(recent_sales)}\")\n",
    "\n",
    "# Calcular ventas recientes y totales por producto\n",
    "recent_product_sales = recent_sales.groupby('Lineitem name').size().reset_index(name='Recent Order Count')\n",
    "historical_sales = order_total.groupby('Lineitem name').size().reset_index(name='Historical Order Count')\n",
    "\n",
    "# Combinar las ventas recientes y totales\n",
    "combined_sales = pd.merge(recent_product_sales, historical_sales, on='Lineitem name', how='outer').fillna(0)\n",
    "\n",
    "# Calcular ventas ponderadas\n",
    "combined_sales['Weighted_Order_Count'] = (\n",
    "    0.8 * combined_sales['Recent Order Count'] + \n",
    "    0.2 * combined_sales['Historical Order Count']\n",
    ")\n",
    "\n",
    "# Crear la columna 'Target' como un indicador binario\n",
    "combined_sales['Target'] = (combined_sales['Recent Order Count'] > 0).astype(int)\n",
    "\n",
    "# Dividir los datos en entrenamiento y prueba según la presencia de ventas recientes\n",
    "train_data = combined_sales[combined_sales['Recent Order Count'] == 0]\n",
    "test_data = combined_sales[combined_sales['Recent Order Count'] > 0]\n",
    "common_rows = pd.merge(train_data, test_data, on=['Lineitem name'], how='inner')\n",
    "print(f'Número de filas comunes entre entrenamiento y prueba: {len(common_rows)}')\n",
    "\n",
    "# Escalar las características\n",
    "scaler = StandardScaler()\n",
    "X = scaler.fit_transform(combined_sales[['Recent Order Count', 'Historical Order Count']])\n",
    "y = combined_sales['Target']\n",
    "\n",
    "# Verificar la distribución de las clases en 'Target'\n",
    "print(\"Distribución de Target:\", np.bincount(y))\n",
    "\n",
    "# Verificar si hay más de una clase\n",
    "if len(np.unique(y)) <= 1:\n",
    "    print(\"Error: El conjunto de datos tiene solo una clase.\")\n",
    "    print(f\"Clases encontradas: {np.unique(y)}\")\n",
    "else:\n",
    "    # Dividir los datos en entrenamiento y prueba\n",
    "    X_train_val, X_test, y_train_val, y_test = train_test_split(\n",
    "        X, y, test_size=0.2, stratify=y, random_state=42\n",
    "    )\n",
    "\n",
    "    # Dividir los datos de entrenamiento en entrenamiento y validación\n",
    "    X_train, X_val, y_train, y_val = train_test_split(\n",
    "        X_train_val, y_train_val, test_size=0.2, stratify=y_train_val, random_state=42\n",
    "    )\n",
    "\n",
    "    print(\"Distribución en y_train:\", np.bincount(y_train))\n",
    "    print(\"Distribución en y_val:\", np.bincount(y_val))\n",
    "    print(\"Distribución en y_test:\", np.bincount(y_test))\n",
    "\n",
    "    # Aplicar undersampling para balancear las clases\n",
    "    undersampler = RandomUnderSampler(random_state=42)\n",
    "    X_train_resampled, y_train_resampled = undersampler.fit_resample(X_train, y_train)\n",
    "\n",
    "    print(\"Distribución después del undersampling:\", np.bincount(y_train_resampled))\n",
    "\n",
    "    # Definir el modelo y la búsqueda de hiperparámetros\n",
    "    param_grid = {'C': [0.001, 0.01, 0.1], 'max_iter': [500]}\n",
    "    strat_kfold = StratifiedKFold(n_splits=5)\n",
    "\n",
    "    log_reg = LogisticRegression(class_weight='balanced')\n",
    "    grid_search = GridSearchCV(log_reg, param_grid, cv=strat_kfold, scoring='roc_auc', error_score='raise')\n",
    "    grid_search.fit(X_train_resampled, y_train_resampled)\n",
    "\n",
    "    best_model = grid_search.best_estimator_\n",
    "    print(f\"Mejores parámetros: {grid_search.best_params_}\")\n",
    "\n",
    "    # Evaluación en validación\n",
    "    y_val_pred = best_model.predict(X_val)\n",
    "    y_val_prob = best_model.predict_proba(X_val)[:, 1]\n",
    "    print(\"Reporte de validación:\\n\", classification_report(y_val, y_val_pred))\n",
    "    print(f\"AUC-ROC en validación: {roc_auc_score(y_val, y_val_prob):.4f}\")\n",
    "\n",
    "    # Evaluación en prueba\n",
    "    y_test_pred = best_model.predict(X_test)\n",
    "    y_test_prob = best_model.predict_proba(X_test)[:, 1]\n",
    "    print(\"Reporte de prueba:\\n\", classification_report(y_test, y_test_pred))\n",
    "    print(f\"AUC-ROC en prueba: {roc_auc_score(y_test, y_test_prob):.4f}\")\n",
    "\n",
    "    # Matriz de confusión\n",
    "    cm = confusion_matrix(y_test, y_test_pred)\n",
    "    disp = ConfusionMatrixDisplay(confusion_matrix=cm)\n",
    "    disp.plot()\n",
    "\n",
    "    # Calcular las probabilidades de predicción\n",
    "    combined_sales['Prediction_Probability'] = best_model.predict_proba(X)[:, 1]\n",
    "\n",
    "    # Mostrar los 15 productos más probables para noviembre y diciembre 2024\n",
    "    threshold = 0.6\n",
    "    top_predictions = combined_sales[combined_sales['Prediction_Probability'] > threshold]\n",
    "    top_predictions = top_predictions.sort_values(by='Prediction_Probability', ascending=False).head(15)\n",
    "\n",
    "    print(\"Top 15 productos más probables para noviembre y diciembre 2024:\")\n",
    "    formatted_table = tabulate.tabulate(\n",
    "        top_predictions[['Lineitem name', 'Prediction_Probability']],\n",
    "        headers=['Producto', 'Probabilidad de Venta'],\n",
    "        tablefmt='fancy_grid'\n",
    "    )\n",
    "    print(formatted_table)\n",
    "\n",
    "    # Agrupar ventas recientes por cliente\n",
    "    customer_data = recent_sales.groupby('Email').agg(\n",
    "        Total_Spent=('Total', 'sum'),\n",
    "        Order_Count=('Id', 'count')\n",
    "    ).reset_index()\n",
    "\n",
    "    # Aplicar logaritmo a Total_Spent\n",
    "    customer_data['Log_Total_Spent'] = np.log1p(customer_data['Total_Spent'])\n",
    "    customer_data_scaled = scaler.fit_transform(customer_data[['Log_Total_Spent', 'Order_Count']])\n",
    "\n",
    "    # Aplicar KMeans para clustering\n",
    "    kmeans = KMeans(n_clusters=3, random_state=42)\n",
    "    customer_data['Cluster'] = kmeans.fit_predict(customer_data_scaled)\n",
    "\n",
    "    # Visualizar clustering con Plotly\n",
    "    fig = px.scatter(\n",
    "        customer_data, \n",
    "        x='Log_Total_Spent', \n",
    "        y='Order_Count', \n",
    "        color='Cluster', \n",
    "        title='Clustering de Clientes (Log del Total Gastado)',\n",
    "        labels={'Log_Total_Spent': 'Log(1 + Total Gastado)', 'Order_Count': 'Número de Órdenes'},\n",
    "        hover_data=['Email'],\n",
    "        size='Order_Count',\n",
    "        size_max=12,\n",
    "        template='plotly_dark'\n",
    "    )\n",
    "\n",
    "    fig.update_traces(marker=dict(line=dict(width=2, color='DarkSlateGrey')))\n",
    "    fig.update_yaxes(range=[0, customer_data['Order_Count'].max() + 2])\n",
    "    fig.show()\n"
   ]
  },
  {
   "cell_type": "markdown",
   "metadata": {},
   "source": [
    "## Segmentacion Cliente"
   ]
  },
  {
   "cell_type": "code",
   "execution_count": 25,
   "metadata": {},
   "outputs": [
    {
     "name": "stderr",
     "output_type": "stream",
     "text": [
      "/tmp/ipykernel_12674/2336521173.py:9: FutureWarning:\n",
      "\n",
      "The default of observed=False is deprecated and will be changed to True in a future version of pandas. Pass observed=False to retain current behavior or observed=True to adopt the future default and silence this warning.\n",
      "\n"
     ]
    },
    {
     "data": {
      "application/vnd.plotly.v1+json": {
       "config": {
        "plotlyServerURL": "https://plot.ly"
       },
       "data": [
        {
         "line": {
          "color": "pink"
         },
         "marker": {
          "size": 8
         },
         "mode": "lines+markers",
         "name": "pink",
         "type": "scatter",
         "x": [
          "Monday",
          "Tuesday",
          "Wednesday",
          "Thursday",
          "Friday",
          "Saturday",
          "Sunday"
         ],
         "y": [
          24,
          35,
          35,
          40,
          36,
          41,
          28
         ]
        },
        {
         "line": {
          "color": "black"
         },
         "marker": {
          "size": 8
         },
         "mode": "lines+markers",
         "name": "black",
         "type": "scatter",
         "x": [
          "Monday",
          "Tuesday",
          "Wednesday",
          "Thursday",
          "Friday",
          "Saturday",
          "Sunday"
         ],
         "y": [
          37,
          27,
          33,
          29,
          20,
          50,
          33
         ]
        },
        {
         "line": {
          "color": "red"
         },
         "marker": {
          "size": 8
         },
         "mode": "lines+markers",
         "name": "red",
         "type": "scatter",
         "x": [
          "Monday",
          "Tuesday",
          "Wednesday",
          "Thursday",
          "Friday",
          "Saturday",
          "Sunday"
         ],
         "y": [
          21,
          15,
          23,
          20,
          13,
          43,
          26
         ]
        },
        {
         "line": {
          "color": "white",
          "width": 3
         },
         "marker": {
          "line": {
           "color": "black",
           "width": 2
          },
          "size": 10
         },
         "mode": "lines+markers",
         "name": "white",
         "type": "scatter",
         "x": [
          "Monday",
          "Tuesday",
          "Wednesday",
          "Thursday",
          "Friday",
          "Saturday",
          "Sunday"
         ],
         "y": [
          11,
          11,
          13,
          13,
          16,
          25,
          15
         ]
        },
        {
         "line": {
          "color": "green"
         },
         "marker": {
          "size": 8
         },
         "mode": "lines+markers",
         "name": "green",
         "type": "scatter",
         "x": [
          "Monday",
          "Tuesday",
          "Wednesday",
          "Thursday",
          "Friday",
          "Saturday",
          "Sunday"
         ],
         "y": [
          11,
          12,
          17,
          12,
          10,
          24,
          17
         ]
        }
       ],
       "layout": {
        "font": {
         "color": "black"
        },
        "legend": {
         "bgcolor": "rgba(0,0,0,0)",
         "font": {
          "color": "black"
         },
         "title": {
          "text": "Colors"
         }
        },
        "paper_bgcolor": "white",
        "plot_bgcolor": "rgba(50, 50, 50, 0.8)",
        "template": {
         "data": {
          "bar": [
           {
            "error_x": {
             "color": "#2a3f5f"
            },
            "error_y": {
             "color": "#2a3f5f"
            },
            "marker": {
             "line": {
              "color": "#E5ECF6",
              "width": 0.5
             },
             "pattern": {
              "fillmode": "overlay",
              "size": 10,
              "solidity": 0.2
             }
            },
            "type": "bar"
           }
          ],
          "barpolar": [
           {
            "marker": {
             "line": {
              "color": "#E5ECF6",
              "width": 0.5
             },
             "pattern": {
              "fillmode": "overlay",
              "size": 10,
              "solidity": 0.2
             }
            },
            "type": "barpolar"
           }
          ],
          "carpet": [
           {
            "aaxis": {
             "endlinecolor": "#2a3f5f",
             "gridcolor": "white",
             "linecolor": "white",
             "minorgridcolor": "white",
             "startlinecolor": "#2a3f5f"
            },
            "baxis": {
             "endlinecolor": "#2a3f5f",
             "gridcolor": "white",
             "linecolor": "white",
             "minorgridcolor": "white",
             "startlinecolor": "#2a3f5f"
            },
            "type": "carpet"
           }
          ],
          "choropleth": [
           {
            "colorbar": {
             "outlinewidth": 0,
             "ticks": ""
            },
            "type": "choropleth"
           }
          ],
          "contour": [
           {
            "colorbar": {
             "outlinewidth": 0,
             "ticks": ""
            },
            "colorscale": [
             [
              0,
              "#0d0887"
             ],
             [
              0.1111111111111111,
              "#46039f"
             ],
             [
              0.2222222222222222,
              "#7201a8"
             ],
             [
              0.3333333333333333,
              "#9c179e"
             ],
             [
              0.4444444444444444,
              "#bd3786"
             ],
             [
              0.5555555555555556,
              "#d8576b"
             ],
             [
              0.6666666666666666,
              "#ed7953"
             ],
             [
              0.7777777777777778,
              "#fb9f3a"
             ],
             [
              0.8888888888888888,
              "#fdca26"
             ],
             [
              1,
              "#f0f921"
             ]
            ],
            "type": "contour"
           }
          ],
          "contourcarpet": [
           {
            "colorbar": {
             "outlinewidth": 0,
             "ticks": ""
            },
            "type": "contourcarpet"
           }
          ],
          "heatmap": [
           {
            "colorbar": {
             "outlinewidth": 0,
             "ticks": ""
            },
            "colorscale": [
             [
              0,
              "#0d0887"
             ],
             [
              0.1111111111111111,
              "#46039f"
             ],
             [
              0.2222222222222222,
              "#7201a8"
             ],
             [
              0.3333333333333333,
              "#9c179e"
             ],
             [
              0.4444444444444444,
              "#bd3786"
             ],
             [
              0.5555555555555556,
              "#d8576b"
             ],
             [
              0.6666666666666666,
              "#ed7953"
             ],
             [
              0.7777777777777778,
              "#fb9f3a"
             ],
             [
              0.8888888888888888,
              "#fdca26"
             ],
             [
              1,
              "#f0f921"
             ]
            ],
            "type": "heatmap"
           }
          ],
          "heatmapgl": [
           {
            "colorbar": {
             "outlinewidth": 0,
             "ticks": ""
            },
            "colorscale": [
             [
              0,
              "#0d0887"
             ],
             [
              0.1111111111111111,
              "#46039f"
             ],
             [
              0.2222222222222222,
              "#7201a8"
             ],
             [
              0.3333333333333333,
              "#9c179e"
             ],
             [
              0.4444444444444444,
              "#bd3786"
             ],
             [
              0.5555555555555556,
              "#d8576b"
             ],
             [
              0.6666666666666666,
              "#ed7953"
             ],
             [
              0.7777777777777778,
              "#fb9f3a"
             ],
             [
              0.8888888888888888,
              "#fdca26"
             ],
             [
              1,
              "#f0f921"
             ]
            ],
            "type": "heatmapgl"
           }
          ],
          "histogram": [
           {
            "marker": {
             "pattern": {
              "fillmode": "overlay",
              "size": 10,
              "solidity": 0.2
             }
            },
            "type": "histogram"
           }
          ],
          "histogram2d": [
           {
            "colorbar": {
             "outlinewidth": 0,
             "ticks": ""
            },
            "colorscale": [
             [
              0,
              "#0d0887"
             ],
             [
              0.1111111111111111,
              "#46039f"
             ],
             [
              0.2222222222222222,
              "#7201a8"
             ],
             [
              0.3333333333333333,
              "#9c179e"
             ],
             [
              0.4444444444444444,
              "#bd3786"
             ],
             [
              0.5555555555555556,
              "#d8576b"
             ],
             [
              0.6666666666666666,
              "#ed7953"
             ],
             [
              0.7777777777777778,
              "#fb9f3a"
             ],
             [
              0.8888888888888888,
              "#fdca26"
             ],
             [
              1,
              "#f0f921"
             ]
            ],
            "type": "histogram2d"
           }
          ],
          "histogram2dcontour": [
           {
            "colorbar": {
             "outlinewidth": 0,
             "ticks": ""
            },
            "colorscale": [
             [
              0,
              "#0d0887"
             ],
             [
              0.1111111111111111,
              "#46039f"
             ],
             [
              0.2222222222222222,
              "#7201a8"
             ],
             [
              0.3333333333333333,
              "#9c179e"
             ],
             [
              0.4444444444444444,
              "#bd3786"
             ],
             [
              0.5555555555555556,
              "#d8576b"
             ],
             [
              0.6666666666666666,
              "#ed7953"
             ],
             [
              0.7777777777777778,
              "#fb9f3a"
             ],
             [
              0.8888888888888888,
              "#fdca26"
             ],
             [
              1,
              "#f0f921"
             ]
            ],
            "type": "histogram2dcontour"
           }
          ],
          "mesh3d": [
           {
            "colorbar": {
             "outlinewidth": 0,
             "ticks": ""
            },
            "type": "mesh3d"
           }
          ],
          "parcoords": [
           {
            "line": {
             "colorbar": {
              "outlinewidth": 0,
              "ticks": ""
             }
            },
            "type": "parcoords"
           }
          ],
          "pie": [
           {
            "automargin": true,
            "type": "pie"
           }
          ],
          "scatter": [
           {
            "fillpattern": {
             "fillmode": "overlay",
             "size": 10,
             "solidity": 0.2
            },
            "type": "scatter"
           }
          ],
          "scatter3d": [
           {
            "line": {
             "colorbar": {
              "outlinewidth": 0,
              "ticks": ""
             }
            },
            "marker": {
             "colorbar": {
              "outlinewidth": 0,
              "ticks": ""
             }
            },
            "type": "scatter3d"
           }
          ],
          "scattercarpet": [
           {
            "marker": {
             "colorbar": {
              "outlinewidth": 0,
              "ticks": ""
             }
            },
            "type": "scattercarpet"
           }
          ],
          "scattergeo": [
           {
            "marker": {
             "colorbar": {
              "outlinewidth": 0,
              "ticks": ""
             }
            },
            "type": "scattergeo"
           }
          ],
          "scattergl": [
           {
            "marker": {
             "colorbar": {
              "outlinewidth": 0,
              "ticks": ""
             }
            },
            "type": "scattergl"
           }
          ],
          "scattermapbox": [
           {
            "marker": {
             "colorbar": {
              "outlinewidth": 0,
              "ticks": ""
             }
            },
            "type": "scattermapbox"
           }
          ],
          "scatterpolar": [
           {
            "marker": {
             "colorbar": {
              "outlinewidth": 0,
              "ticks": ""
             }
            },
            "type": "scatterpolar"
           }
          ],
          "scatterpolargl": [
           {
            "marker": {
             "colorbar": {
              "outlinewidth": 0,
              "ticks": ""
             }
            },
            "type": "scatterpolargl"
           }
          ],
          "scatterternary": [
           {
            "marker": {
             "colorbar": {
              "outlinewidth": 0,
              "ticks": ""
             }
            },
            "type": "scatterternary"
           }
          ],
          "surface": [
           {
            "colorbar": {
             "outlinewidth": 0,
             "ticks": ""
            },
            "colorscale": [
             [
              0,
              "#0d0887"
             ],
             [
              0.1111111111111111,
              "#46039f"
             ],
             [
              0.2222222222222222,
              "#7201a8"
             ],
             [
              0.3333333333333333,
              "#9c179e"
             ],
             [
              0.4444444444444444,
              "#bd3786"
             ],
             [
              0.5555555555555556,
              "#d8576b"
             ],
             [
              0.6666666666666666,
              "#ed7953"
             ],
             [
              0.7777777777777778,
              "#fb9f3a"
             ],
             [
              0.8888888888888888,
              "#fdca26"
             ],
             [
              1,
              "#f0f921"
             ]
            ],
            "type": "surface"
           }
          ],
          "table": [
           {
            "cells": {
             "fill": {
              "color": "#EBF0F8"
             },
             "line": {
              "color": "white"
             }
            },
            "header": {
             "fill": {
              "color": "#C8D4E3"
             },
             "line": {
              "color": "white"
             }
            },
            "type": "table"
           }
          ]
         },
         "layout": {
          "annotationdefaults": {
           "arrowcolor": "#2a3f5f",
           "arrowhead": 0,
           "arrowwidth": 1
          },
          "autotypenumbers": "strict",
          "coloraxis": {
           "colorbar": {
            "outlinewidth": 0,
            "ticks": ""
           }
          },
          "colorscale": {
           "diverging": [
            [
             0,
             "#8e0152"
            ],
            [
             0.1,
             "#c51b7d"
            ],
            [
             0.2,
             "#de77ae"
            ],
            [
             0.3,
             "#f1b6da"
            ],
            [
             0.4,
             "#fde0ef"
            ],
            [
             0.5,
             "#f7f7f7"
            ],
            [
             0.6,
             "#e6f5d0"
            ],
            [
             0.7,
             "#b8e186"
            ],
            [
             0.8,
             "#7fbc41"
            ],
            [
             0.9,
             "#4d9221"
            ],
            [
             1,
             "#276419"
            ]
           ],
           "sequential": [
            [
             0,
             "#0d0887"
            ],
            [
             0.1111111111111111,
             "#46039f"
            ],
            [
             0.2222222222222222,
             "#7201a8"
            ],
            [
             0.3333333333333333,
             "#9c179e"
            ],
            [
             0.4444444444444444,
             "#bd3786"
            ],
            [
             0.5555555555555556,
             "#d8576b"
            ],
            [
             0.6666666666666666,
             "#ed7953"
            ],
            [
             0.7777777777777778,
             "#fb9f3a"
            ],
            [
             0.8888888888888888,
             "#fdca26"
            ],
            [
             1,
             "#f0f921"
            ]
           ],
           "sequentialminus": [
            [
             0,
             "#0d0887"
            ],
            [
             0.1111111111111111,
             "#46039f"
            ],
            [
             0.2222222222222222,
             "#7201a8"
            ],
            [
             0.3333333333333333,
             "#9c179e"
            ],
            [
             0.4444444444444444,
             "#bd3786"
            ],
            [
             0.5555555555555556,
             "#d8576b"
            ],
            [
             0.6666666666666666,
             "#ed7953"
            ],
            [
             0.7777777777777778,
             "#fb9f3a"
            ],
            [
             0.8888888888888888,
             "#fdca26"
            ],
            [
             1,
             "#f0f921"
            ]
           ]
          },
          "colorway": [
           "#636efa",
           "#EF553B",
           "#00cc96",
           "#ab63fa",
           "#FFA15A",
           "#19d3f3",
           "#FF6692",
           "#B6E880",
           "#FF97FF",
           "#FECB52"
          ],
          "font": {
           "color": "#2a3f5f"
          },
          "geo": {
           "bgcolor": "white",
           "lakecolor": "white",
           "landcolor": "#E5ECF6",
           "showlakes": true,
           "showland": true,
           "subunitcolor": "white"
          },
          "hoverlabel": {
           "align": "left"
          },
          "hovermode": "closest",
          "mapbox": {
           "style": "light"
          },
          "paper_bgcolor": "white",
          "plot_bgcolor": "#E5ECF6",
          "polar": {
           "angularaxis": {
            "gridcolor": "white",
            "linecolor": "white",
            "ticks": ""
           },
           "bgcolor": "#E5ECF6",
           "radialaxis": {
            "gridcolor": "white",
            "linecolor": "white",
            "ticks": ""
           }
          },
          "scene": {
           "xaxis": {
            "backgroundcolor": "#E5ECF6",
            "gridcolor": "white",
            "gridwidth": 2,
            "linecolor": "white",
            "showbackground": true,
            "ticks": "",
            "zerolinecolor": "white"
           },
           "yaxis": {
            "backgroundcolor": "#E5ECF6",
            "gridcolor": "white",
            "gridwidth": 2,
            "linecolor": "white",
            "showbackground": true,
            "ticks": "",
            "zerolinecolor": "white"
           },
           "zaxis": {
            "backgroundcolor": "#E5ECF6",
            "gridcolor": "white",
            "gridwidth": 2,
            "linecolor": "white",
            "showbackground": true,
            "ticks": "",
            "zerolinecolor": "white"
           }
          },
          "shapedefaults": {
           "line": {
            "color": "#2a3f5f"
           }
          },
          "ternary": {
           "aaxis": {
            "gridcolor": "white",
            "linecolor": "white",
            "ticks": ""
           },
           "baxis": {
            "gridcolor": "white",
            "linecolor": "white",
            "ticks": ""
           },
           "bgcolor": "#E5ECF6",
           "caxis": {
            "gridcolor": "white",
            "linecolor": "white",
            "ticks": ""
           }
          },
          "title": {
           "x": 0.05
          },
          "xaxis": {
           "automargin": true,
           "gridcolor": "white",
           "linecolor": "white",
           "ticks": "",
           "title": {
            "standoff": 15
           },
           "zerolinecolor": "white",
           "zerolinewidth": 2
          },
          "yaxis": {
           "automargin": true,
           "gridcolor": "white",
           "linecolor": "white",
           "ticks": "",
           "title": {
            "standoff": 15
           },
           "zerolinecolor": "white",
           "zerolinewidth": 2
          }
         }
        },
        "title": {
         "text": "Top 5 Colors - November 2023"
        },
        "xaxis": {
         "categoryarray": [
          "Monday",
          "Tuesday",
          "Wednesday",
          "Thursday",
          "Friday",
          "Saturday",
          "Sunday"
         ],
         "categoryorder": "array",
         "color": "black",
         "gridcolor": "rgba(255, 255, 255, 0.2)",
         "title": {
          "text": "Day of the Week"
         }
        },
        "yaxis": {
         "color": "black",
         "gridcolor": "rgba(255, 255, 255, 0.2)",
         "title": {
          "text": "Frequency"
         }
        }
       }
      }
     },
     "metadata": {},
     "output_type": "display_data"
    }
   ],
   "source": [
    "def generate_top5_chart(df, month):\n",
    "    \n",
    "    df_month = df[df['Created at'].dt.month_name() == month]\n",
    "    \n",
    "    top5_colors = df_month['Extracted_Colors'].value_counts().nlargest(5).index\n",
    "    \n",
    "    df_month_top5 = df_month[df_month['Extracted_Colors'].isin(top5_colors)]\n",
    "    \n",
    "    weekly_frequency = df_month_top5.groupby(['Day_Of_Week', 'Extracted_Colors']).size().reset_index(name='Frequency')\n",
    "    \n",
    "    fig = go.Figure()\n",
    "    \n",
    "    for color in top5_colors:\n",
    "        color_data = weekly_frequency[weekly_frequency['Extracted_Colors'] == color]\n",
    "        \n",
    "        if color.lower() == 'white':\n",
    "            fig.add_trace(\n",
    "                go.Scatter(\n",
    "                    x=color_data['Day_Of_Week'],\n",
    "                    y=color_data['Frequency'],\n",
    "                    mode='lines+markers',\n",
    "                    name=color,\n",
    "                    line=dict(color='white', width=3),  # Línea más gruesa\n",
    "                    marker=dict(size=10, line=dict(color='black', width=2))  # Marcadores con borde negro\n",
    "                )\n",
    "            )\n",
    "        else:\n",
    "            fig.add_trace(\n",
    "                go.Scatter(\n",
    "                    x=color_data['Day_Of_Week'],\n",
    "                    y=color_data['Frequency'],\n",
    "                    mode='lines+markers',\n",
    "                    name=color,\n",
    "                    line=dict(color=color.lower()),\n",
    "                    marker=dict(size=8)\n",
    "                )\n",
    "            )\n",
    "        \n",
    "    fig.update_layout(\n",
    "        plot_bgcolor='rgba(50, 50, 50, 0.8)',  # Fondo más oscuro\n",
    "        paper_bgcolor='white',  # Fondo del papel más oscuro\n",
    "        title=f'Top 5 Colors - {month} 2023',\n",
    "        xaxis_title='Day of the Week',\n",
    "        yaxis_title='Frequency',\n",
    "        legend_title='Colors',\n",
    "        xaxis=dict(\n",
    "            categoryorder='array', \n",
    "            categoryarray=ordered_days,\n",
    "            gridcolor='rgba(255, 255, 255, 0.2)',  # Líneas de la cuadrícula en blanco transparente\n",
    "            color='black'  # Color del texto del eje\n",
    "        ),\n",
    "        yaxis=dict(\n",
    "            gridcolor='rgba(255, 255, 255, 0.2)',  # Líneas de la cuadrícula en blanco transparente\n",
    "            color='black'  # Color del texto del eje\n",
    "        ),\n",
    "        font=dict(color='black'),  # Texto en negro\n",
    "        legend=dict(\n",
    "            font=dict(color='black'),  # Texto de la leyenda en negro\n",
    "            bgcolor='rgba(0,0,0,0)'  # Fondo transparente de la leyenda\n",
    "        )\n",
    "    )\n",
    "\n",
    "    fig.show()\n",
    "\n",
    "generate_top5_chart(df_exploded, 'November')"
   ]
  },
  {
   "cell_type": "code",
   "execution_count": 26,
   "metadata": {},
   "outputs": [
    {
     "name": "stderr",
     "output_type": "stream",
     "text": [
      "/tmp/ipykernel_12674/2226766143.py:27: FutureWarning:\n",
      "\n",
      "The default of observed=False is deprecated and will be changed to True in a future version of pandas. Pass observed=False to retain current behavior or observed=True to adopt the future default and silence this warning.\n",
      "\n"
     ]
    },
    {
     "data": {
      "application/vnd.plotly.v1+json": {
       "config": {
        "plotlyServerURL": "https://plot.ly"
       },
       "data": [
        {
         "line": {
          "color": "black"
         },
         "marker": {
          "size": 8
         },
         "mode": "lines+markers",
         "name": "black",
         "type": "scatter",
         "x": [
          "Monday",
          "Tuesday",
          "Wednesday",
          "Thursday",
          "Friday",
          "Saturday",
          "Sunday"
         ],
         "y": [
          23,
          10,
          20,
          22,
          19,
          59,
          20
         ]
        },
        {
         "line": {
          "color": "pink"
         },
         "marker": {
          "size": 8
         },
         "mode": "lines+markers",
         "name": "pink",
         "type": "scatter",
         "x": [
          "Monday",
          "Tuesday",
          "Wednesday",
          "Thursday",
          "Friday",
          "Saturday",
          "Sunday"
         ],
         "y": [
          13,
          7,
          14,
          11,
          23,
          24,
          18
         ]
        },
        {
         "line": {
          "color": "green"
         },
         "marker": {
          "size": 8
         },
         "mode": "lines+markers",
         "name": "green",
         "type": "scatter",
         "x": [
          "Monday",
          "Tuesday",
          "Wednesday",
          "Thursday",
          "Friday",
          "Saturday",
          "Sunday"
         ],
         "y": [
          9,
          4,
          8,
          18,
          14,
          19,
          13
         ]
        },
        {
         "line": {
          "color": "gold"
         },
         "marker": {
          "size": 8
         },
         "mode": "lines+markers",
         "name": "gold",
         "type": "scatter",
         "x": [
          "Monday",
          "Tuesday",
          "Wednesday",
          "Thursday",
          "Friday",
          "Saturday",
          "Sunday"
         ],
         "y": [
          26,
          7,
          10,
          5,
          6,
          20,
          10
         ]
        },
        {
         "line": {
          "color": "red"
         },
         "marker": {
          "size": 8
         },
         "mode": "lines+markers",
         "name": "red",
         "type": "scatter",
         "x": [
          "Monday",
          "Tuesday",
          "Wednesday",
          "Thursday",
          "Friday",
          "Saturday",
          "Sunday"
         ],
         "y": [
          9,
          5,
          5,
          11,
          12,
          19,
          10
         ]
        }
       ],
       "layout": {
        "font": {
         "color": "black"
        },
        "legend": {
         "bgcolor": "rgba(0,0,0,0)",
         "font": {
          "color": "black"
         },
         "title": {
          "text": "Colors"
         }
        },
        "paper_bgcolor": "white",
        "plot_bgcolor": "rgba(50, 50, 50, 0.8)",
        "template": {
         "data": {
          "bar": [
           {
            "error_x": {
             "color": "#2a3f5f"
            },
            "error_y": {
             "color": "#2a3f5f"
            },
            "marker": {
             "line": {
              "color": "#E5ECF6",
              "width": 0.5
             },
             "pattern": {
              "fillmode": "overlay",
              "size": 10,
              "solidity": 0.2
             }
            },
            "type": "bar"
           }
          ],
          "barpolar": [
           {
            "marker": {
             "line": {
              "color": "#E5ECF6",
              "width": 0.5
             },
             "pattern": {
              "fillmode": "overlay",
              "size": 10,
              "solidity": 0.2
             }
            },
            "type": "barpolar"
           }
          ],
          "carpet": [
           {
            "aaxis": {
             "endlinecolor": "#2a3f5f",
             "gridcolor": "white",
             "linecolor": "white",
             "minorgridcolor": "white",
             "startlinecolor": "#2a3f5f"
            },
            "baxis": {
             "endlinecolor": "#2a3f5f",
             "gridcolor": "white",
             "linecolor": "white",
             "minorgridcolor": "white",
             "startlinecolor": "#2a3f5f"
            },
            "type": "carpet"
           }
          ],
          "choropleth": [
           {
            "colorbar": {
             "outlinewidth": 0,
             "ticks": ""
            },
            "type": "choropleth"
           }
          ],
          "contour": [
           {
            "colorbar": {
             "outlinewidth": 0,
             "ticks": ""
            },
            "colorscale": [
             [
              0,
              "#0d0887"
             ],
             [
              0.1111111111111111,
              "#46039f"
             ],
             [
              0.2222222222222222,
              "#7201a8"
             ],
             [
              0.3333333333333333,
              "#9c179e"
             ],
             [
              0.4444444444444444,
              "#bd3786"
             ],
             [
              0.5555555555555556,
              "#d8576b"
             ],
             [
              0.6666666666666666,
              "#ed7953"
             ],
             [
              0.7777777777777778,
              "#fb9f3a"
             ],
             [
              0.8888888888888888,
              "#fdca26"
             ],
             [
              1,
              "#f0f921"
             ]
            ],
            "type": "contour"
           }
          ],
          "contourcarpet": [
           {
            "colorbar": {
             "outlinewidth": 0,
             "ticks": ""
            },
            "type": "contourcarpet"
           }
          ],
          "heatmap": [
           {
            "colorbar": {
             "outlinewidth": 0,
             "ticks": ""
            },
            "colorscale": [
             [
              0,
              "#0d0887"
             ],
             [
              0.1111111111111111,
              "#46039f"
             ],
             [
              0.2222222222222222,
              "#7201a8"
             ],
             [
              0.3333333333333333,
              "#9c179e"
             ],
             [
              0.4444444444444444,
              "#bd3786"
             ],
             [
              0.5555555555555556,
              "#d8576b"
             ],
             [
              0.6666666666666666,
              "#ed7953"
             ],
             [
              0.7777777777777778,
              "#fb9f3a"
             ],
             [
              0.8888888888888888,
              "#fdca26"
             ],
             [
              1,
              "#f0f921"
             ]
            ],
            "type": "heatmap"
           }
          ],
          "heatmapgl": [
           {
            "colorbar": {
             "outlinewidth": 0,
             "ticks": ""
            },
            "colorscale": [
             [
              0,
              "#0d0887"
             ],
             [
              0.1111111111111111,
              "#46039f"
             ],
             [
              0.2222222222222222,
              "#7201a8"
             ],
             [
              0.3333333333333333,
              "#9c179e"
             ],
             [
              0.4444444444444444,
              "#bd3786"
             ],
             [
              0.5555555555555556,
              "#d8576b"
             ],
             [
              0.6666666666666666,
              "#ed7953"
             ],
             [
              0.7777777777777778,
              "#fb9f3a"
             ],
             [
              0.8888888888888888,
              "#fdca26"
             ],
             [
              1,
              "#f0f921"
             ]
            ],
            "type": "heatmapgl"
           }
          ],
          "histogram": [
           {
            "marker": {
             "pattern": {
              "fillmode": "overlay",
              "size": 10,
              "solidity": 0.2
             }
            },
            "type": "histogram"
           }
          ],
          "histogram2d": [
           {
            "colorbar": {
             "outlinewidth": 0,
             "ticks": ""
            },
            "colorscale": [
             [
              0,
              "#0d0887"
             ],
             [
              0.1111111111111111,
              "#46039f"
             ],
             [
              0.2222222222222222,
              "#7201a8"
             ],
             [
              0.3333333333333333,
              "#9c179e"
             ],
             [
              0.4444444444444444,
              "#bd3786"
             ],
             [
              0.5555555555555556,
              "#d8576b"
             ],
             [
              0.6666666666666666,
              "#ed7953"
             ],
             [
              0.7777777777777778,
              "#fb9f3a"
             ],
             [
              0.8888888888888888,
              "#fdca26"
             ],
             [
              1,
              "#f0f921"
             ]
            ],
            "type": "histogram2d"
           }
          ],
          "histogram2dcontour": [
           {
            "colorbar": {
             "outlinewidth": 0,
             "ticks": ""
            },
            "colorscale": [
             [
              0,
              "#0d0887"
             ],
             [
              0.1111111111111111,
              "#46039f"
             ],
             [
              0.2222222222222222,
              "#7201a8"
             ],
             [
              0.3333333333333333,
              "#9c179e"
             ],
             [
              0.4444444444444444,
              "#bd3786"
             ],
             [
              0.5555555555555556,
              "#d8576b"
             ],
             [
              0.6666666666666666,
              "#ed7953"
             ],
             [
              0.7777777777777778,
              "#fb9f3a"
             ],
             [
              0.8888888888888888,
              "#fdca26"
             ],
             [
              1,
              "#f0f921"
             ]
            ],
            "type": "histogram2dcontour"
           }
          ],
          "mesh3d": [
           {
            "colorbar": {
             "outlinewidth": 0,
             "ticks": ""
            },
            "type": "mesh3d"
           }
          ],
          "parcoords": [
           {
            "line": {
             "colorbar": {
              "outlinewidth": 0,
              "ticks": ""
             }
            },
            "type": "parcoords"
           }
          ],
          "pie": [
           {
            "automargin": true,
            "type": "pie"
           }
          ],
          "scatter": [
           {
            "fillpattern": {
             "fillmode": "overlay",
             "size": 10,
             "solidity": 0.2
            },
            "type": "scatter"
           }
          ],
          "scatter3d": [
           {
            "line": {
             "colorbar": {
              "outlinewidth": 0,
              "ticks": ""
             }
            },
            "marker": {
             "colorbar": {
              "outlinewidth": 0,
              "ticks": ""
             }
            },
            "type": "scatter3d"
           }
          ],
          "scattercarpet": [
           {
            "marker": {
             "colorbar": {
              "outlinewidth": 0,
              "ticks": ""
             }
            },
            "type": "scattercarpet"
           }
          ],
          "scattergeo": [
           {
            "marker": {
             "colorbar": {
              "outlinewidth": 0,
              "ticks": ""
             }
            },
            "type": "scattergeo"
           }
          ],
          "scattergl": [
           {
            "marker": {
             "colorbar": {
              "outlinewidth": 0,
              "ticks": ""
             }
            },
            "type": "scattergl"
           }
          ],
          "scattermapbox": [
           {
            "marker": {
             "colorbar": {
              "outlinewidth": 0,
              "ticks": ""
             }
            },
            "type": "scattermapbox"
           }
          ],
          "scatterpolar": [
           {
            "marker": {
             "colorbar": {
              "outlinewidth": 0,
              "ticks": ""
             }
            },
            "type": "scatterpolar"
           }
          ],
          "scatterpolargl": [
           {
            "marker": {
             "colorbar": {
              "outlinewidth": 0,
              "ticks": ""
             }
            },
            "type": "scatterpolargl"
           }
          ],
          "scatterternary": [
           {
            "marker": {
             "colorbar": {
              "outlinewidth": 0,
              "ticks": ""
             }
            },
            "type": "scatterternary"
           }
          ],
          "surface": [
           {
            "colorbar": {
             "outlinewidth": 0,
             "ticks": ""
            },
            "colorscale": [
             [
              0,
              "#0d0887"
             ],
             [
              0.1111111111111111,
              "#46039f"
             ],
             [
              0.2222222222222222,
              "#7201a8"
             ],
             [
              0.3333333333333333,
              "#9c179e"
             ],
             [
              0.4444444444444444,
              "#bd3786"
             ],
             [
              0.5555555555555556,
              "#d8576b"
             ],
             [
              0.6666666666666666,
              "#ed7953"
             ],
             [
              0.7777777777777778,
              "#fb9f3a"
             ],
             [
              0.8888888888888888,
              "#fdca26"
             ],
             [
              1,
              "#f0f921"
             ]
            ],
            "type": "surface"
           }
          ],
          "table": [
           {
            "cells": {
             "fill": {
              "color": "#EBF0F8"
             },
             "line": {
              "color": "white"
             }
            },
            "header": {
             "fill": {
              "color": "#C8D4E3"
             },
             "line": {
              "color": "white"
             }
            },
            "type": "table"
           }
          ]
         },
         "layout": {
          "annotationdefaults": {
           "arrowcolor": "#2a3f5f",
           "arrowhead": 0,
           "arrowwidth": 1
          },
          "autotypenumbers": "strict",
          "coloraxis": {
           "colorbar": {
            "outlinewidth": 0,
            "ticks": ""
           }
          },
          "colorscale": {
           "diverging": [
            [
             0,
             "#8e0152"
            ],
            [
             0.1,
             "#c51b7d"
            ],
            [
             0.2,
             "#de77ae"
            ],
            [
             0.3,
             "#f1b6da"
            ],
            [
             0.4,
             "#fde0ef"
            ],
            [
             0.5,
             "#f7f7f7"
            ],
            [
             0.6,
             "#e6f5d0"
            ],
            [
             0.7,
             "#b8e186"
            ],
            [
             0.8,
             "#7fbc41"
            ],
            [
             0.9,
             "#4d9221"
            ],
            [
             1,
             "#276419"
            ]
           ],
           "sequential": [
            [
             0,
             "#0d0887"
            ],
            [
             0.1111111111111111,
             "#46039f"
            ],
            [
             0.2222222222222222,
             "#7201a8"
            ],
            [
             0.3333333333333333,
             "#9c179e"
            ],
            [
             0.4444444444444444,
             "#bd3786"
            ],
            [
             0.5555555555555556,
             "#d8576b"
            ],
            [
             0.6666666666666666,
             "#ed7953"
            ],
            [
             0.7777777777777778,
             "#fb9f3a"
            ],
            [
             0.8888888888888888,
             "#fdca26"
            ],
            [
             1,
             "#f0f921"
            ]
           ],
           "sequentialminus": [
            [
             0,
             "#0d0887"
            ],
            [
             0.1111111111111111,
             "#46039f"
            ],
            [
             0.2222222222222222,
             "#7201a8"
            ],
            [
             0.3333333333333333,
             "#9c179e"
            ],
            [
             0.4444444444444444,
             "#bd3786"
            ],
            [
             0.5555555555555556,
             "#d8576b"
            ],
            [
             0.6666666666666666,
             "#ed7953"
            ],
            [
             0.7777777777777778,
             "#fb9f3a"
            ],
            [
             0.8888888888888888,
             "#fdca26"
            ],
            [
             1,
             "#f0f921"
            ]
           ]
          },
          "colorway": [
           "#636efa",
           "#EF553B",
           "#00cc96",
           "#ab63fa",
           "#FFA15A",
           "#19d3f3",
           "#FF6692",
           "#B6E880",
           "#FF97FF",
           "#FECB52"
          ],
          "font": {
           "color": "#2a3f5f"
          },
          "geo": {
           "bgcolor": "white",
           "lakecolor": "white",
           "landcolor": "#E5ECF6",
           "showlakes": true,
           "showland": true,
           "subunitcolor": "white"
          },
          "hoverlabel": {
           "align": "left"
          },
          "hovermode": "closest",
          "mapbox": {
           "style": "light"
          },
          "paper_bgcolor": "white",
          "plot_bgcolor": "#E5ECF6",
          "polar": {
           "angularaxis": {
            "gridcolor": "white",
            "linecolor": "white",
            "ticks": ""
           },
           "bgcolor": "#E5ECF6",
           "radialaxis": {
            "gridcolor": "white",
            "linecolor": "white",
            "ticks": ""
           }
          },
          "scene": {
           "xaxis": {
            "backgroundcolor": "#E5ECF6",
            "gridcolor": "white",
            "gridwidth": 2,
            "linecolor": "white",
            "showbackground": true,
            "ticks": "",
            "zerolinecolor": "white"
           },
           "yaxis": {
            "backgroundcolor": "#E5ECF6",
            "gridcolor": "white",
            "gridwidth": 2,
            "linecolor": "white",
            "showbackground": true,
            "ticks": "",
            "zerolinecolor": "white"
           },
           "zaxis": {
            "backgroundcolor": "#E5ECF6",
            "gridcolor": "white",
            "gridwidth": 2,
            "linecolor": "white",
            "showbackground": true,
            "ticks": "",
            "zerolinecolor": "white"
           }
          },
          "shapedefaults": {
           "line": {
            "color": "#2a3f5f"
           }
          },
          "ternary": {
           "aaxis": {
            "gridcolor": "white",
            "linecolor": "white",
            "ticks": ""
           },
           "baxis": {
            "gridcolor": "white",
            "linecolor": "white",
            "ticks": ""
           },
           "bgcolor": "#E5ECF6",
           "caxis": {
            "gridcolor": "white",
            "linecolor": "white",
            "ticks": ""
           }
          },
          "title": {
           "x": 0.05
          },
          "xaxis": {
           "automargin": true,
           "gridcolor": "white",
           "linecolor": "white",
           "ticks": "",
           "title": {
            "standoff": 15
           },
           "zerolinecolor": "white",
           "zerolinewidth": 2
          },
          "yaxis": {
           "automargin": true,
           "gridcolor": "white",
           "linecolor": "white",
           "ticks": "",
           "title": {
            "standoff": 15
           },
           "zerolinecolor": "white",
           "zerolinewidth": 2
          }
         }
        },
        "title": {
         "text": "Top 5 Colors - December 2023"
        },
        "xaxis": {
         "categoryarray": [
          "Monday",
          "Tuesday",
          "Wednesday",
          "Thursday",
          "Friday",
          "Saturday",
          "Sunday"
         ],
         "categoryorder": "array",
         "color": "black",
         "gridcolor": "rgba(255, 255, 255, 0.2)",
         "title": {
          "text": "Day of the Week"
         }
        },
        "yaxis": {
         "color": "black",
         "gridcolor": "rgba(255, 255, 255, 0.2)",
         "title": {
          "text": "Frequency"
         }
        }
       }
      }
     },
     "metadata": {},
     "output_type": "display_data"
    }
   ],
   "source": [
    "df = pd.read_csv(r'/home/juandi/Documents/TOM_JETSON/colores_extraidos_diciembre.csv')\n",
    "\n",
    "\n",
    "df['Created at'] = pd.to_datetime(df['Created at'], errors='coerce')\n",
    "\n",
    "df = df[(df['Created at'].dt.month.isin([12])) & (df['Created at'].dt.year == 2023)]\n",
    "\n",
    "df_exploded = df.assign(Extracted_Colors=df['Colores Extraidos'].str.split(',')).explode('Extracted_Colors')\n",
    "\n",
    "df_exploded['Extracted_Colors'] = df_exploded['Extracted_Colors'].str.strip()\n",
    "\n",
    "df_exploded = df_exploded[df_exploded['Extracted_Colors'].str.lower() != 'sin color']\n",
    "\n",
    "df_exploded['Day_Of_Week'] = df_exploded['Created at'].dt.day_name()\n",
    "\n",
    "ordered_days = ['Monday', 'Tuesday', 'Wednesday', 'Thursday', 'Friday', 'Saturday', 'Sunday']\n",
    "df_exploded['Day_Of_Week'] = pd.Categorical(df_exploded['Day_Of_Week'], categories=ordered_days, ordered=True)\n",
    "\n",
    "def generate_top5_chart(df, month):\n",
    "    \n",
    "    df_month = df[df['Created at'].dt.month_name() == month]\n",
    "    \n",
    "    top5_colors = df_month['Extracted_Colors'].value_counts().nlargest(5).index\n",
    "    \n",
    "    df_month_top5 = df_month[df_month['Extracted_Colors'].isin(top5_colors)]\n",
    "    \n",
    "    weekly_frequency = df_month_top5.groupby(['Day_Of_Week', 'Extracted_Colors']).size().reset_index(name='Frequency')\n",
    "    \n",
    "    fig = go.Figure()\n",
    "    \n",
    "    for color in top5_colors:\n",
    "        color_data = weekly_frequency[weekly_frequency['Extracted_Colors'] == color]\n",
    "        \n",
    "        if color.lower() == 'white':\n",
    "            fig.add_trace(\n",
    "                go.Scatter(\n",
    "                    x=color_data['Day_Of_Week'],\n",
    "                    y=color_data['Frequency'],\n",
    "                    mode='lines+markers',\n",
    "                    name=color,\n",
    "                    line=dict(color='white', width=3),  # Línea más gruesa\n",
    "                    marker=dict(size=10, line=dict(color='black', width=2))  # Marcadores con borde negro\n",
    "                )\n",
    "            )\n",
    "        else:\n",
    "            fig.add_trace(\n",
    "                go.Scatter(\n",
    "                    x=color_data['Day_Of_Week'],\n",
    "                    y=color_data['Frequency'],\n",
    "                    mode='lines+markers',\n",
    "                    name=color,\n",
    "                    line=dict(color=color.lower()),\n",
    "                    marker=dict(size=8)\n",
    "                )\n",
    "            )\n",
    "        \n",
    "    fig.update_layout(\n",
    "        plot_bgcolor='rgba(50, 50, 50, 0.8)',  # Fondo más oscuro\n",
    "        paper_bgcolor='white',  # Fondo del papel más oscuro\n",
    "        title=f'Top 5 Colors - {month} 2023',\n",
    "        xaxis_title='Day of the Week',\n",
    "        yaxis_title='Frequency',\n",
    "        legend_title='Colors',\n",
    "        xaxis=dict(\n",
    "            categoryorder='array', \n",
    "            categoryarray=ordered_days,\n",
    "            gridcolor='rgba(255, 255, 255, 0.2)',  # Líneas de la cuadrícula en blanco transparente\n",
    "            color='black'  # Color del texto del eje\n",
    "        ),\n",
    "        yaxis=dict(\n",
    "            gridcolor='rgba(255, 255, 255, 0.2)',  # Líneas de la cuadrícula en blanco transparente\n",
    "            color='black'  # Color del texto del eje\n",
    "        ),\n",
    "        font=dict(color='black'),  # Texto en negro\n",
    "        legend=dict(\n",
    "            font=dict(color='black'),  # Texto de la leyenda en negro\n",
    "            bgcolor='rgba(0,0,0,0)'  # Fondo transparente de la leyenda\n",
    "        )\n",
    "    )\n",
    "\n",
    "    fig.show()\n",
    "\n",
    "generate_top5_chart(df_exploded, 'December')"
   ]
  },
  {
   "cell_type": "markdown",
   "metadata": {},
   "source": [
    "## Trend Noviembre"
   ]
  },
  {
   "cell_type": "code",
   "execution_count": 10,
   "metadata": {},
   "outputs": [
    {
     "data": {
      "application/vnd.plotly.v1+json": {
       "config": {
        "plotlyServerURL": "https://plot.ly"
       },
       "data": [
        {
         "hovertemplate": "Date=%{x}<br>Number of Orders=%{y}<extra></extra>",
         "legendgroup": "",
         "line": {
          "color": "#636efa",
          "dash": "solid"
         },
         "marker": {
          "color": "blue",
          "line": {
           "color": "black",
           "width": 1
          },
          "size": 8,
          "symbol": "circle"
         },
         "mode": "lines+markers",
         "name": "",
         "orientation": "v",
         "showlegend": false,
         "text": [
          "46",
          "82",
          "68",
          "39",
          "47",
          "71",
          "55",
          "80",
          "53",
          "71",
          "64",
          "38",
          "31",
          "44",
          "49",
          "59",
          "13",
          "180",
          "277",
          "135",
          "115",
          "88",
          "58",
          "0"
         ],
         "textposition": "top center",
         "type": "scatter",
         "x": [
          "2023-11-07T00:00:00",
          "2023-11-08T00:00:00",
          "2023-11-09T00:00:00",
          "2023-11-10T00:00:00",
          "2023-11-11T00:00:00",
          "2023-11-12T00:00:00",
          "2023-11-13T00:00:00",
          "2023-11-14T00:00:00",
          "2023-11-15T00:00:00",
          "2023-11-16T00:00:00",
          "2023-11-17T00:00:00",
          "2023-11-18T00:00:00",
          "2023-11-19T00:00:00",
          "2023-11-20T00:00:00",
          "2023-11-21T00:00:00",
          "2023-11-22T00:00:00",
          "2023-11-23T00:00:00",
          "2023-11-24T00:00:00",
          "2023-11-25T00:00:00",
          "2023-11-26T00:00:00",
          "2023-11-27T00:00:00",
          "2023-11-28T00:00:00",
          "2023-11-29T00:00:00",
          "2023-11-30T00:00:00"
         ],
         "xaxis": "x",
         "y": [
          46,
          82,
          68,
          39,
          47,
          71,
          55,
          80,
          53,
          71,
          64,
          38,
          31,
          44,
          49,
          59,
          13,
          180,
          277,
          135,
          115,
          88,
          58,
          0
         ],
         "yaxis": "y"
        }
       ],
       "layout": {
        "font": {
         "size": 12
        },
        "legend": {
         "tracegroupgap": 0
        },
        "plot_bgcolor": "rgba(0,0,0,0)",
        "template": {
         "data": {
          "bar": [
           {
            "error_x": {
             "color": "#2a3f5f"
            },
            "error_y": {
             "color": "#2a3f5f"
            },
            "marker": {
             "line": {
              "color": "#E5ECF6",
              "width": 0.5
             },
             "pattern": {
              "fillmode": "overlay",
              "size": 10,
              "solidity": 0.2
             }
            },
            "type": "bar"
           }
          ],
          "barpolar": [
           {
            "marker": {
             "line": {
              "color": "#E5ECF6",
              "width": 0.5
             },
             "pattern": {
              "fillmode": "overlay",
              "size": 10,
              "solidity": 0.2
             }
            },
            "type": "barpolar"
           }
          ],
          "carpet": [
           {
            "aaxis": {
             "endlinecolor": "#2a3f5f",
             "gridcolor": "white",
             "linecolor": "white",
             "minorgridcolor": "white",
             "startlinecolor": "#2a3f5f"
            },
            "baxis": {
             "endlinecolor": "#2a3f5f",
             "gridcolor": "white",
             "linecolor": "white",
             "minorgridcolor": "white",
             "startlinecolor": "#2a3f5f"
            },
            "type": "carpet"
           }
          ],
          "choropleth": [
           {
            "colorbar": {
             "outlinewidth": 0,
             "ticks": ""
            },
            "type": "choropleth"
           }
          ],
          "contour": [
           {
            "colorbar": {
             "outlinewidth": 0,
             "ticks": ""
            },
            "colorscale": [
             [
              0,
              "#0d0887"
             ],
             [
              0.1111111111111111,
              "#46039f"
             ],
             [
              0.2222222222222222,
              "#7201a8"
             ],
             [
              0.3333333333333333,
              "#9c179e"
             ],
             [
              0.4444444444444444,
              "#bd3786"
             ],
             [
              0.5555555555555556,
              "#d8576b"
             ],
             [
              0.6666666666666666,
              "#ed7953"
             ],
             [
              0.7777777777777778,
              "#fb9f3a"
             ],
             [
              0.8888888888888888,
              "#fdca26"
             ],
             [
              1,
              "#f0f921"
             ]
            ],
            "type": "contour"
           }
          ],
          "contourcarpet": [
           {
            "colorbar": {
             "outlinewidth": 0,
             "ticks": ""
            },
            "type": "contourcarpet"
           }
          ],
          "heatmap": [
           {
            "colorbar": {
             "outlinewidth": 0,
             "ticks": ""
            },
            "colorscale": [
             [
              0,
              "#0d0887"
             ],
             [
              0.1111111111111111,
              "#46039f"
             ],
             [
              0.2222222222222222,
              "#7201a8"
             ],
             [
              0.3333333333333333,
              "#9c179e"
             ],
             [
              0.4444444444444444,
              "#bd3786"
             ],
             [
              0.5555555555555556,
              "#d8576b"
             ],
             [
              0.6666666666666666,
              "#ed7953"
             ],
             [
              0.7777777777777778,
              "#fb9f3a"
             ],
             [
              0.8888888888888888,
              "#fdca26"
             ],
             [
              1,
              "#f0f921"
             ]
            ],
            "type": "heatmap"
           }
          ],
          "heatmapgl": [
           {
            "colorbar": {
             "outlinewidth": 0,
             "ticks": ""
            },
            "colorscale": [
             [
              0,
              "#0d0887"
             ],
             [
              0.1111111111111111,
              "#46039f"
             ],
             [
              0.2222222222222222,
              "#7201a8"
             ],
             [
              0.3333333333333333,
              "#9c179e"
             ],
             [
              0.4444444444444444,
              "#bd3786"
             ],
             [
              0.5555555555555556,
              "#d8576b"
             ],
             [
              0.6666666666666666,
              "#ed7953"
             ],
             [
              0.7777777777777778,
              "#fb9f3a"
             ],
             [
              0.8888888888888888,
              "#fdca26"
             ],
             [
              1,
              "#f0f921"
             ]
            ],
            "type": "heatmapgl"
           }
          ],
          "histogram": [
           {
            "marker": {
             "pattern": {
              "fillmode": "overlay",
              "size": 10,
              "solidity": 0.2
             }
            },
            "type": "histogram"
           }
          ],
          "histogram2d": [
           {
            "colorbar": {
             "outlinewidth": 0,
             "ticks": ""
            },
            "colorscale": [
             [
              0,
              "#0d0887"
             ],
             [
              0.1111111111111111,
              "#46039f"
             ],
             [
              0.2222222222222222,
              "#7201a8"
             ],
             [
              0.3333333333333333,
              "#9c179e"
             ],
             [
              0.4444444444444444,
              "#bd3786"
             ],
             [
              0.5555555555555556,
              "#d8576b"
             ],
             [
              0.6666666666666666,
              "#ed7953"
             ],
             [
              0.7777777777777778,
              "#fb9f3a"
             ],
             [
              0.8888888888888888,
              "#fdca26"
             ],
             [
              1,
              "#f0f921"
             ]
            ],
            "type": "histogram2d"
           }
          ],
          "histogram2dcontour": [
           {
            "colorbar": {
             "outlinewidth": 0,
             "ticks": ""
            },
            "colorscale": [
             [
              0,
              "#0d0887"
             ],
             [
              0.1111111111111111,
              "#46039f"
             ],
             [
              0.2222222222222222,
              "#7201a8"
             ],
             [
              0.3333333333333333,
              "#9c179e"
             ],
             [
              0.4444444444444444,
              "#bd3786"
             ],
             [
              0.5555555555555556,
              "#d8576b"
             ],
             [
              0.6666666666666666,
              "#ed7953"
             ],
             [
              0.7777777777777778,
              "#fb9f3a"
             ],
             [
              0.8888888888888888,
              "#fdca26"
             ],
             [
              1,
              "#f0f921"
             ]
            ],
            "type": "histogram2dcontour"
           }
          ],
          "mesh3d": [
           {
            "colorbar": {
             "outlinewidth": 0,
             "ticks": ""
            },
            "type": "mesh3d"
           }
          ],
          "parcoords": [
           {
            "line": {
             "colorbar": {
              "outlinewidth": 0,
              "ticks": ""
             }
            },
            "type": "parcoords"
           }
          ],
          "pie": [
           {
            "automargin": true,
            "type": "pie"
           }
          ],
          "scatter": [
           {
            "fillpattern": {
             "fillmode": "overlay",
             "size": 10,
             "solidity": 0.2
            },
            "type": "scatter"
           }
          ],
          "scatter3d": [
           {
            "line": {
             "colorbar": {
              "outlinewidth": 0,
              "ticks": ""
             }
            },
            "marker": {
             "colorbar": {
              "outlinewidth": 0,
              "ticks": ""
             }
            },
            "type": "scatter3d"
           }
          ],
          "scattercarpet": [
           {
            "marker": {
             "colorbar": {
              "outlinewidth": 0,
              "ticks": ""
             }
            },
            "type": "scattercarpet"
           }
          ],
          "scattergeo": [
           {
            "marker": {
             "colorbar": {
              "outlinewidth": 0,
              "ticks": ""
             }
            },
            "type": "scattergeo"
           }
          ],
          "scattergl": [
           {
            "marker": {
             "colorbar": {
              "outlinewidth": 0,
              "ticks": ""
             }
            },
            "type": "scattergl"
           }
          ],
          "scattermapbox": [
           {
            "marker": {
             "colorbar": {
              "outlinewidth": 0,
              "ticks": ""
             }
            },
            "type": "scattermapbox"
           }
          ],
          "scatterpolar": [
           {
            "marker": {
             "colorbar": {
              "outlinewidth": 0,
              "ticks": ""
             }
            },
            "type": "scatterpolar"
           }
          ],
          "scatterpolargl": [
           {
            "marker": {
             "colorbar": {
              "outlinewidth": 0,
              "ticks": ""
             }
            },
            "type": "scatterpolargl"
           }
          ],
          "scatterternary": [
           {
            "marker": {
             "colorbar": {
              "outlinewidth": 0,
              "ticks": ""
             }
            },
            "type": "scatterternary"
           }
          ],
          "surface": [
           {
            "colorbar": {
             "outlinewidth": 0,
             "ticks": ""
            },
            "colorscale": [
             [
              0,
              "#0d0887"
             ],
             [
              0.1111111111111111,
              "#46039f"
             ],
             [
              0.2222222222222222,
              "#7201a8"
             ],
             [
              0.3333333333333333,
              "#9c179e"
             ],
             [
              0.4444444444444444,
              "#bd3786"
             ],
             [
              0.5555555555555556,
              "#d8576b"
             ],
             [
              0.6666666666666666,
              "#ed7953"
             ],
             [
              0.7777777777777778,
              "#fb9f3a"
             ],
             [
              0.8888888888888888,
              "#fdca26"
             ],
             [
              1,
              "#f0f921"
             ]
            ],
            "type": "surface"
           }
          ],
          "table": [
           {
            "cells": {
             "fill": {
              "color": "#EBF0F8"
             },
             "line": {
              "color": "white"
             }
            },
            "header": {
             "fill": {
              "color": "#C8D4E3"
             },
             "line": {
              "color": "white"
             }
            },
            "type": "table"
           }
          ]
         },
         "layout": {
          "annotationdefaults": {
           "arrowcolor": "#2a3f5f",
           "arrowhead": 0,
           "arrowwidth": 1
          },
          "autotypenumbers": "strict",
          "coloraxis": {
           "colorbar": {
            "outlinewidth": 0,
            "ticks": ""
           }
          },
          "colorscale": {
           "diverging": [
            [
             0,
             "#8e0152"
            ],
            [
             0.1,
             "#c51b7d"
            ],
            [
             0.2,
             "#de77ae"
            ],
            [
             0.3,
             "#f1b6da"
            ],
            [
             0.4,
             "#fde0ef"
            ],
            [
             0.5,
             "#f7f7f7"
            ],
            [
             0.6,
             "#e6f5d0"
            ],
            [
             0.7,
             "#b8e186"
            ],
            [
             0.8,
             "#7fbc41"
            ],
            [
             0.9,
             "#4d9221"
            ],
            [
             1,
             "#276419"
            ]
           ],
           "sequential": [
            [
             0,
             "#0d0887"
            ],
            [
             0.1111111111111111,
             "#46039f"
            ],
            [
             0.2222222222222222,
             "#7201a8"
            ],
            [
             0.3333333333333333,
             "#9c179e"
            ],
            [
             0.4444444444444444,
             "#bd3786"
            ],
            [
             0.5555555555555556,
             "#d8576b"
            ],
            [
             0.6666666666666666,
             "#ed7953"
            ],
            [
             0.7777777777777778,
             "#fb9f3a"
            ],
            [
             0.8888888888888888,
             "#fdca26"
            ],
            [
             1,
             "#f0f921"
            ]
           ],
           "sequentialminus": [
            [
             0,
             "#0d0887"
            ],
            [
             0.1111111111111111,
             "#46039f"
            ],
            [
             0.2222222222222222,
             "#7201a8"
            ],
            [
             0.3333333333333333,
             "#9c179e"
            ],
            [
             0.4444444444444444,
             "#bd3786"
            ],
            [
             0.5555555555555556,
             "#d8576b"
            ],
            [
             0.6666666666666666,
             "#ed7953"
            ],
            [
             0.7777777777777778,
             "#fb9f3a"
            ],
            [
             0.8888888888888888,
             "#fdca26"
            ],
            [
             1,
             "#f0f921"
            ]
           ]
          },
          "colorway": [
           "#636efa",
           "#EF553B",
           "#00cc96",
           "#ab63fa",
           "#FFA15A",
           "#19d3f3",
           "#FF6692",
           "#B6E880",
           "#FF97FF",
           "#FECB52"
          ],
          "font": {
           "color": "#2a3f5f"
          },
          "geo": {
           "bgcolor": "white",
           "lakecolor": "white",
           "landcolor": "#E5ECF6",
           "showlakes": true,
           "showland": true,
           "subunitcolor": "white"
          },
          "hoverlabel": {
           "align": "left"
          },
          "hovermode": "closest",
          "mapbox": {
           "style": "light"
          },
          "paper_bgcolor": "white",
          "plot_bgcolor": "#E5ECF6",
          "polar": {
           "angularaxis": {
            "gridcolor": "white",
            "linecolor": "white",
            "ticks": ""
           },
           "bgcolor": "#E5ECF6",
           "radialaxis": {
            "gridcolor": "white",
            "linecolor": "white",
            "ticks": ""
           }
          },
          "scene": {
           "xaxis": {
            "backgroundcolor": "#E5ECF6",
            "gridcolor": "white",
            "gridwidth": 2,
            "linecolor": "white",
            "showbackground": true,
            "ticks": "",
            "zerolinecolor": "white"
           },
           "yaxis": {
            "backgroundcolor": "#E5ECF6",
            "gridcolor": "white",
            "gridwidth": 2,
            "linecolor": "white",
            "showbackground": true,
            "ticks": "",
            "zerolinecolor": "white"
           },
           "zaxis": {
            "backgroundcolor": "#E5ECF6",
            "gridcolor": "white",
            "gridwidth": 2,
            "linecolor": "white",
            "showbackground": true,
            "ticks": "",
            "zerolinecolor": "white"
           }
          },
          "shapedefaults": {
           "line": {
            "color": "#2a3f5f"
           }
          },
          "ternary": {
           "aaxis": {
            "gridcolor": "white",
            "linecolor": "white",
            "ticks": ""
           },
           "baxis": {
            "gridcolor": "white",
            "linecolor": "white",
            "ticks": ""
           },
           "bgcolor": "#E5ECF6",
           "caxis": {
            "gridcolor": "white",
            "linecolor": "white",
            "ticks": ""
           }
          },
          "title": {
           "x": 0.05
          },
          "xaxis": {
           "automargin": true,
           "gridcolor": "white",
           "linecolor": "white",
           "ticks": "",
           "title": {
            "standoff": 15
           },
           "zerolinecolor": "white",
           "zerolinewidth": 2
          },
          "yaxis": {
           "automargin": true,
           "gridcolor": "white",
           "linecolor": "white",
           "ticks": "",
           "title": {
            "standoff": 15
           },
           "zerolinecolor": "white",
           "zerolinewidth": 2
          }
         }
        },
        "title": {
         "text": "Daily Order Distribution (November 7 - 30, 2023)"
        },
        "xaxis": {
         "anchor": "y",
         "domain": [
          0,
          1
         ],
         "tickangle": -45,
         "tickformat": "%d-%b",
         "title": {
          "text": "Date"
         }
        },
        "yaxis": {
         "anchor": "x",
         "domain": [
          0,
          1
         ],
         "gridcolor": "lightgrey",
         "showgrid": true,
         "title": {
          "text": "Number of Orders"
         }
        }
       }
      }
     },
     "metadata": {},
     "output_type": "display_data"
    }
   ],
   "source": [
    "order_total['Created at'] = pd.to_datetime(order_total['Created at'],errors='coerce')\n",
    "\n",
    "start_date = '2023-11-07'\n",
    "end_date = '2023-11-30'\n",
    "\n",
    "filtered_orders = order_total[\n",
    "    (order_total['Created at'] >= start_date)&\n",
    "    (order_total['Created at'] <= end_date)\n",
    "]\n",
    "\n",
    "date_range = pd.date_range(start=start_date, end=end_date)\n",
    "\n",
    "orders_by_date = (\n",
    "    filtered_orders\n",
    "    .groupby(filtered_orders['Created at'].dt.date)\n",
    "    .size()\n",
    "    .reindex(date_range, fill_value=0)\n",
    "    .reset_index()\n",
    "    )\n",
    "\n",
    "orders_by_date.columns = ['Date', 'Order Count']\n",
    "\n",
    "fig = px.line(\n",
    "    orders_by_date,\n",
    "    x='Date',\n",
    "    y='Order Count',\n",
    "    title='Daily Order Distribution (November 7 - 30, 2023)',\n",
    "    labels={'Date': 'Date', 'Order Count': 'Number of Orders'},\n",
    "    markers=True  \n",
    ")\n",
    "\n",
    "fig.update_traces(\n",
    "    text=orders_by_date['Order Count'].astype(str), \n",
    "    textposition='top center',  \n",
    "    marker=dict(size=8, color='blue', line=dict(width=1, color='black'))  \n",
    ")\n",
    "\n",
    "fig.update_layout(\n",
    "    xaxis_title=\"Date\",\n",
    "    yaxis_title=\"Number of Orders\",\n",
    "    xaxis=dict(tickformat='%d-%b', tickangle=-45),  \n",
    "    plot_bgcolor='rgba(0,0,0,0)',  \n",
    "    yaxis=dict(showgrid=True, gridcolor='lightgrey'),  \n",
    "    font=dict(size=12)\n",
    ")\n",
    "\n",
    "fig.show()"
   ]
  },
  {
   "cell_type": "markdown",
   "metadata": {},
   "source": [
    "## PREDICCION DE PRODUCTOS A COMPRAR\n"
   ]
  },
  {
   "cell_type": "code",
   "execution_count": 11,
   "metadata": {},
   "outputs": [
    {
     "name": "stdout",
     "output_type": "stream",
     "text": [
      "Ventas recientes (noviembre y diciembre 2024):\n",
      "     Name                         Email Financial Status  \\\n",
      "0  #31342  heidi.featherstone@gmail.com             paid   \n",
      "1  #31342  heidi.featherstone@gmail.com              NaN   \n",
      "2  #31342  heidi.featherstone@gmail.com              NaN   \n",
      "3  #31341        Sarah.E.West.22@nd.edu             paid   \n",
      "4  #31340               sasovey@aol.com             paid   \n",
      "5  #31340               sasovey@aol.com              NaN   \n",
      "6  #31339      kimberleyzajac@gmail.com             paid   \n",
      "7  #31339      kimberleyzajac@gmail.com              NaN   \n",
      "8  #31339      kimberleyzajac@gmail.com              NaN   \n",
      "9  #31338        ambutler1954@gmail.com             paid   \n",
      "\n",
      "                     Paid at Fulfillment Status Fulfilled at  \\\n",
      "0  2024-10-17 19:40:06 -0500        unfulfilled          NaN   \n",
      "1                        NaN                NaN          NaN   \n",
      "2                        NaN                NaN          NaN   \n",
      "3  2024-10-17 19:13:04 -0500        unfulfilled          NaN   \n",
      "4  2024-10-17 11:59:34 -0500            partial          NaN   \n",
      "5                        NaN                NaN          NaN   \n",
      "6  2024-10-17 11:15:07 -0500        unfulfilled          NaN   \n",
      "7                        NaN                NaN          NaN   \n",
      "8                        NaN                NaN          NaN   \n",
      "9  2024-10-17 10:13:42 -0500        unfulfilled          NaN   \n",
      "\n",
      "  Accepts Marketing Currency  Subtotal  Shipping  ...  Tax 5 Value  \\\n",
      "0               yes      USD     212.8       0.0  ...          NaN   \n",
      "1               NaN      NaN       NaN       NaN  ...          NaN   \n",
      "2               NaN      NaN       NaN       NaN  ...          NaN   \n",
      "3               yes      USD      59.2       8.0  ...          NaN   \n",
      "4               yes      USD     202.0       0.0  ...          NaN   \n",
      "5               NaN      NaN       NaN       NaN  ...          NaN   \n",
      "6               yes      USD     208.8       0.0  ...          NaN   \n",
      "7               NaN      NaN       NaN       NaN  ...          NaN   \n",
      "8               NaN      NaN       NaN       NaN  ...          NaN   \n",
      "9               yes      USD      69.0       8.0  ...          NaN   \n",
      "\n",
      "          Phone Receipt Number  Duties Billing Province Name  \\\n",
      "0           NaN            NaN     NaN               Indiana   \n",
      "1           NaN            NaN     NaN                   NaN   \n",
      "2           NaN            NaN     NaN                   NaN   \n",
      "3           NaN            NaN     NaN               Indiana   \n",
      "4           NaN            NaN     NaN              Illinois   \n",
      "5           NaN            NaN     NaN                   NaN   \n",
      "6  1.602378e+10            NaN     NaN              Illinois   \n",
      "7  1.602378e+10            NaN     NaN                   NaN   \n",
      "8  1.602378e+10            NaN     NaN                   NaN   \n",
      "9           NaN            NaN     NaN               Indiana   \n",
      "\n",
      "  Shipping Province Name                 Payment ID Payment Terms Name  \\\n",
      "0                Indiana  roMns14XJFhJHuH3q0IlwC4aE                NaN   \n",
      "1                    NaN                        NaN                NaN   \n",
      "2                    NaN                        NaN                NaN   \n",
      "3                Indiana  rDTd5xaQsCuNVZNsgev7oqd9e                NaN   \n",
      "4               Illinois  rkdrnjDdwG3VzWvgG96mdC12j                NaN   \n",
      "5                    NaN                        NaN                NaN   \n",
      "6                    NaN  ruu1ZRTRsJNnQrFlmzh1mKDf7                NaN   \n",
      "7                    NaN                        NaN                NaN   \n",
      "8                    NaN                        NaN                NaN   \n",
      "9                Indiana  rmcRiWBmLJUFayhKcIdCgH2vi                NaN   \n",
      "\n",
      "   Next Payment Due At                               Payment References  \n",
      "0                  NaN             roMns14XJFhJHuH3q0IlwC4aE + #31342.2  \n",
      "1                  NaN                                              NaN  \n",
      "2                  NaN                                              NaN  \n",
      "3                  NaN             rDTd5xaQsCuNVZNsgev7oqd9e + #31341.2  \n",
      "4                  NaN             rkdrnjDdwG3VzWvgG96mdC12j + #31340.2  \n",
      "5                  NaN                                              NaN  \n",
      "6                  NaN             ruu1ZRTRsJNnQrFlmzh1mKDf7 + #31339.2  \n",
      "7                  NaN                                              NaN  \n",
      "8                  NaN                                              NaN  \n",
      "9                  NaN  rmcRiWBmLJUFayhKcIdCgH2vi + #31338.2 + #31338.3  \n",
      "\n",
      "[10 rows x 79 columns]\n",
      "Total de ventas recientes: 316\n"
     ]
    }
   ],
   "source": [
    "print(\"Ventas recientes (noviembre y diciembre 2024):\")\n",
    "print(recent_sales.head(10))  # Mostrar las primeras filas de ventas recientes\n",
    "print(f\"Total de ventas recientes: {len(recent_sales)}\")\n"
   ]
  },
  {
   "cell_type": "code",
   "execution_count": 12,
   "metadata": {},
   "outputs": [],
   "source": [
    "# Lista de términos que resultan en la exclusión de la fila completa\n",
    "excluded_terms = ['gift wrapping', 'gift card', 'online gift card', 'shipping']\n",
    "\n",
    "# Filtrar filas que no contienen los términos de exclusión\n",
    "order_total = order_total[~order_total['Lineitem name'].str.contains('|'.join(excluded_terms), case=False, na=False)]\n",
    "\n",
    "# Lista de términos para eliminar sin excluir la fila completa (solo limpiar el nombre)\n",
    "terms_to_remove = ['small', 'large', 'medium','s','m','l','S','M','L','XL','xl']\n",
    "\n",
    "# Usar str.replace para eliminar tallas en la columna 'Lineitem name'\n",
    "order_total['Lineitem name'] = order_total['Lineitem name'].str.replace(\n",
    "    '|'.join(terms_to_remove),  # Unir términos con '|' para la expresión regular\n",
    "    '',  # Reemplazar con cadena vacía\n",
    "    case=False,  # Ignorar mayúsculas/minúsculas\n",
    "    regex=True  # Usar regex para aplicar múltiples términos\n",
    ").str.replace(r'\\s+/\\s+', ' ', regex=True).str.strip()  # Limpiar espacios y slashes adicionales\n"
   ]
  },
  {
   "cell_type": "code",
   "execution_count": 13,
   "metadata": {},
   "outputs": [
    {
     "name": "stdout",
     "output_type": "stream",
     "text": [
      "Total de ventas recientes: 305\n",
      "Número de filas comunes entre entrenamiento y prueba: 0\n",
      "Distribución de Target: [19524   251]\n",
      "Distribución en y_train: [12495   161]\n",
      "Distribución en y_val: [3124   40]\n",
      "Distribución en y_test: [3905   50]\n",
      "Distribución después del undersampling: [161 161]\n",
      "Mejores parámetros: {'C': 0.001, 'max_iter': 500}\n",
      "Reporte de validación:\n",
      "               precision    recall  f1-score   support\n",
      "\n",
      "           0       1.00      1.00      1.00      3124\n",
      "           1       1.00      1.00      1.00        40\n",
      "\n",
      "    accuracy                           1.00      3164\n",
      "   macro avg       1.00      1.00      1.00      3164\n",
      "weighted avg       1.00      1.00      1.00      3164\n",
      "\n",
      "AUC-ROC en validación: 1.0000\n",
      "Reporte de prueba:\n",
      "               precision    recall  f1-score   support\n",
      "\n",
      "           0       1.00      1.00      1.00      3905\n",
      "           1       1.00      1.00      1.00        50\n",
      "\n",
      "    accuracy                           1.00      3955\n",
      "   macro avg       1.00      1.00      1.00      3955\n",
      "weighted avg       1.00      1.00      1.00      3955\n",
      "\n",
      "AUC-ROC en prueba: 1.0000\n",
      "Top 15 productos más probables para noviembre y diciembre 2024:\n",
      "╒═══════╤═════════════════════════════════════════════════════════╤═════════════════════════╕\n",
      "│       │ Producto                                                │   Probabilidad de Venta │\n",
      "╞═══════╪═════════════════════════════════════════════════════════╪═════════════════════════╡\n",
      "│    38 │ *PRE ORDER* Notre Dae Corded Crew - Navy/God/Green      │                1        │\n",
      "├───────┼─────────────────────────────────────────────────────────┼─────────────────────────┤\n",
      "│ 18025 │ ophia Vevet Bazer - Ocean Bue                           │                0.995523 │\n",
      "├───────┼─────────────────────────────────────────────────────────┼─────────────────────────┤\n",
      "│    39 │ *PRE ORDER* Notre Dae Corded Crew - Navy/God/Green arge │                0.978982 │\n",
      "├───────┼─────────────────────────────────────────────────────────┼─────────────────────────┤\n",
      "│ 10624 │ Paea Peter Pan Coar Deni Dre - Dk Deni                  │                0.978982 │\n",
      "├───────┼─────────────────────────────────────────────────────────┼─────────────────────────┤\n",
      "│  3952 │ Corrine Top - Off White                                 │                0.978982 │\n",
      "├───────┼─────────────────────────────────────────────────────────┼─────────────────────────┤\n",
      "│  1932 │ Bonnie oft Wrap Boue - Cognac                           │                0.906969 │\n",
      "├───────┼─────────────────────────────────────────────────────────┼─────────────────────────┤\n",
      "│  1983 │ Bow Day Cardigan - Off White /                          │                0.906969 │\n",
      "├───────┼─────────────────────────────────────────────────────────┼─────────────────────────┤\n",
      "│  6305 │ Fower Power weater - Brown                              │                0.906969 │\n",
      "├───────┼─────────────────────────────────────────────────────────┼─────────────────────────┤\n",
      "│  8389 │ Hoy Paid Top - Navy/Green                               │                0.906969 │\n",
      "├───────┼─────────────────────────────────────────────────────────┼─────────────────────────┤\n",
      "│  5724 │ Fa for e axi Dre - Back uti                             │                0.906969 │\n",
      "├───────┼─────────────────────────────────────────────────────────┼─────────────────────────┤\n",
      "│  2934 │ Ceja weater - Red                                       │                0.906969 │\n",
      "├───────┼─────────────────────────────────────────────────────────┼─────────────────────────┤\n",
      "│  6739 │ Gada inen Top - Coffee Bean                             │                0.906969 │\n",
      "├───────┼─────────────────────────────────────────────────────────┼─────────────────────────┤\n",
      "│  8947 │ Janine ong eeve - Back/Ecru                             │                0.906969 │\n",
      "├───────┼─────────────────────────────────────────────────────────┼─────────────────────────┤\n",
      "│ 10239 │ Notre Dae ong eeve Tee - White                          │                0.906969 │\n",
      "├───────┼─────────────────────────────────────────────────────────┼─────────────────────────┤\n",
      "│  9057 │ Joanna Zip Front Dre - H. Green                         │                0.906969 │\n",
      "╘═══════╧═════════════════════════════════════════════════════════╧═════════════════════════╛\n"
     ]
    },
    {
     "data": {
      "application/vnd.plotly.v1+json": {
       "config": {
        "plotlyServerURL": "https://plot.ly"
       },
       "data": [
        {
         "customdata": [
          [
           "Blaga.Zymali@alliant.com"
          ],
          [
           "Labovino@gmail.com"
          ],
          [
           "Lisa.h.anderson@gmail.com"
          ],
          [
           "Sarah.E.West.22@nd.edu"
          ],
          [
           "addieprina5@gmail.com"
          ],
          [
           "alexpreschlack@aol.com"
          ],
          [
           "ambutler1954@gmail.com"
          ],
          [
           "amosterkamp@gmail.com"
          ],
          [
           "annietazelaar@gmail.com"
          ],
          [
           "axpgal@aol.com"
          ],
          [
           "bateman.s52@gmail.com"
          ],
          [
           "bbeatrize75@gmail.com"
          ],
          [
           "bonniesartore1@sbcglobal.net"
          ],
          [
           "brankin0032@gmail.com"
          ],
          [
           "brebauer26@gmail.com"
          ],
          [
           "cajbaker@twc.com"
          ],
          [
           "cburggraf@comwide.com"
          ],
          [
           "cchisnell@comcast.net"
          ],
          [
           "chrissyandjay@me.com"
          ],
          [
           "ckrakora.junk@gmail.com"
          ],
          [
           "clextons@gmail.com"
          ],
          [
           "cmp7777@gmail.com"
          ],
          [
           "coreymccann80@gmail.com"
          ],
          [
           "courtneymills68@sbcglobal.net"
          ],
          [
           "crystalleonardi24@gmail.com"
          ],
          [
           "ctirakian@gmail.com"
          ],
          [
           "cunningham.mel.86@gmail.com"
          ],
          [
           "d_dhillman@yahoo.com"
          ],
          [
           "daniellewagner16@yahoo.com"
          ],
          [
           "daze0723@gmail.com"
          ],
          [
           "diane.haleas@ignatius.org"
          ],
          [
           "dkdoles@gmail.com"
          ],
          [
           "donnaf.neill@gmail.com"
          ],
          [
           "donnay67@gmail.com"
          ],
          [
           "doriegaty@yahoo.com"
          ],
          [
           "drinans5@gmail.com"
          ],
          [
           "dshellpoppas@aol.com"
          ],
          [
           "dwashb916@gmail.com"
          ],
          [
           "edunning92@hotmail.com"
          ],
          [
           "ekpatti@gmail.com"
          ],
          [
           "elizabeth.adelmann@gmail.com"
          ],
          [
           "emilylouisekershner@gmail.com"
          ],
          [
           "epmesi@ameritech.net"
          ],
          [
           "eriazzi@yahoo.com"
          ],
          [
           "erin.a.mcnaughton@gmail.com"
          ],
          [
           "erin@shopvintagecharm.com"
          ],
          [
           "eypac4@aol.com"
          ],
          [
           "gaw326@gmail.com"
          ],
          [
           "ginaeolson@comcast.net"
          ],
          [
           "griffins5@comcast.net"
          ],
          [
           "h.zeiner@hotmail.com"
          ],
          [
           "heidi.featherstone@gmail.com"
          ],
          [
           "hollygreenok@gmail.com"
          ],
          [
           "hrhode17@gmail.com"
          ],
          [
           "hthiel317@gmail.com"
          ],
          [
           "huff.adrienne@gmail.com"
          ],
          [
           "jaclynmcmillin@gmail.com"
          ],
          [
           "jadeelliscook@aol.com"
          ],
          [
           "jaeger813@hotmail.com"
          ],
          [
           "jaimeturza@gmail.com"
          ],
          [
           "jatuley3@gmail.com"
          ],
          [
           "jbattw84@gmail.com"
          ],
          [
           "jen.washburn1@gmail.com"
          ],
          [
           "jennifergrayulrich@gmail.com"
          ],
          [
           "jennyconnelly2003@yahoo.com"
          ],
          [
           "jessie95g@yahoo.com"
          ],
          [
           "jlkitlica@gmail.com"
          ],
          [
           "jlweibel3@gmail.com"
          ],
          [
           "jml139@aol.com"
          ],
          [
           "jodyburleyson@yahoo.com"
          ],
          [
           "joyg89@gmail.com"
          ],
          [
           "jpogvara@cassiday.com"
          ],
          [
           "jscotto46@gmail.com"
          ],
          [
           "juliannadalto1133@gmail.com"
          ],
          [
           "julieannrutkowski@gmail.com"
          ],
          [
           "juliekcasey1@gmail.com"
          ],
          [
           "kangan.chopra@gmail.com"
          ],
          [
           "katherine.cuccia@gmail.com"
          ],
          [
           "katie.selden@gmail.com"
          ],
          [
           "katiebug_slp@yahoo.com"
          ],
          [
           "kaybarne@gmail.com"
          ],
          [
           "kcallahan@thornoaks.com"
          ],
          [
           "kcsimpson73@yahoo.com"
          ],
          [
           "kellyamyn@yahoo.com"
          ],
          [
           "kellydrenee@aol.com"
          ],
          [
           "kfet1818@gmail.com"
          ],
          [
           "kidpoor123@aol.com"
          ],
          [
           "kimberleyzajac@gmail.com"
          ],
          [
           "klynnelittle@hotmail.com"
          ],
          [
           "kmesina2@gmail.com"
          ],
          [
           "kogutdonna1@gmail.com"
          ],
          [
           "kristiw75@yahoo.com"
          ],
          [
           "kubschkaren@gmail.com"
          ],
          [
           "kwillis@compassion.com"
          ],
          [
           "lackbarb@gmail.com"
          ],
          [
           "lambertmeg@gmail.com"
          ],
          [
           "lauramoreilly@hotmail.com"
          ],
          [
           "libertcrew@yahoo.com"
          ],
          [
           "lilianehrgott@gmail.com"
          ],
          [
           "linda.stiglicz@hotmail.com"
          ],
          [
           "lindagcollins1@gmail.com"
          ],
          [
           "lindamslick@gmail.com"
          ],
          [
           "lisafusello@gmail.com"
          ],
          [
           "ljohnson4318@gmail.com"
          ],
          [
           "m_pelton@sbcglobal.net"
          ],
          [
           "macdonald_brittany@hotmail.com"
          ],
          [
           "maggie.kiser@gmail.com"
          ],
          [
           "maria_stiefel@yahoo.com"
          ],
          [
           "mary.klingenberger@gmail.com"
          ],
          [
           "marykurash61@yahoo.com"
          ],
          [
           "mbmurphy6@gmail.com"
          ],
          [
           "mcwelles@gmail.com"
          ],
          [
           "mdaly05@yahoo.com"
          ],
          [
           "mekrueger22@gmail.com"
          ],
          [
           "melissaahaggerty@mac.com"
          ],
          [
           "merridithlynch@yahoo.com"
          ],
          [
           "mjd28@ix.netcom.com"
          ],
          [
           "mmccol01@gmail.com"
          ],
          [
           "mskow@comcast.net"
          ],
          [
           "mysimpletreasures@msn.com"
          ],
          [
           "nancyhamric@hotmail.com"
          ],
          [
           "nicole.petri@aol.com"
          ],
          [
           "njp313@aol.com"
          ],
          [
           "nlbeekman@comcast.net"
          ],
          [
           "oremus.emma@gmail.com"
          ],
          [
           "patrick.szachowiczdo@gmail.com"
          ],
          [
           "peggy344@gmail.com"
          ],
          [
           "pknorris1@att.net"
          ],
          [
           "pwdye2012@gmail.com"
          ],
          [
           "rbrown1933@yahoo.com"
          ],
          [
           "rileycarolineburr@gmail.com"
          ],
          [
           "rubowj@yahoo.com"
          ],
          [
           "s.larocco12@gmail.com"
          ],
          [
           "sandynel22@yahoo.com"
          ],
          [
           "sarahannfarrell@gmail.com"
          ],
          [
           "sarahmyser05@gmail.com"
          ],
          [
           "sasovey@aol.com"
          ],
          [
           "sassyrn72@gmail.com"
          ],
          [
           "sheajenniferm@gmail.com"
          ],
          [
           "sheilamarieb@comcast.net"
          ],
          [
           "sheilamatieb@comcast.net"
          ],
          [
           "sherimariematthews@gmail.com"
          ],
          [
           "smithmer@bellsouth.net"
          ],
          [
           "srenae1969@aol.com"
          ],
          [
           "stephanie.august@gmail.com"
          ],
          [
           "stephanie@plainandposh.com"
          ],
          [
           "stephaniescott@alumni.nd.edu"
          ],
          [
           "stephgrimm@sbcglobal.net"
          ],
          [
           "suequimby@yahoo.com"
          ],
          [
           "susankusper@gmail.com"
          ],
          [
           "tdboyd1@aol.com"
          ],
          [
           "temphp123@aol.com"
          ],
          [
           "theblauws@aol.com"
          ],
          [
           "theresascotto519@gmail.com"
          ],
          [
           "toniab73@yahoo.com"
          ],
          [
           "vekoys@gmail.com"
          ],
          [
           "vesposito@ladse.org"
          ],
          [
           "victoriahight13@icloud.com"
          ],
          [
           "wendybrenk@sbcglobal.net"
          ]
         ],
         "hovertemplate": "Log(1 + Total Gastado)=%{x}<br>Número de Órdenes=%{marker.size}<br>Email=%{customdata[0]}<br>Cluster=%{marker.color}<extra></extra>",
         "legendgroup": "",
         "marker": {
          "color": [
           2,
           2,
           2,
           2,
           2,
           2,
           2,
           2,
           2,
           2,
           2,
           2,
           2,
           2,
           0,
           2,
           2,
           2,
           1,
           2,
           2,
           2,
           2,
           2,
           2,
           1,
           2,
           2,
           2,
           2,
           2,
           2,
           2,
           0,
           2,
           2,
           2,
           1,
           2,
           2,
           2,
           2,
           2,
           2,
           2,
           2,
           2,
           2,
           2,
           2,
           2,
           2,
           2,
           2,
           2,
           2,
           2,
           2,
           2,
           2,
           2,
           2,
           2,
           2,
           2,
           2,
           2,
           2,
           2,
           2,
           2,
           2,
           2,
           2,
           2,
           2,
           2,
           2,
           2,
           2,
           2,
           0,
           2,
           2,
           2,
           2,
           2,
           2,
           2,
           2,
           2,
           2,
           2,
           2,
           2,
           2,
           2,
           2,
           2,
           2,
           2,
           2,
           2,
           2,
           2,
           2,
           2,
           2,
           2,
           2,
           0,
           2,
           1,
           2,
           2,
           2,
           2,
           2,
           2,
           2,
           2,
           2,
           2,
           2,
           2,
           2,
           2,
           2,
           2,
           2,
           2,
           2,
           2,
           2,
           2,
           2,
           2,
           2,
           2,
           2,
           2,
           2,
           2,
           0,
           2,
           2,
           2,
           2,
           2,
           1,
           2,
           2,
           2,
           2,
           2,
           2,
           2,
           2,
           0
          ],
          "coloraxis": "coloraxis",
          "line": {
           "color": "DarkSlateGrey",
           "width": 2
          },
          "size": [
           1,
           1,
           1,
           1,
           1,
           1,
           1,
           1,
           1,
           1,
           1,
           1,
           1,
           1,
           2,
           1,
           1,
           1,
           0,
           1,
           1,
           1,
           1,
           1,
           1,
           0,
           1,
           1,
           1,
           1,
           1,
           1,
           1,
           2,
           1,
           1,
           1,
           0,
           1,
           1,
           1,
           1,
           1,
           1,
           1,
           1,
           1,
           1,
           1,
           1,
           1,
           1,
           1,
           1,
           1,
           1,
           1,
           1,
           1,
           1,
           1,
           1,
           1,
           1,
           1,
           1,
           1,
           1,
           1,
           1,
           1,
           1,
           1,
           1,
           1,
           1,
           1,
           1,
           1,
           1,
           1,
           2,
           1,
           1,
           1,
           1,
           1,
           1,
           1,
           1,
           1,
           1,
           1,
           1,
           1,
           1,
           1,
           1,
           1,
           1,
           1,
           1,
           1,
           1,
           1,
           1,
           1,
           1,
           1,
           1,
           3,
           1,
           0,
           1,
           1,
           1,
           1,
           1,
           1,
           1,
           1,
           1,
           1,
           1,
           1,
           1,
           1,
           1,
           1,
           1,
           1,
           1,
           1,
           1,
           1,
           1,
           1,
           1,
           1,
           1,
           1,
           1,
           1,
           2,
           1,
           1,
           1,
           1,
           1,
           0,
           1,
           1,
           1,
           1,
           1,
           1,
           1,
           1,
           2
          ],
          "sizemode": "area",
          "sizeref": 0.020833333333333332,
          "symbol": "circle"
         },
         "mode": "markers",
         "name": "",
         "orientation": "v",
         "showlegend": false,
         "type": "scatter",
         "x": [
          4.476199804691132,
          4.188138441508461,
          4.450852825603734,
          4.289088639014612,
          4.821893169499378,
          5.0369526024136295,
          4.4235283980988935,
          4.23410650459726,
          4.601162164590552,
          4.941570991486734,
          4.162003210695915,
          5.098646171418969,
          5.979442571880656,
          5.342334251964811,
          6.339335852490564,
          4.16418152181088,
          4.544251771018675,
          4.3425058765115985,
          0,
          5.187609244563615,
          4.584967478670572,
          4.748404354073999,
          4.571613402459248,
          4.273048472104136,
          4.384523514872469,
          0,
          4.12260802749496,
          6.008592030768573,
          4.733035556985987,
          3.6109179126442243,
          4.191471272952824,
          5.0548435487605765,
          5.1823451902956155,
          5.888046587909494,
          5.32598117053051,
          4.418840607796598,
          4.4796069630127455,
          0,
          4.028916756899646,
          4.048649602959971,
          5.243280230618128,
          4.109561528026961,
          4.101154654150649,
          5.403262796069531,
          6.3941424412081105,
          4.12260802749496,
          5.666322876495819,
          4.3425058765115985,
          4.191471272952824,
          4.298780886070615,
          4.937347498326424,
          5.432367374668292,
          4.343805421853684,
          5.393218371742757,
          4.316420877575887,
          4.9811378233072325,
          4.100989104940769,
          7.011962129424085,
          4.476199804691132,
          5.683851839167322,
          5.291947119540193,
          4.182508053051405,
          4.689603241962921,
          3.3881121421135,
          5.105339229565553,
          4.384523514872469,
          5.365789081663049,
          5.881956553653434,
          4.852030263919617,
          5.061328408411774,
          6.480351263355219,
          4.3425058765115985,
          4.362206507224575,
          4.997212273764115,
          4.800325700762133,
          4.328098292648326,
          4.476199804691132,
          4.37449836825309,
          4.222444564849416,
          4.356708826689592,
          5.043425116919247,
          5.967197468964984,
          5.110782242701195,
          4.290459441148391,
          4.9082333604781745,
          5.14166355650266,
          4.384523514872469,
          5.440988117712199,
          4.553876891600541,
          4.513164540192067,
          4.740749480229915,
          4.191471272952824,
          4.289088639014612,
          4.191471272952824,
          4.794963757620747,
          4.573885895948325,
          5.427721503759297,
          4.679349584162343,
          4.356708826689592,
          4.513164540192067,
          4.222444564849416,
          4.465908118654584,
          4.316420877575887,
          4.4796069630127455,
          4.290459441148391,
          4.793142414290861,
          4.384523514872469,
          5.588745664667843,
          4.3425058765115985,
          4.571613402459248,
          5.782069796387094,
          4.571613402459248,
          0,
          5.056245805348308,
          4.513164540192067,
          4.25589635752967,
          4.316420877575887,
          4.191471272952824,
          4.2431955089544555,
          4.222444564849416,
          5.279134547131263,
          5.432411101028736,
          4.300816579248338,
          4.356708826689592,
          5.605802066295998,
          6.235351459560092,
          6.497136915633172,
          6.083017678034595,
          4.553876891600541,
          4.356708826689592,
          5.211451433526375,
          4.513164540192067,
          5.103943471229908,
          4.477336814478207,
          4.599554447202456,
          4.418840607796598,
          5.408113032370921,
          4.356708826689592,
          4.25589635752967,
          4.873669439023098,
          4.954417614098027,
          4.097672352314776,
          5.2479709921112985,
          5.0369526024136295,
          4.929135970517119,
          4.328098292648326,
          4.418840607796598,
          5.1611221273701915,
          4.4857107459507635,
          0,
          5.062595033026967,
          5.0561821090522265,
          4.373490303651595,
          4.883710600522589,
          4.3425058765115985,
          4.356708826689592,
          5.992738734985712,
          4.972587226458726,
          5.0238805208462765
         ],
         "xaxis": "x",
         "y": [
          1,
          1,
          1,
          1,
          1,
          1,
          1,
          1,
          1,
          1,
          1,
          1,
          1,
          1,
          2,
          1,
          1,
          1,
          0,
          1,
          1,
          1,
          1,
          1,
          1,
          0,
          1,
          1,
          1,
          1,
          1,
          1,
          1,
          2,
          1,
          1,
          1,
          0,
          1,
          1,
          1,
          1,
          1,
          1,
          1,
          1,
          1,
          1,
          1,
          1,
          1,
          1,
          1,
          1,
          1,
          1,
          1,
          1,
          1,
          1,
          1,
          1,
          1,
          1,
          1,
          1,
          1,
          1,
          1,
          1,
          1,
          1,
          1,
          1,
          1,
          1,
          1,
          1,
          1,
          1,
          1,
          2,
          1,
          1,
          1,
          1,
          1,
          1,
          1,
          1,
          1,
          1,
          1,
          1,
          1,
          1,
          1,
          1,
          1,
          1,
          1,
          1,
          1,
          1,
          1,
          1,
          1,
          1,
          1,
          1,
          3,
          1,
          0,
          1,
          1,
          1,
          1,
          1,
          1,
          1,
          1,
          1,
          1,
          1,
          1,
          1,
          1,
          1,
          1,
          1,
          1,
          1,
          1,
          1,
          1,
          1,
          1,
          1,
          1,
          1,
          1,
          1,
          1,
          2,
          1,
          1,
          1,
          1,
          1,
          0,
          1,
          1,
          1,
          1,
          1,
          1,
          1,
          1,
          2
         ],
         "yaxis": "y"
        }
       ],
       "layout": {
        "coloraxis": {
         "colorbar": {
          "title": {
           "text": "Cluster"
          }
         },
         "colorscale": [
          [
           0,
           "#0d0887"
          ],
          [
           0.1111111111111111,
           "#46039f"
          ],
          [
           0.2222222222222222,
           "#7201a8"
          ],
          [
           0.3333333333333333,
           "#9c179e"
          ],
          [
           0.4444444444444444,
           "#bd3786"
          ],
          [
           0.5555555555555556,
           "#d8576b"
          ],
          [
           0.6666666666666666,
           "#ed7953"
          ],
          [
           0.7777777777777778,
           "#fb9f3a"
          ],
          [
           0.8888888888888888,
           "#fdca26"
          ],
          [
           1,
           "#f0f921"
          ]
         ]
        },
        "legend": {
         "itemsizing": "constant",
         "tracegroupgap": 0
        },
        "template": {
         "data": {
          "bar": [
           {
            "error_x": {
             "color": "#f2f5fa"
            },
            "error_y": {
             "color": "#f2f5fa"
            },
            "marker": {
             "line": {
              "color": "rgb(17,17,17)",
              "width": 0.5
             },
             "pattern": {
              "fillmode": "overlay",
              "size": 10,
              "solidity": 0.2
             }
            },
            "type": "bar"
           }
          ],
          "barpolar": [
           {
            "marker": {
             "line": {
              "color": "rgb(17,17,17)",
              "width": 0.5
             },
             "pattern": {
              "fillmode": "overlay",
              "size": 10,
              "solidity": 0.2
             }
            },
            "type": "barpolar"
           }
          ],
          "carpet": [
           {
            "aaxis": {
             "endlinecolor": "#A2B1C6",
             "gridcolor": "#506784",
             "linecolor": "#506784",
             "minorgridcolor": "#506784",
             "startlinecolor": "#A2B1C6"
            },
            "baxis": {
             "endlinecolor": "#A2B1C6",
             "gridcolor": "#506784",
             "linecolor": "#506784",
             "minorgridcolor": "#506784",
             "startlinecolor": "#A2B1C6"
            },
            "type": "carpet"
           }
          ],
          "choropleth": [
           {
            "colorbar": {
             "outlinewidth": 0,
             "ticks": ""
            },
            "type": "choropleth"
           }
          ],
          "contour": [
           {
            "colorbar": {
             "outlinewidth": 0,
             "ticks": ""
            },
            "colorscale": [
             [
              0,
              "#0d0887"
             ],
             [
              0.1111111111111111,
              "#46039f"
             ],
             [
              0.2222222222222222,
              "#7201a8"
             ],
             [
              0.3333333333333333,
              "#9c179e"
             ],
             [
              0.4444444444444444,
              "#bd3786"
             ],
             [
              0.5555555555555556,
              "#d8576b"
             ],
             [
              0.6666666666666666,
              "#ed7953"
             ],
             [
              0.7777777777777778,
              "#fb9f3a"
             ],
             [
              0.8888888888888888,
              "#fdca26"
             ],
             [
              1,
              "#f0f921"
             ]
            ],
            "type": "contour"
           }
          ],
          "contourcarpet": [
           {
            "colorbar": {
             "outlinewidth": 0,
             "ticks": ""
            },
            "type": "contourcarpet"
           }
          ],
          "heatmap": [
           {
            "colorbar": {
             "outlinewidth": 0,
             "ticks": ""
            },
            "colorscale": [
             [
              0,
              "#0d0887"
             ],
             [
              0.1111111111111111,
              "#46039f"
             ],
             [
              0.2222222222222222,
              "#7201a8"
             ],
             [
              0.3333333333333333,
              "#9c179e"
             ],
             [
              0.4444444444444444,
              "#bd3786"
             ],
             [
              0.5555555555555556,
              "#d8576b"
             ],
             [
              0.6666666666666666,
              "#ed7953"
             ],
             [
              0.7777777777777778,
              "#fb9f3a"
             ],
             [
              0.8888888888888888,
              "#fdca26"
             ],
             [
              1,
              "#f0f921"
             ]
            ],
            "type": "heatmap"
           }
          ],
          "heatmapgl": [
           {
            "colorbar": {
             "outlinewidth": 0,
             "ticks": ""
            },
            "colorscale": [
             [
              0,
              "#0d0887"
             ],
             [
              0.1111111111111111,
              "#46039f"
             ],
             [
              0.2222222222222222,
              "#7201a8"
             ],
             [
              0.3333333333333333,
              "#9c179e"
             ],
             [
              0.4444444444444444,
              "#bd3786"
             ],
             [
              0.5555555555555556,
              "#d8576b"
             ],
             [
              0.6666666666666666,
              "#ed7953"
             ],
             [
              0.7777777777777778,
              "#fb9f3a"
             ],
             [
              0.8888888888888888,
              "#fdca26"
             ],
             [
              1,
              "#f0f921"
             ]
            ],
            "type": "heatmapgl"
           }
          ],
          "histogram": [
           {
            "marker": {
             "pattern": {
              "fillmode": "overlay",
              "size": 10,
              "solidity": 0.2
             }
            },
            "type": "histogram"
           }
          ],
          "histogram2d": [
           {
            "colorbar": {
             "outlinewidth": 0,
             "ticks": ""
            },
            "colorscale": [
             [
              0,
              "#0d0887"
             ],
             [
              0.1111111111111111,
              "#46039f"
             ],
             [
              0.2222222222222222,
              "#7201a8"
             ],
             [
              0.3333333333333333,
              "#9c179e"
             ],
             [
              0.4444444444444444,
              "#bd3786"
             ],
             [
              0.5555555555555556,
              "#d8576b"
             ],
             [
              0.6666666666666666,
              "#ed7953"
             ],
             [
              0.7777777777777778,
              "#fb9f3a"
             ],
             [
              0.8888888888888888,
              "#fdca26"
             ],
             [
              1,
              "#f0f921"
             ]
            ],
            "type": "histogram2d"
           }
          ],
          "histogram2dcontour": [
           {
            "colorbar": {
             "outlinewidth": 0,
             "ticks": ""
            },
            "colorscale": [
             [
              0,
              "#0d0887"
             ],
             [
              0.1111111111111111,
              "#46039f"
             ],
             [
              0.2222222222222222,
              "#7201a8"
             ],
             [
              0.3333333333333333,
              "#9c179e"
             ],
             [
              0.4444444444444444,
              "#bd3786"
             ],
             [
              0.5555555555555556,
              "#d8576b"
             ],
             [
              0.6666666666666666,
              "#ed7953"
             ],
             [
              0.7777777777777778,
              "#fb9f3a"
             ],
             [
              0.8888888888888888,
              "#fdca26"
             ],
             [
              1,
              "#f0f921"
             ]
            ],
            "type": "histogram2dcontour"
           }
          ],
          "mesh3d": [
           {
            "colorbar": {
             "outlinewidth": 0,
             "ticks": ""
            },
            "type": "mesh3d"
           }
          ],
          "parcoords": [
           {
            "line": {
             "colorbar": {
              "outlinewidth": 0,
              "ticks": ""
             }
            },
            "type": "parcoords"
           }
          ],
          "pie": [
           {
            "automargin": true,
            "type": "pie"
           }
          ],
          "scatter": [
           {
            "marker": {
             "line": {
              "color": "#283442"
             }
            },
            "type": "scatter"
           }
          ],
          "scatter3d": [
           {
            "line": {
             "colorbar": {
              "outlinewidth": 0,
              "ticks": ""
             }
            },
            "marker": {
             "colorbar": {
              "outlinewidth": 0,
              "ticks": ""
             }
            },
            "type": "scatter3d"
           }
          ],
          "scattercarpet": [
           {
            "marker": {
             "colorbar": {
              "outlinewidth": 0,
              "ticks": ""
             }
            },
            "type": "scattercarpet"
           }
          ],
          "scattergeo": [
           {
            "marker": {
             "colorbar": {
              "outlinewidth": 0,
              "ticks": ""
             }
            },
            "type": "scattergeo"
           }
          ],
          "scattergl": [
           {
            "marker": {
             "line": {
              "color": "#283442"
             }
            },
            "type": "scattergl"
           }
          ],
          "scattermapbox": [
           {
            "marker": {
             "colorbar": {
              "outlinewidth": 0,
              "ticks": ""
             }
            },
            "type": "scattermapbox"
           }
          ],
          "scatterpolar": [
           {
            "marker": {
             "colorbar": {
              "outlinewidth": 0,
              "ticks": ""
             }
            },
            "type": "scatterpolar"
           }
          ],
          "scatterpolargl": [
           {
            "marker": {
             "colorbar": {
              "outlinewidth": 0,
              "ticks": ""
             }
            },
            "type": "scatterpolargl"
           }
          ],
          "scatterternary": [
           {
            "marker": {
             "colorbar": {
              "outlinewidth": 0,
              "ticks": ""
             }
            },
            "type": "scatterternary"
           }
          ],
          "surface": [
           {
            "colorbar": {
             "outlinewidth": 0,
             "ticks": ""
            },
            "colorscale": [
             [
              0,
              "#0d0887"
             ],
             [
              0.1111111111111111,
              "#46039f"
             ],
             [
              0.2222222222222222,
              "#7201a8"
             ],
             [
              0.3333333333333333,
              "#9c179e"
             ],
             [
              0.4444444444444444,
              "#bd3786"
             ],
             [
              0.5555555555555556,
              "#d8576b"
             ],
             [
              0.6666666666666666,
              "#ed7953"
             ],
             [
              0.7777777777777778,
              "#fb9f3a"
             ],
             [
              0.8888888888888888,
              "#fdca26"
             ],
             [
              1,
              "#f0f921"
             ]
            ],
            "type": "surface"
           }
          ],
          "table": [
           {
            "cells": {
             "fill": {
              "color": "#506784"
             },
             "line": {
              "color": "rgb(17,17,17)"
             }
            },
            "header": {
             "fill": {
              "color": "#2a3f5f"
             },
             "line": {
              "color": "rgb(17,17,17)"
             }
            },
            "type": "table"
           }
          ]
         },
         "layout": {
          "annotationdefaults": {
           "arrowcolor": "#f2f5fa",
           "arrowhead": 0,
           "arrowwidth": 1
          },
          "autotypenumbers": "strict",
          "coloraxis": {
           "colorbar": {
            "outlinewidth": 0,
            "ticks": ""
           }
          },
          "colorscale": {
           "diverging": [
            [
             0,
             "#8e0152"
            ],
            [
             0.1,
             "#c51b7d"
            ],
            [
             0.2,
             "#de77ae"
            ],
            [
             0.3,
             "#f1b6da"
            ],
            [
             0.4,
             "#fde0ef"
            ],
            [
             0.5,
             "#f7f7f7"
            ],
            [
             0.6,
             "#e6f5d0"
            ],
            [
             0.7,
             "#b8e186"
            ],
            [
             0.8,
             "#7fbc41"
            ],
            [
             0.9,
             "#4d9221"
            ],
            [
             1,
             "#276419"
            ]
           ],
           "sequential": [
            [
             0,
             "#0d0887"
            ],
            [
             0.1111111111111111,
             "#46039f"
            ],
            [
             0.2222222222222222,
             "#7201a8"
            ],
            [
             0.3333333333333333,
             "#9c179e"
            ],
            [
             0.4444444444444444,
             "#bd3786"
            ],
            [
             0.5555555555555556,
             "#d8576b"
            ],
            [
             0.6666666666666666,
             "#ed7953"
            ],
            [
             0.7777777777777778,
             "#fb9f3a"
            ],
            [
             0.8888888888888888,
             "#fdca26"
            ],
            [
             1,
             "#f0f921"
            ]
           ],
           "sequentialminus": [
            [
             0,
             "#0d0887"
            ],
            [
             0.1111111111111111,
             "#46039f"
            ],
            [
             0.2222222222222222,
             "#7201a8"
            ],
            [
             0.3333333333333333,
             "#9c179e"
            ],
            [
             0.4444444444444444,
             "#bd3786"
            ],
            [
             0.5555555555555556,
             "#d8576b"
            ],
            [
             0.6666666666666666,
             "#ed7953"
            ],
            [
             0.7777777777777778,
             "#fb9f3a"
            ],
            [
             0.8888888888888888,
             "#fdca26"
            ],
            [
             1,
             "#f0f921"
            ]
           ]
          },
          "colorway": [
           "#636efa",
           "#EF553B",
           "#00cc96",
           "#ab63fa",
           "#FFA15A",
           "#19d3f3",
           "#FF6692",
           "#B6E880",
           "#FF97FF",
           "#FECB52"
          ],
          "font": {
           "color": "#f2f5fa"
          },
          "geo": {
           "bgcolor": "rgb(17,17,17)",
           "lakecolor": "rgb(17,17,17)",
           "landcolor": "rgb(17,17,17)",
           "showlakes": true,
           "showland": true,
           "subunitcolor": "#506784"
          },
          "hoverlabel": {
           "align": "left"
          },
          "hovermode": "closest",
          "mapbox": {
           "style": "dark"
          },
          "paper_bgcolor": "rgb(17,17,17)",
          "plot_bgcolor": "rgb(17,17,17)",
          "polar": {
           "angularaxis": {
            "gridcolor": "#506784",
            "linecolor": "#506784",
            "ticks": ""
           },
           "bgcolor": "rgb(17,17,17)",
           "radialaxis": {
            "gridcolor": "#506784",
            "linecolor": "#506784",
            "ticks": ""
           }
          },
          "scene": {
           "xaxis": {
            "backgroundcolor": "rgb(17,17,17)",
            "gridcolor": "#506784",
            "gridwidth": 2,
            "linecolor": "#506784",
            "showbackground": true,
            "ticks": "",
            "zerolinecolor": "#C8D4E3"
           },
           "yaxis": {
            "backgroundcolor": "rgb(17,17,17)",
            "gridcolor": "#506784",
            "gridwidth": 2,
            "linecolor": "#506784",
            "showbackground": true,
            "ticks": "",
            "zerolinecolor": "#C8D4E3"
           },
           "zaxis": {
            "backgroundcolor": "rgb(17,17,17)",
            "gridcolor": "#506784",
            "gridwidth": 2,
            "linecolor": "#506784",
            "showbackground": true,
            "ticks": "",
            "zerolinecolor": "#C8D4E3"
           }
          },
          "shapedefaults": {
           "line": {
            "color": "#f2f5fa"
           }
          },
          "sliderdefaults": {
           "bgcolor": "#C8D4E3",
           "bordercolor": "rgb(17,17,17)",
           "borderwidth": 1,
           "tickwidth": 0
          },
          "ternary": {
           "aaxis": {
            "gridcolor": "#506784",
            "linecolor": "#506784",
            "ticks": ""
           },
           "baxis": {
            "gridcolor": "#506784",
            "linecolor": "#506784",
            "ticks": ""
           },
           "bgcolor": "rgb(17,17,17)",
           "caxis": {
            "gridcolor": "#506784",
            "linecolor": "#506784",
            "ticks": ""
           }
          },
          "title": {
           "x": 0.05
          },
          "updatemenudefaults": {
           "bgcolor": "#506784",
           "borderwidth": 0
          },
          "xaxis": {
           "automargin": true,
           "gridcolor": "#283442",
           "linecolor": "#506784",
           "ticks": "",
           "title": {
            "standoff": 15
           },
           "zerolinecolor": "#283442",
           "zerolinewidth": 2
          },
          "yaxis": {
           "automargin": true,
           "gridcolor": "#283442",
           "linecolor": "#506784",
           "ticks": "",
           "title": {
            "standoff": 15
           },
           "zerolinecolor": "#283442",
           "zerolinewidth": 2
          }
         }
        },
        "title": {
         "text": "Clustering de Clientes (Log del Total Gastado)"
        },
        "xaxis": {
         "anchor": "y",
         "domain": [
          0,
          1
         ],
         "title": {
          "text": "Log(1 + Total Gastado)"
         }
        },
        "yaxis": {
         "anchor": "x",
         "domain": [
          0,
          1
         ],
         "range": [
          0,
          5
         ],
         "title": {
          "text": "Número de Órdenes"
         }
        }
       }
      }
     },
     "metadata": {},
     "output_type": "display_data"
    },
    {
     "data": {
      "image/png": "[encoded data removed]",
      "text/plain": [
       "<Figure size 640x480 with 2 Axes>"
      ]
     },
     "metadata": {},
     "output_type": "display_data"
    }
   ],
   "source": [
    "import pandas as pd\n",
    "import numpy as np\n",
    "from sklearn.preprocessing import StandardScaler\n",
    "from sklearn.model_selection import train_test_split, StratifiedKFold, GridSearchCV\n",
    "from sklearn.linear_model import LogisticRegression\n",
    "from sklearn.metrics import classification_report, roc_auc_score, confusion_matrix, ConfusionMatrixDisplay\n",
    "from imblearn.under_sampling import RandomUnderSampler\n",
    "import plotly.express as px\n",
    "from sklearn.cluster import KMeans\n",
    "import tabulate\n",
    "\n",
    "# Asegurar que 'Created at' sea datetime\n",
    "order_total['Created at'] = pd.to_datetime(order_total['Created at'], errors='coerce')\n",
    "\n",
    "# Filtrar ventas recientes de noviembre y diciembre de 2024\n",
    "recent_sales = order_total[\n",
    "    (order_total['Created at'].dt.month.isin([10, 11, 12])) &\n",
    "    (order_total['Created at'].dt.year == 2024)\n",
    "].copy()\n",
    "\n",
    "print(f\"Total de ventas recientes: {len(recent_sales)}\")\n",
    "\n",
    "# Calcular ventas recientes y totales por producto\n",
    "recent_product_sales = recent_sales.groupby('Lineitem name').size().reset_index(name='Recent Order Count')\n",
    "historical_sales = order_total.groupby('Lineitem name').size().reset_index(name='Historical Order Count')\n",
    "\n",
    "# Combinar las ventas recientes y totales\n",
    "combined_sales = pd.merge(recent_product_sales, historical_sales, on='Lineitem name', how='outer').fillna(0)\n",
    "\n",
    "# Calcular ventas ponderadas\n",
    "combined_sales['Weighted_Order_Count'] = (\n",
    "    0.8 * combined_sales['Recent Order Count'] + \n",
    "    0.2 * combined_sales['Historical Order Count']\n",
    ")\n",
    "\n",
    "# Crear la columna 'Target' como un indicador binario\n",
    "combined_sales['Target'] = (combined_sales['Recent Order Count'] > 0).astype(int)\n",
    "\n",
    "# Dividir los datos en entrenamiento y prueba según la presencia de ventas recientes\n",
    "train_data = combined_sales[combined_sales['Recent Order Count'] == 0]\n",
    "test_data = combined_sales[combined_sales['Recent Order Count'] > 0]\n",
    "common_rows = pd.merge(train_data, test_data, on=['Lineitem name'], how='inner')\n",
    "print(f'Número de filas comunes entre entrenamiento y prueba: {len(common_rows)}')\n",
    "\n",
    "# Escalar las características\n",
    "scaler = StandardScaler()\n",
    "X = scaler.fit_transform(combined_sales[['Recent Order Count', 'Historical Order Count']])\n",
    "y = combined_sales['Target']\n",
    "\n",
    "# Verificar la distribución de las clases en 'Target'\n",
    "print(\"Distribución de Target:\", np.bincount(y))\n",
    "\n",
    "# Verificar si hay más de una clase\n",
    "if len(np.unique(y)) <= 1:\n",
    "    print(\"Error: El conjunto de datos tiene solo una clase.\")\n",
    "    print(f\"Clases encontradas: {np.unique(y)}\")\n",
    "else:\n",
    "    # Dividir los datos en entrenamiento y prueba\n",
    "    X_train_val, X_test, y_train_val, y_test = train_test_split(\n",
    "        X, y, test_size=0.2, stratify=y, random_state=42\n",
    "    )\n",
    "\n",
    "    # Dividir los datos de entrenamiento en entrenamiento y validación\n",
    "    X_train, X_val, y_train, y_val = train_test_split(\n",
    "        X_train_val, y_train_val, test_size=0.2, stratify=y_train_val, random_state=42\n",
    "    )\n",
    "\n",
    "    print(\"Distribución en y_train:\", np.bincount(y_train))\n",
    "    print(\"Distribución en y_val:\", np.bincount(y_val))\n",
    "    print(\"Distribución en y_test:\", np.bincount(y_test))\n",
    "\n",
    "    # Aplicar undersampling para balancear las clases\n",
    "    undersampler = RandomUnderSampler(random_state=42)\n",
    "    X_train_resampled, y_train_resampled = undersampler.fit_resample(X_train, y_train)\n",
    "\n",
    "    print(\"Distribución después del undersampling:\", np.bincount(y_train_resampled))\n",
    "\n",
    "    # Definir el modelo y la búsqueda de hiperparámetros\n",
    "    param_grid = {'C': [0.001, 0.01, 0.1], 'max_iter': [500]}\n",
    "    strat_kfold = StratifiedKFold(n_splits=5)\n",
    "\n",
    "    log_reg = LogisticRegression(class_weight='balanced')\n",
    "    grid_search = GridSearchCV(log_reg, param_grid, cv=strat_kfold, scoring='roc_auc', error_score='raise')\n",
    "    grid_search.fit(X_train_resampled, y_train_resampled)\n",
    "\n",
    "    best_model = grid_search.best_estimator_\n",
    "    print(f\"Mejores parámetros: {grid_search.best_params_}\")\n",
    "\n",
    "    # Evaluación en validación\n",
    "    y_val_pred = best_model.predict(X_val)\n",
    "    y_val_prob = best_model.predict_proba(X_val)[:, 1]\n",
    "    print(\"Reporte de validación:\\n\", classification_report(y_val, y_val_pred))\n",
    "    print(f\"AUC-ROC en validación: {roc_auc_score(y_val, y_val_prob):.4f}\")\n",
    "\n",
    "    # Evaluación en prueba\n",
    "    y_test_pred = best_model.predict(X_test)\n",
    "    y_test_prob = best_model.predict_proba(X_test)[:, 1]\n",
    "    print(\"Reporte de prueba:\\n\", classification_report(y_test, y_test_pred))\n",
    "    print(f\"AUC-ROC en prueba: {roc_auc_score(y_test, y_test_prob):.4f}\")\n",
    "\n",
    "    # Matriz de confusión\n",
    "    cm = confusion_matrix(y_test, y_test_pred)\n",
    "    disp = ConfusionMatrixDisplay(confusion_matrix=cm)\n",
    "    disp.plot()\n",
    "\n",
    "    # Calcular las probabilidades de predicción\n",
    "    combined_sales['Prediction_Probability'] = best_model.predict_proba(X)[:, 1]\n",
    "\n",
    "    # Mostrar los 15 productos más probables para noviembre y diciembre 2024\n",
    "    threshold = 0.6\n",
    "    top_predictions = combined_sales[combined_sales['Prediction_Probability'] > threshold]\n",
    "    top_predictions = top_predictions.sort_values(by='Prediction_Probability', ascending=False).head(15)\n",
    "\n",
    "    print(\"Top 15 productos más probables para noviembre y diciembre 2024:\")\n",
    "    formatted_table = tabulate.tabulate(\n",
    "        top_predictions[['Lineitem name', 'Prediction_Probability']],\n",
    "        headers=['Producto', 'Probabilidad de Venta'],\n",
    "        tablefmt='fancy_grid'\n",
    "    )\n",
    "    print(formatted_table)\n",
    "\n",
    "    # Agrupar ventas recientes por cliente\n",
    "    customer_data = recent_sales.groupby('Email').agg(\n",
    "        Total_Spent=('Total', 'sum'),\n",
    "        Order_Count=('Id', 'count')\n",
    "    ).reset_index()\n",
    "\n",
    "    # Aplicar logaritmo a Total_Spent\n",
    "    customer_data['Log_Total_Spent'] = np.log1p(customer_data['Total_Spent'])\n",
    "    customer_data_scaled = scaler.fit_transform(customer_data[['Log_Total_Spent', 'Order_Count']])\n",
    "\n",
    "    # Aplicar KMeans para clustering\n",
    "    kmeans = KMeans(n_clusters=3, random_state=42)\n",
    "    customer_data['Cluster'] = kmeans.fit_predict(customer_data_scaled)\n",
    "\n",
    "    # Visualizar clustering con Plotly\n",
    "    fig = px.scatter(\n",
    "        customer_data, \n",
    "        x='Log_Total_Spent', \n",
    "        y='Order_Count', \n",
    "        color='Cluster', \n",
    "        title='Clustering de Clientes (Log del Total Gastado)',\n",
    "        labels={'Log_Total_Spent': 'Log(1 + Total Gastado)', 'Order_Count': 'Número de Órdenes'},\n",
    "        hover_data=['Email'],\n",
    "        size='Order_Count',\n",
    "        size_max=12,\n",
    "        template='plotly_dark'\n",
    "    )\n",
    "\n",
    "    fig.update_traces(marker=dict(line=dict(width=2, color='DarkSlateGrey')))\n",
    "    fig.update_yaxes(range=[0, customer_data['Order_Count'].max() + 2])\n",
    "    fig.show()\n"
   ]
  },
  {
   "cell_type": "markdown",
   "metadata": {},
   "source": [
    "## HEATMAP DE VENTAS"
   ]
  },
  {
   "cell_type": "code",
   "execution_count": 14,
   "metadata": {},
   "outputs": [
    {
     "data": {
      "application/vnd.plotly.v1+json": {
       "config": {
        "plotlyServerURL": "https://plot.ly"
       },
       "data": [
        {
         "coloraxis": "coloraxis",
         "hovertemplate": "Hour: %{x}<br>Day: %{y}<br>Total Sales ($): %{z}<extra></extra>",
         "name": "0",
         "texttemplate": "%{z}",
         "type": "heatmap",
         "x": [
          "01 AM",
          "01 PM",
          "02 AM",
          "02 PM",
          "03 AM",
          "03 PM",
          "04 AM",
          "04 PM",
          "05 AM",
          "05 PM",
          "06 AM",
          "06 PM",
          "07 AM",
          "07 PM",
          "08 AM",
          "08 PM",
          "09 AM",
          "09 PM",
          "10 AM",
          "10 PM",
          "11 AM",
          "11 PM",
          "12 AM",
          "12 PM"
         ],
         "xaxis": "x",
         "y": [
          "Friday",
          "Monday",
          "Saturday",
          "Sunday",
          "Thursday",
          "Tuesday",
          "Wednesday"
         ],
         "yaxis": "y",
         "z": [
          [
           429,
           725,
           393,
           157,
           444,
           853,
           430,
           432,
           93,
           722,
           565,
           920,
           0,
           728,
           0,
           369,
           0,
           413,
           77,
           512,
           124,
           865,
           521,
           157
          ],
          [
           884,
           40,
           273,
           286,
           321,
           429,
           185,
           364,
           153,
           477,
           74,
           612,
           0,
           414,
           0,
           60,
           870,
           156,
           0,
           646,
           0,
           646,
           674,
           201
          ],
          [
           451,
           2111,
           270,
           3576,
           247,
           8607,
           87,
           302,
           185,
           218,
           34,
           741,
           0,
           403,
           0,
           608,
           97,
           690,
           50,
           332,
           0,
           352,
           254,
           2123
          ],
          [
           167,
           459,
           180,
           671,
           180,
           674,
           75,
           805,
           108,
           272,
           184,
           721,
           0,
           1151,
           0,
           588,
           0,
           457,
           125,
           922,
           140,
           922,
           690,
           558
          ],
          [
           579,
           659,
           628,
           134,
           350,
           1202,
           729,
           655,
           0,
           437,
           0,
           356,
           35,
           159,
           25,
           911,
           0,
           634,
           0,
           438,
           0,
           85,
           323,
           176
          ],
          [
           562,
           293,
           774,
           482,
           55,
           184,
           171,
           349,
           31,
           351,
           96,
           269,
           0,
           219,
           0,
           138,
           54,
           289,
           0,
           235,
           0,
           199,
           139,
           210
          ],
          [
           199,
           368,
           142,
           1018,
           959,
           490,
           590,
           685,
           44,
           166,
           195,
           392,
           0,
           608,
           0,
           278,
           0,
           238,
           0,
           590,
           307,
           419,
           641,
           0
          ]
         ]
        }
       ],
       "layout": {
        "coloraxis": {
         "colorbar": {
          "title": {
           "text": "Total Sales ($)"
          }
         },
         "colorscale": [
          [
           0,
           "rgb(247,251,255)"
          ],
          [
           0.125,
           "rgb(222,235,247)"
          ],
          [
           0.25,
           "rgb(198,219,239)"
          ],
          [
           0.375,
           "rgb(158,202,225)"
          ],
          [
           0.5,
           "rgb(107,174,214)"
          ],
          [
           0.625,
           "rgb(66,146,198)"
          ],
          [
           0.75,
           "rgb(33,113,181)"
          ],
          [
           0.875,
           "rgb(8,81,156)"
          ],
          [
           1,
           "rgb(8,48,107)"
          ]
         ]
        },
        "font": {
         "size": 12
        },
        "template": {
         "data": {
          "bar": [
           {
            "error_x": {
             "color": "#2a3f5f"
            },
            "error_y": {
             "color": "#2a3f5f"
            },
            "marker": {
             "line": {
              "color": "#E5ECF6",
              "width": 0.5
             },
             "pattern": {
              "fillmode": "overlay",
              "size": 10,
              "solidity": 0.2
             }
            },
            "type": "bar"
           }
          ],
          "barpolar": [
           {
            "marker": {
             "line": {
              "color": "#E5ECF6",
              "width": 0.5
             },
             "pattern": {
              "fillmode": "overlay",
              "size": 10,
              "solidity": 0.2
             }
            },
            "type": "barpolar"
           }
          ],
          "carpet": [
           {
            "aaxis": {
             "endlinecolor": "#2a3f5f",
             "gridcolor": "white",
             "linecolor": "white",
             "minorgridcolor": "white",
             "startlinecolor": "#2a3f5f"
            },
            "baxis": {
             "endlinecolor": "#2a3f5f",
             "gridcolor": "white",
             "linecolor": "white",
             "minorgridcolor": "white",
             "startlinecolor": "#2a3f5f"
            },
            "type": "carpet"
           }
          ],
          "choropleth": [
           {
            "colorbar": {
             "outlinewidth": 0,
             "ticks": ""
            },
            "type": "choropleth"
           }
          ],
          "contour": [
           {
            "colorbar": {
             "outlinewidth": 0,
             "ticks": ""
            },
            "colorscale": [
             [
              0,
              "#0d0887"
             ],
             [
              0.1111111111111111,
              "#46039f"
             ],
             [
              0.2222222222222222,
              "#7201a8"
             ],
             [
              0.3333333333333333,
              "#9c179e"
             ],
             [
              0.4444444444444444,
              "#bd3786"
             ],
             [
              0.5555555555555556,
              "#d8576b"
             ],
             [
              0.6666666666666666,
              "#ed7953"
             ],
             [
              0.7777777777777778,
              "#fb9f3a"
             ],
             [
              0.8888888888888888,
              "#fdca26"
             ],
             [
              1,
              "#f0f921"
             ]
            ],
            "type": "contour"
           }
          ],
          "contourcarpet": [
           {
            "colorbar": {
             "outlinewidth": 0,
             "ticks": ""
            },
            "type": "contourcarpet"
           }
          ],
          "heatmap": [
           {
            "colorbar": {
             "outlinewidth": 0,
             "ticks": ""
            },
            "colorscale": [
             [
              0,
              "#0d0887"
             ],
             [
              0.1111111111111111,
              "#46039f"
             ],
             [
              0.2222222222222222,
              "#7201a8"
             ],
             [
              0.3333333333333333,
              "#9c179e"
             ],
             [
              0.4444444444444444,
              "#bd3786"
             ],
             [
              0.5555555555555556,
              "#d8576b"
             ],
             [
              0.6666666666666666,
              "#ed7953"
             ],
             [
              0.7777777777777778,
              "#fb9f3a"
             ],
             [
              0.8888888888888888,
              "#fdca26"
             ],
             [
              1,
              "#f0f921"
             ]
            ],
            "type": "heatmap"
           }
          ],
          "heatmapgl": [
           {
            "colorbar": {
             "outlinewidth": 0,
             "ticks": ""
            },
            "colorscale": [
             [
              0,
              "#0d0887"
             ],
             [
              0.1111111111111111,
              "#46039f"
             ],
             [
              0.2222222222222222,
              "#7201a8"
             ],
             [
              0.3333333333333333,
              "#9c179e"
             ],
             [
              0.4444444444444444,
              "#bd3786"
             ],
             [
              0.5555555555555556,
              "#d8576b"
             ],
             [
              0.6666666666666666,
              "#ed7953"
             ],
             [
              0.7777777777777778,
              "#fb9f3a"
             ],
             [
              0.8888888888888888,
              "#fdca26"
             ],
             [
              1,
              "#f0f921"
             ]
            ],
            "type": "heatmapgl"
           }
          ],
          "histogram": [
           {
            "marker": {
             "pattern": {
              "fillmode": "overlay",
              "size": 10,
              "solidity": 0.2
             }
            },
            "type": "histogram"
           }
          ],
          "histogram2d": [
           {
            "colorbar": {
             "outlinewidth": 0,
             "ticks": ""
            },
            "colorscale": [
             [
              0,
              "#0d0887"
             ],
             [
              0.1111111111111111,
              "#46039f"
             ],
             [
              0.2222222222222222,
              "#7201a8"
             ],
             [
              0.3333333333333333,
              "#9c179e"
             ],
             [
              0.4444444444444444,
              "#bd3786"
             ],
             [
              0.5555555555555556,
              "#d8576b"
             ],
             [
              0.6666666666666666,
              "#ed7953"
             ],
             [
              0.7777777777777778,
              "#fb9f3a"
             ],
             [
              0.8888888888888888,
              "#fdca26"
             ],
             [
              1,
              "#f0f921"
             ]
            ],
            "type": "histogram2d"
           }
          ],
          "histogram2dcontour": [
           {
            "colorbar": {
             "outlinewidth": 0,
             "ticks": ""
            },
            "colorscale": [
             [
              0,
              "#0d0887"
             ],
             [
              0.1111111111111111,
              "#46039f"
             ],
             [
              0.2222222222222222,
              "#7201a8"
             ],
             [
              0.3333333333333333,
              "#9c179e"
             ],
             [
              0.4444444444444444,
              "#bd3786"
             ],
             [
              0.5555555555555556,
              "#d8576b"
             ],
             [
              0.6666666666666666,
              "#ed7953"
             ],
             [
              0.7777777777777778,
              "#fb9f3a"
             ],
             [
              0.8888888888888888,
              "#fdca26"
             ],
             [
              1,
              "#f0f921"
             ]
            ],
            "type": "histogram2dcontour"
           }
          ],
          "mesh3d": [
           {
            "colorbar": {
             "outlinewidth": 0,
             "ticks": ""
            },
            "type": "mesh3d"
           }
          ],
          "parcoords": [
           {
            "line": {
             "colorbar": {
              "outlinewidth": 0,
              "ticks": ""
             }
            },
            "type": "parcoords"
           }
          ],
          "pie": [
           {
            "automargin": true,
            "type": "pie"
           }
          ],
          "scatter": [
           {
            "fillpattern": {
             "fillmode": "overlay",
             "size": 10,
             "solidity": 0.2
            },
            "type": "scatter"
           }
          ],
          "scatter3d": [
           {
            "line": {
             "colorbar": {
              "outlinewidth": 0,
              "ticks": ""
             }
            },
            "marker": {
             "colorbar": {
              "outlinewidth": 0,
              "ticks": ""
             }
            },
            "type": "scatter3d"
           }
          ],
          "scattercarpet": [
           {
            "marker": {
             "colorbar": {
              "outlinewidth": 0,
              "ticks": ""
             }
            },
            "type": "scattercarpet"
           }
          ],
          "scattergeo": [
           {
            "marker": {
             "colorbar": {
              "outlinewidth": 0,
              "ticks": ""
             }
            },
            "type": "scattergeo"
           }
          ],
          "scattergl": [
           {
            "marker": {
             "colorbar": {
              "outlinewidth": 0,
              "ticks": ""
             }
            },
            "type": "scattergl"
           }
          ],
          "scattermapbox": [
           {
            "marker": {
             "colorbar": {
              "outlinewidth": 0,
              "ticks": ""
             }
            },
            "type": "scattermapbox"
           }
          ],
          "scatterpolar": [
           {
            "marker": {
             "colorbar": {
              "outlinewidth": 0,
              "ticks": ""
             }
            },
            "type": "scatterpolar"
           }
          ],
          "scatterpolargl": [
           {
            "marker": {
             "colorbar": {
              "outlinewidth": 0,
              "ticks": ""
             }
            },
            "type": "scatterpolargl"
           }
          ],
          "scatterternary": [
           {
            "marker": {
             "colorbar": {
              "outlinewidth": 0,
              "ticks": ""
             }
            },
            "type": "scatterternary"
           }
          ],
          "surface": [
           {
            "colorbar": {
             "outlinewidth": 0,
             "ticks": ""
            },
            "colorscale": [
             [
              0,
              "#0d0887"
             ],
             [
              0.1111111111111111,
              "#46039f"
             ],
             [
              0.2222222222222222,
              "#7201a8"
             ],
             [
              0.3333333333333333,
              "#9c179e"
             ],
             [
              0.4444444444444444,
              "#bd3786"
             ],
             [
              0.5555555555555556,
              "#d8576b"
             ],
             [
              0.6666666666666666,
              "#ed7953"
             ],
             [
              0.7777777777777778,
              "#fb9f3a"
             ],
             [
              0.8888888888888888,
              "#fdca26"
             ],
             [
              1,
              "#f0f921"
             ]
            ],
            "type": "surface"
           }
          ],
          "table": [
           {
            "cells": {
             "fill": {
              "color": "#EBF0F8"
             },
             "line": {
              "color": "white"
             }
            },
            "header": {
             "fill": {
              "color": "#C8D4E3"
             },
             "line": {
              "color": "white"
             }
            },
            "type": "table"
           }
          ]
         },
         "layout": {
          "annotationdefaults": {
           "arrowcolor": "#2a3f5f",
           "arrowhead": 0,
           "arrowwidth": 1
          },
          "autotypenumbers": "strict",
          "coloraxis": {
           "colorbar": {
            "outlinewidth": 0,
            "ticks": ""
           }
          },
          "colorscale": {
           "diverging": [
            [
             0,
             "#8e0152"
            ],
            [
             0.1,
             "#c51b7d"
            ],
            [
             0.2,
             "#de77ae"
            ],
            [
             0.3,
             "#f1b6da"
            ],
            [
             0.4,
             "#fde0ef"
            ],
            [
             0.5,
             "#f7f7f7"
            ],
            [
             0.6,
             "#e6f5d0"
            ],
            [
             0.7,
             "#b8e186"
            ],
            [
             0.8,
             "#7fbc41"
            ],
            [
             0.9,
             "#4d9221"
            ],
            [
             1,
             "#276419"
            ]
           ],
           "sequential": [
            [
             0,
             "#0d0887"
            ],
            [
             0.1111111111111111,
             "#46039f"
            ],
            [
             0.2222222222222222,
             "#7201a8"
            ],
            [
             0.3333333333333333,
             "#9c179e"
            ],
            [
             0.4444444444444444,
             "#bd3786"
            ],
            [
             0.5555555555555556,
             "#d8576b"
            ],
            [
             0.6666666666666666,
             "#ed7953"
            ],
            [
             0.7777777777777778,
             "#fb9f3a"
            ],
            [
             0.8888888888888888,
             "#fdca26"
            ],
            [
             1,
             "#f0f921"
            ]
           ],
           "sequentialminus": [
            [
             0,
             "#0d0887"
            ],
            [
             0.1111111111111111,
             "#46039f"
            ],
            [
             0.2222222222222222,
             "#7201a8"
            ],
            [
             0.3333333333333333,
             "#9c179e"
            ],
            [
             0.4444444444444444,
             "#bd3786"
            ],
            [
             0.5555555555555556,
             "#d8576b"
            ],
            [
             0.6666666666666666,
             "#ed7953"
            ],
            [
             0.7777777777777778,
             "#fb9f3a"
            ],
            [
             0.8888888888888888,
             "#fdca26"
            ],
            [
             1,
             "#f0f921"
            ]
           ]
          },
          "colorway": [
           "#636efa",
           "#EF553B",
           "#00cc96",
           "#ab63fa",
           "#FFA15A",
           "#19d3f3",
           "#FF6692",
           "#B6E880",
           "#FF97FF",
           "#FECB52"
          ],
          "font": {
           "color": "#2a3f5f"
          },
          "geo": {
           "bgcolor": "white",
           "lakecolor": "white",
           "landcolor": "#E5ECF6",
           "showlakes": true,
           "showland": true,
           "subunitcolor": "white"
          },
          "hoverlabel": {
           "align": "left"
          },
          "hovermode": "closest",
          "mapbox": {
           "style": "light"
          },
          "paper_bgcolor": "white",
          "plot_bgcolor": "#E5ECF6",
          "polar": {
           "angularaxis": {
            "gridcolor": "white",
            "linecolor": "white",
            "ticks": ""
           },
           "bgcolor": "#E5ECF6",
           "radialaxis": {
            "gridcolor": "white",
            "linecolor": "white",
            "ticks": ""
           }
          },
          "scene": {
           "xaxis": {
            "backgroundcolor": "#E5ECF6",
            "gridcolor": "white",
            "gridwidth": 2,
            "linecolor": "white",
            "showbackground": true,
            "ticks": "",
            "zerolinecolor": "white"
           },
           "yaxis": {
            "backgroundcolor": "#E5ECF6",
            "gridcolor": "white",
            "gridwidth": 2,
            "linecolor": "white",
            "showbackground": true,
            "ticks": "",
            "zerolinecolor": "white"
           },
           "zaxis": {
            "backgroundcolor": "#E5ECF6",
            "gridcolor": "white",
            "gridwidth": 2,
            "linecolor": "white",
            "showbackground": true,
            "ticks": "",
            "zerolinecolor": "white"
           }
          },
          "shapedefaults": {
           "line": {
            "color": "#2a3f5f"
           }
          },
          "ternary": {
           "aaxis": {
            "gridcolor": "white",
            "linecolor": "white",
            "ticks": ""
           },
           "baxis": {
            "gridcolor": "white",
            "linecolor": "white",
            "ticks": ""
           },
           "bgcolor": "#E5ECF6",
           "caxis": {
            "gridcolor": "white",
            "linecolor": "white",
            "ticks": ""
           }
          },
          "title": {
           "x": 0.05
          },
          "xaxis": {
           "automargin": true,
           "gridcolor": "white",
           "linecolor": "white",
           "ticks": "",
           "title": {
            "standoff": 15
           },
           "zerolinecolor": "white",
           "zerolinewidth": 2
          },
          "yaxis": {
           "automargin": true,
           "gridcolor": "white",
           "linecolor": "white",
           "ticks": "",
           "title": {
            "standoff": 15
           },
           "zerolinecolor": "white",
           "zerolinewidth": 2
          }
         }
        },
        "title": {
         "text": "Sales Heatmap by Day and Hour (December 2023)"
        },
        "xaxis": {
         "anchor": "y",
         "domain": [
          0,
          1
         ],
         "title": {
          "text": "Hour"
         }
        },
        "yaxis": {
         "anchor": "x",
         "autorange": "reversed",
         "domain": [
          0,
          1
         ],
         "title": {
          "text": "Day"
         }
        }
       }
      }
     },
     "metadata": {},
     "output_type": "display_data"
    }
   ],
   "source": [
    "order_total['Created at'] = pd.to_datetime(order_total['Created at'], errors='coerce')\n",
    "\n",
    "order_total = order_total[\n",
    "    (order_total['Created at'].dt.year == 2023) &\n",
    "    (order_total['Created at'].dt.month == 12)\n",
    "]\n",
    "order_total['Day'] = order_total['Created at'].dt.day_name()\n",
    "order_total['Hour'] = order_total['Created at'].dt.strftime('%I %p')  \n",
    "\n",
    "sales_by_day_hour = order_total.groupby(['Day', 'Hour'])['Total'].sum().reset_index()\n",
    "\n",
    "pivot_table = sales_by_day_hour.pivot(index='Day', columns='Hour', values='Total').fillna(0)\n",
    "\n",
    "pivot_table = pivot_table.round(0).astype(int)  \n",
    "\n",
    "fig = px.imshow(\n",
    "    pivot_table,\n",
    "    text_auto=True, \n",
    "    aspect=\"auto\",  \n",
    "    color_continuous_scale='Blues',\n",
    "    title='Sales Heatmap by Day and Hour (December 2023)',\n",
    "    labels=dict(color=\"Total Sales ($)\")\n",
    ")\n",
    "\n",
    "fig.update_layout(\n",
    "    xaxis_title=\"Hour\",\n",
    "    yaxis_title=\"Day\",\n",
    "    font=dict(size=12)\n",
    ")\n",
    "\n",
    "fig.show()\n"
   ]
  },
  {
   "cell_type": "code",
   "execution_count": 15,
   "metadata": {},
   "outputs": [
    {
     "data": {
      "application/vnd.plotly.v1+json": {
       "config": {
        "plotlyServerURL": "https://plot.ly"
       },
       "data": [
        {
         "coloraxis": "coloraxis",
         "hovertemplate": "Hour: %{x}<br>Day: %{y}<br>Number of Orders: %{z}<extra></extra>",
         "name": "0",
         "texttemplate": "%{z}",
         "type": "heatmap",
         "x": [
          "01 AM",
          "01 PM",
          "02 AM",
          "02 PM",
          "03 AM",
          "03 PM",
          "04 AM",
          "04 PM",
          "05 AM",
          "05 PM",
          "06 AM",
          "06 PM",
          "07 AM",
          "07 PM",
          "08 AM",
          "08 PM",
          "09 AM",
          "09 PM",
          "10 AM",
          "10 PM",
          "11 AM",
          "11 PM",
          "12 AM",
          "12 PM"
         ],
         "xaxis": "x",
         "y": [
          "Friday",
          "Monday",
          "Saturday",
          "Sunday",
          "Thursday",
          "Tuesday",
          "Wednesday"
         ],
         "yaxis": "y",
         "z": [
          [
           8,
           9,
           14,
           2,
           8,
           12,
           9,
           16,
           1,
           15,
           7,
           16,
           0,
           16,
           0,
           12,
           1,
           14,
           1,
           8,
           3,
           18,
           13,
           2
          ],
          [
           14,
           1,
           5,
           8,
           6,
           12,
           4,
           10,
           2,
           15,
           1,
           19,
           0,
           6,
           0,
           22,
           17,
           6,
           0,
           19,
           0,
           13,
           9,
           2
          ],
          [
           8,
           50,
           5,
           81,
           6,
           189,
           1,
           10,
           3,
           5,
           1,
           18,
           0,
           8,
           0,
           15,
           1,
           12,
           2,
           5,
           0,
           6,
           8,
           46
          ],
          [
           4,
           8,
           8,
           12,
           2,
           9,
           1,
           17,
           3,
           8,
           3,
           16,
           0,
           19,
           2,
           18,
           0,
           12,
           1,
           13,
           2,
           13,
           15,
           11
          ],
          [
           11,
           14,
           12,
           6,
           5,
           18,
           12,
           12,
           0,
           7,
           1,
           4,
           1,
           6,
           1,
           22,
           0,
           16,
           0,
           18,
           0,
           3,
           8,
           5
          ],
          [
           9,
           6,
           17,
           10,
           4,
           6,
           3,
           16,
           1,
           5,
           1,
           16,
           0,
           9,
           0,
           5,
           2,
           6,
           0,
           6,
           1,
           5,
           4,
           6
          ],
          [
           5,
           9,
           4,
           12,
           15,
           18,
           12,
           16,
           2,
           4,
           3,
           8,
           0,
           15,
           0,
           5,
           9,
           7,
           0,
           12,
           7,
           7,
           14,
           0
          ]
         ]
        }
       ],
       "layout": {
        "coloraxis": {
         "colorbar": {
          "title": {
           "text": "Number of Orders"
          }
         },
         "colorscale": [
          [
           0,
           "rgb(247,251,255)"
          ],
          [
           0.125,
           "rgb(222,235,247)"
          ],
          [
           0.25,
           "rgb(198,219,239)"
          ],
          [
           0.375,
           "rgb(158,202,225)"
          ],
          [
           0.5,
           "rgb(107,174,214)"
          ],
          [
           0.625,
           "rgb(66,146,198)"
          ],
          [
           0.75,
           "rgb(33,113,181)"
          ],
          [
           0.875,
           "rgb(8,81,156)"
          ],
          [
           1,
           "rgb(8,48,107)"
          ]
         ]
        },
        "font": {
         "size": 12
        },
        "template": {
         "data": {
          "bar": [
           {
            "error_x": {
             "color": "#2a3f5f"
            },
            "error_y": {
             "color": "#2a3f5f"
            },
            "marker": {
             "line": {
              "color": "#E5ECF6",
              "width": 0.5
             },
             "pattern": {
              "fillmode": "overlay",
              "size": 10,
              "solidity": 0.2
             }
            },
            "type": "bar"
           }
          ],
          "barpolar": [
           {
            "marker": {
             "line": {
              "color": "#E5ECF6",
              "width": 0.5
             },
             "pattern": {
              "fillmode": "overlay",
              "size": 10,
              "solidity": 0.2
             }
            },
            "type": "barpolar"
           }
          ],
          "carpet": [
           {
            "aaxis": {
             "endlinecolor": "#2a3f5f",
             "gridcolor": "white",
             "linecolor": "white",
             "minorgridcolor": "white",
             "startlinecolor": "#2a3f5f"
            },
            "baxis": {
             "endlinecolor": "#2a3f5f",
             "gridcolor": "white",
             "linecolor": "white",
             "minorgridcolor": "white",
             "startlinecolor": "#2a3f5f"
            },
            "type": "carpet"
           }
          ],
          "choropleth": [
           {
            "colorbar": {
             "outlinewidth": 0,
             "ticks": ""
            },
            "type": "choropleth"
           }
          ],
          "contour": [
           {
            "colorbar": {
             "outlinewidth": 0,
             "ticks": ""
            },
            "colorscale": [
             [
              0,
              "#0d0887"
             ],
             [
              0.1111111111111111,
              "#46039f"
             ],
             [
              0.2222222222222222,
              "#7201a8"
             ],
             [
              0.3333333333333333,
              "#9c179e"
             ],
             [
              0.4444444444444444,
              "#bd3786"
             ],
             [
              0.5555555555555556,
              "#d8576b"
             ],
             [
              0.6666666666666666,
              "#ed7953"
             ],
             [
              0.7777777777777778,
              "#fb9f3a"
             ],
             [
              0.8888888888888888,
              "#fdca26"
             ],
             [
              1,
              "#f0f921"
             ]
            ],
            "type": "contour"
           }
          ],
          "contourcarpet": [
           {
            "colorbar": {
             "outlinewidth": 0,
             "ticks": ""
            },
            "type": "contourcarpet"
           }
          ],
          "heatmap": [
           {
            "colorbar": {
             "outlinewidth": 0,
             "ticks": ""
            },
            "colorscale": [
             [
              0,
              "#0d0887"
             ],
             [
              0.1111111111111111,
              "#46039f"
             ],
             [
              0.2222222222222222,
              "#7201a8"
             ],
             [
              0.3333333333333333,
              "#9c179e"
             ],
             [
              0.4444444444444444,
              "#bd3786"
             ],
             [
              0.5555555555555556,
              "#d8576b"
             ],
             [
              0.6666666666666666,
              "#ed7953"
             ],
             [
              0.7777777777777778,
              "#fb9f3a"
             ],
             [
              0.8888888888888888,
              "#fdca26"
             ],
             [
              1,
              "#f0f921"
             ]
            ],
            "type": "heatmap"
           }
          ],
          "heatmapgl": [
           {
            "colorbar": {
             "outlinewidth": 0,
             "ticks": ""
            },
            "colorscale": [
             [
              0,
              "#0d0887"
             ],
             [
              0.1111111111111111,
              "#46039f"
             ],
             [
              0.2222222222222222,
              "#7201a8"
             ],
             [
              0.3333333333333333,
              "#9c179e"
             ],
             [
              0.4444444444444444,
              "#bd3786"
             ],
             [
              0.5555555555555556,
              "#d8576b"
             ],
             [
              0.6666666666666666,
              "#ed7953"
             ],
             [
              0.7777777777777778,
              "#fb9f3a"
             ],
             [
              0.8888888888888888,
              "#fdca26"
             ],
             [
              1,
              "#f0f921"
             ]
            ],
            "type": "heatmapgl"
           }
          ],
          "histogram": [
           {
            "marker": {
             "pattern": {
              "fillmode": "overlay",
              "size": 10,
              "solidity": 0.2
             }
            },
            "type": "histogram"
           }
          ],
          "histogram2d": [
           {
            "colorbar": {
             "outlinewidth": 0,
             "ticks": ""
            },
            "colorscale": [
             [
              0,
              "#0d0887"
             ],
             [
              0.1111111111111111,
              "#46039f"
             ],
             [
              0.2222222222222222,
              "#7201a8"
             ],
             [
              0.3333333333333333,
              "#9c179e"
             ],
             [
              0.4444444444444444,
              "#bd3786"
             ],
             [
              0.5555555555555556,
              "#d8576b"
             ],
             [
              0.6666666666666666,
              "#ed7953"
             ],
             [
              0.7777777777777778,
              "#fb9f3a"
             ],
             [
              0.8888888888888888,
              "#fdca26"
             ],
             [
              1,
              "#f0f921"
             ]
            ],
            "type": "histogram2d"
           }
          ],
          "histogram2dcontour": [
           {
            "colorbar": {
             "outlinewidth": 0,
             "ticks": ""
            },
            "colorscale": [
             [
              0,
              "#0d0887"
             ],
             [
              0.1111111111111111,
              "#46039f"
             ],
             [
              0.2222222222222222,
              "#7201a8"
             ],
             [
              0.3333333333333333,
              "#9c179e"
             ],
             [
              0.4444444444444444,
              "#bd3786"
             ],
             [
              0.5555555555555556,
              "#d8576b"
             ],
             [
              0.6666666666666666,
              "#ed7953"
             ],
             [
              0.7777777777777778,
              "#fb9f3a"
             ],
             [
              0.8888888888888888,
              "#fdca26"
             ],
             [
              1,
              "#f0f921"
             ]
            ],
            "type": "histogram2dcontour"
           }
          ],
          "mesh3d": [
           {
            "colorbar": {
             "outlinewidth": 0,
             "ticks": ""
            },
            "type": "mesh3d"
           }
          ],
          "parcoords": [
           {
            "line": {
             "colorbar": {
              "outlinewidth": 0,
              "ticks": ""
             }
            },
            "type": "parcoords"
           }
          ],
          "pie": [
           {
            "automargin": true,
            "type": "pie"
           }
          ],
          "scatter": [
           {
            "fillpattern": {
             "fillmode": "overlay",
             "size": 10,
             "solidity": 0.2
            },
            "type": "scatter"
           }
          ],
          "scatter3d": [
           {
            "line": {
             "colorbar": {
              "outlinewidth": 0,
              "ticks": ""
             }
            },
            "marker": {
             "colorbar": {
              "outlinewidth": 0,
              "ticks": ""
             }
            },
            "type": "scatter3d"
           }
          ],
          "scattercarpet": [
           {
            "marker": {
             "colorbar": {
              "outlinewidth": 0,
              "ticks": ""
             }
            },
            "type": "scattercarpet"
           }
          ],
          "scattergeo": [
           {
            "marker": {
             "colorbar": {
              "outlinewidth": 0,
              "ticks": ""
             }
            },
            "type": "scattergeo"
           }
          ],
          "scattergl": [
           {
            "marker": {
             "colorbar": {
              "outlinewidth": 0,
              "ticks": ""
             }
            },
            "type": "scattergl"
           }
          ],
          "scattermapbox": [
           {
            "marker": {
             "colorbar": {
              "outlinewidth": 0,
              "ticks": ""
             }
            },
            "type": "scattermapbox"
           }
          ],
          "scatterpolar": [
           {
            "marker": {
             "colorbar": {
              "outlinewidth": 0,
              "ticks": ""
             }
            },
            "type": "scatterpolar"
           }
          ],
          "scatterpolargl": [
           {
            "marker": {
             "colorbar": {
              "outlinewidth": 0,
              "ticks": ""
             }
            },
            "type": "scatterpolargl"
           }
          ],
          "scatterternary": [
           {
            "marker": {
             "colorbar": {
              "outlinewidth": 0,
              "ticks": ""
             }
            },
            "type": "scatterternary"
           }
          ],
          "surface": [
           {
            "colorbar": {
             "outlinewidth": 0,
             "ticks": ""
            },
            "colorscale": [
             [
              0,
              "#0d0887"
             ],
             [
              0.1111111111111111,
              "#46039f"
             ],
             [
              0.2222222222222222,
              "#7201a8"
             ],
             [
              0.3333333333333333,
              "#9c179e"
             ],
             [
              0.4444444444444444,
              "#bd3786"
             ],
             [
              0.5555555555555556,
              "#d8576b"
             ],
             [
              0.6666666666666666,
              "#ed7953"
             ],
             [
              0.7777777777777778,
              "#fb9f3a"
             ],
             [
              0.8888888888888888,
              "#fdca26"
             ],
             [
              1,
              "#f0f921"
             ]
            ],
            "type": "surface"
           }
          ],
          "table": [
           {
            "cells": {
             "fill": {
              "color": "#EBF0F8"
             },
             "line": {
              "color": "white"
             }
            },
            "header": {
             "fill": {
              "color": "#C8D4E3"
             },
             "line": {
              "color": "white"
             }
            },
            "type": "table"
           }
          ]
         },
         "layout": {
          "annotationdefaults": {
           "arrowcolor": "#2a3f5f",
           "arrowhead": 0,
           "arrowwidth": 1
          },
          "autotypenumbers": "strict",
          "coloraxis": {
           "colorbar": {
            "outlinewidth": 0,
            "ticks": ""
           }
          },
          "colorscale": {
           "diverging": [
            [
             0,
             "#8e0152"
            ],
            [
             0.1,
             "#c51b7d"
            ],
            [
             0.2,
             "#de77ae"
            ],
            [
             0.3,
             "#f1b6da"
            ],
            [
             0.4,
             "#fde0ef"
            ],
            [
             0.5,
             "#f7f7f7"
            ],
            [
             0.6,
             "#e6f5d0"
            ],
            [
             0.7,
             "#b8e186"
            ],
            [
             0.8,
             "#7fbc41"
            ],
            [
             0.9,
             "#4d9221"
            ],
            [
             1,
             "#276419"
            ]
           ],
           "sequential": [
            [
             0,
             "#0d0887"
            ],
            [
             0.1111111111111111,
             "#46039f"
            ],
            [
             0.2222222222222222,
             "#7201a8"
            ],
            [
             0.3333333333333333,
             "#9c179e"
            ],
            [
             0.4444444444444444,
             "#bd3786"
            ],
            [
             0.5555555555555556,
             "#d8576b"
            ],
            [
             0.6666666666666666,
             "#ed7953"
            ],
            [
             0.7777777777777778,
             "#fb9f3a"
            ],
            [
             0.8888888888888888,
             "#fdca26"
            ],
            [
             1,
             "#f0f921"
            ]
           ],
           "sequentialminus": [
            [
             0,
             "#0d0887"
            ],
            [
             0.1111111111111111,
             "#46039f"
            ],
            [
             0.2222222222222222,
             "#7201a8"
            ],
            [
             0.3333333333333333,
             "#9c179e"
            ],
            [
             0.4444444444444444,
             "#bd3786"
            ],
            [
             0.5555555555555556,
             "#d8576b"
            ],
            [
             0.6666666666666666,
             "#ed7953"
            ],
            [
             0.7777777777777778,
             "#fb9f3a"
            ],
            [
             0.8888888888888888,
             "#fdca26"
            ],
            [
             1,
             "#f0f921"
            ]
           ]
          },
          "colorway": [
           "#636efa",
           "#EF553B",
           "#00cc96",
           "#ab63fa",
           "#FFA15A",
           "#19d3f3",
           "#FF6692",
           "#B6E880",
           "#FF97FF",
           "#FECB52"
          ],
          "font": {
           "color": "#2a3f5f"
          },
          "geo": {
           "bgcolor": "white",
           "lakecolor": "white",
           "landcolor": "#E5ECF6",
           "showlakes": true,
           "showland": true,
           "subunitcolor": "white"
          },
          "hoverlabel": {
           "align": "left"
          },
          "hovermode": "closest",
          "mapbox": {
           "style": "light"
          },
          "paper_bgcolor": "white",
          "plot_bgcolor": "#E5ECF6",
          "polar": {
           "angularaxis": {
            "gridcolor": "white",
            "linecolor": "white",
            "ticks": ""
           },
           "bgcolor": "#E5ECF6",
           "radialaxis": {
            "gridcolor": "white",
            "linecolor": "white",
            "ticks": ""
           }
          },
          "scene": {
           "xaxis": {
            "backgroundcolor": "#E5ECF6",
            "gridcolor": "white",
            "gridwidth": 2,
            "linecolor": "white",
            "showbackground": true,
            "ticks": "",
            "zerolinecolor": "white"
           },
           "yaxis": {
            "backgroundcolor": "#E5ECF6",
            "gridcolor": "white",
            "gridwidth": 2,
            "linecolor": "white",
            "showbackground": true,
            "ticks": "",
            "zerolinecolor": "white"
           },
           "zaxis": {
            "backgroundcolor": "#E5ECF6",
            "gridcolor": "white",
            "gridwidth": 2,
            "linecolor": "white",
            "showbackground": true,
            "ticks": "",
            "zerolinecolor": "white"
           }
          },
          "shapedefaults": {
           "line": {
            "color": "#2a3f5f"
           }
          },
          "ternary": {
           "aaxis": {
            "gridcolor": "white",
            "linecolor": "white",
            "ticks": ""
           },
           "baxis": {
            "gridcolor": "white",
            "linecolor": "white",
            "ticks": ""
           },
           "bgcolor": "#E5ECF6",
           "caxis": {
            "gridcolor": "white",
            "linecolor": "white",
            "ticks": ""
           }
          },
          "title": {
           "x": 0.05
          },
          "xaxis": {
           "automargin": true,
           "gridcolor": "white",
           "linecolor": "white",
           "ticks": "",
           "title": {
            "standoff": 15
           },
           "zerolinecolor": "white",
           "zerolinewidth": 2
          },
          "yaxis": {
           "automargin": true,
           "gridcolor": "white",
           "linecolor": "white",
           "ticks": "",
           "title": {
            "standoff": 15
           },
           "zerolinecolor": "white",
           "zerolinewidth": 2
          }
         }
        },
        "title": {
         "text": "Heatmap of Number of Orders by Day and Hour (December 2023)"
        },
        "xaxis": {
         "anchor": "y",
         "domain": [
          0,
          1
         ],
         "title": {
          "text": "Hour"
         }
        },
        "yaxis": {
         "anchor": "x",
         "autorange": "reversed",
         "domain": [
          0,
          1
         ],
         "title": {
          "text": "Day"
         }
        }
       }
      }
     },
     "metadata": {},
     "output_type": "display_data"
    }
   ],
   "source": [
    "order_total['Created at'] = pd.to_datetime(order_total['Created at'], errors='coerce')\n",
    "\n",
    "order_total = order_total[\n",
    "    (order_total['Created at'].dt.year == 2023) &\n",
    "    (order_total['Created at'].dt.month == 12)\n",
    "]\n",
    "\n",
    "order_total['Day'] = order_total['Created at'].dt.day_name()\n",
    "order_total['Hour'] = order_total['Created at'].dt.strftime('%I %p')  # 12-hour format (AM/PM)\n",
    "\n",
    "orders_by_day_hour = order_total.groupby(['Day', 'Hour']).size().reset_index(name='Order Count')\n",
    "\n",
    "pivot_table = orders_by_day_hour.pivot(index='Day', columns='Hour', values='Order Count').fillna(0)\n",
    "\n",
    "pivot_table = pivot_table.astype(int)\n",
    "\n",
    "fig = px.imshow(\n",
    "    pivot_table,\n",
    "    text_auto=True,  \n",
    "    aspect=\"auto\", \n",
    "    color_continuous_scale='Blues',\n",
    "    title='Heatmap of Number of Orders by Day and Hour (December 2023)',\n",
    "    labels=dict(color=\"Number of Orders\")\n",
    ")\n",
    "\n",
    "fig.update_layout(\n",
    "    xaxis_title=\"Hour\",\n",
    "    yaxis_title=\"Day\",\n",
    "    font=dict(size=12)\n",
    ")\n",
    "\n",
    "fig.show()\n"
   ]
  },
  {
   "cell_type": "code",
   "execution_count": 16,
   "metadata": {},
   "outputs": [
    {
     "data": {
      "application/vnd.plotly.v1+json": {
       "config": {
        "plotlyServerURL": "https://plot.ly"
       },
       "data": [
        {
         "alignmentgroup": "True",
         "hovertemplate": "Product=%{x}<br>Number of Orders=%{text}<extra></extra>",
         "legendgroup": "",
         "marker": {
          "color": "royalblue",
          "line": {
           "color": "black",
           "width": 1
          },
          "pattern": {
           "shape": ""
          }
         },
         "name": "",
         "offsetgroup": "",
         "orientation": "v",
         "showlegend": false,
         "text": [
          49,
          42,
          25,
          15,
          15,
          14,
          12,
          11,
          9,
          9,
          9,
          8,
          7,
          7,
          7
         ],
         "textfont": {
          "size": 14
         },
         "textposition": "outside",
         "type": "bar",
         "x": [
          "wiftie Ornaent",
          "PRE ORDER wiftie Ornaent",
          "Fetive weathirt - Buh",
          "Ho Ho Ho weathirt - Pink",
          "The Harper Dre - Buh",
          "Tayor wift : A itte Goden Book",
          "Tayor wift & The Cothe he Wear Book",
          "Teddy herpa Bet Bag - Ivory",
          "Cozy Day Cardigan - Taupe O/",
          "Tayor wift Cooring & Activity Book",
          "Ziggy weater - Crea",
          "Fraier Fir Cande",
          "wiftie Hoiday Gift et",
          "The Era Tour Ornaent - Pink",
          "Chapagne Peae weater - Back"
         ],
         "xaxis": "x",
         "y": [
          49,
          42,
          25,
          15,
          15,
          14,
          12,
          11,
          9,
          9,
          9,
          8,
          7,
          7,
          7
         ],
         "yaxis": "y"
        }
       ],
       "layout": {
        "bargap": 0.1,
        "barmode": "relative",
        "font": {
         "size": 12
        },
        "height": 600,
        "legend": {
         "tracegroupgap": 0
        },
        "plot_bgcolor": "rgba(0,0,0,0)",
        "template": {
         "data": {
          "bar": [
           {
            "error_x": {
             "color": "#2a3f5f"
            },
            "error_y": {
             "color": "#2a3f5f"
            },
            "marker": {
             "line": {
              "color": "#E5ECF6",
              "width": 0.5
             },
             "pattern": {
              "fillmode": "overlay",
              "size": 10,
              "solidity": 0.2
             }
            },
            "type": "bar"
           }
          ],
          "barpolar": [
           {
            "marker": {
             "line": {
              "color": "#E5ECF6",
              "width": 0.5
             },
             "pattern": {
              "fillmode": "overlay",
              "size": 10,
              "solidity": 0.2
             }
            },
            "type": "barpolar"
           }
          ],
          "carpet": [
           {
            "aaxis": {
             "endlinecolor": "#2a3f5f",
             "gridcolor": "white",
             "linecolor": "white",
             "minorgridcolor": "white",
             "startlinecolor": "#2a3f5f"
            },
            "baxis": {
             "endlinecolor": "#2a3f5f",
             "gridcolor": "white",
             "linecolor": "white",
             "minorgridcolor": "white",
             "startlinecolor": "#2a3f5f"
            },
            "type": "carpet"
           }
          ],
          "choropleth": [
           {
            "colorbar": {
             "outlinewidth": 0,
             "ticks": ""
            },
            "type": "choropleth"
           }
          ],
          "contour": [
           {
            "colorbar": {
             "outlinewidth": 0,
             "ticks": ""
            },
            "colorscale": [
             [
              0,
              "#0d0887"
             ],
             [
              0.1111111111111111,
              "#46039f"
             ],
             [
              0.2222222222222222,
              "#7201a8"
             ],
             [
              0.3333333333333333,
              "#9c179e"
             ],
             [
              0.4444444444444444,
              "#bd3786"
             ],
             [
              0.5555555555555556,
              "#d8576b"
             ],
             [
              0.6666666666666666,
              "#ed7953"
             ],
             [
              0.7777777777777778,
              "#fb9f3a"
             ],
             [
              0.8888888888888888,
              "#fdca26"
             ],
             [
              1,
              "#f0f921"
             ]
            ],
            "type": "contour"
           }
          ],
          "contourcarpet": [
           {
            "colorbar": {
             "outlinewidth": 0,
             "ticks": ""
            },
            "type": "contourcarpet"
           }
          ],
          "heatmap": [
           {
            "colorbar": {
             "outlinewidth": 0,
             "ticks": ""
            },
            "colorscale": [
             [
              0,
              "#0d0887"
             ],
             [
              0.1111111111111111,
              "#46039f"
             ],
             [
              0.2222222222222222,
              "#7201a8"
             ],
             [
              0.3333333333333333,
              "#9c179e"
             ],
             [
              0.4444444444444444,
              "#bd3786"
             ],
             [
              0.5555555555555556,
              "#d8576b"
             ],
             [
              0.6666666666666666,
              "#ed7953"
             ],
             [
              0.7777777777777778,
              "#fb9f3a"
             ],
             [
              0.8888888888888888,
              "#fdca26"
             ],
             [
              1,
              "#f0f921"
             ]
            ],
            "type": "heatmap"
           }
          ],
          "heatmapgl": [
           {
            "colorbar": {
             "outlinewidth": 0,
             "ticks": ""
            },
            "colorscale": [
             [
              0,
              "#0d0887"
             ],
             [
              0.1111111111111111,
              "#46039f"
             ],
             [
              0.2222222222222222,
              "#7201a8"
             ],
             [
              0.3333333333333333,
              "#9c179e"
             ],
             [
              0.4444444444444444,
              "#bd3786"
             ],
             [
              0.5555555555555556,
              "#d8576b"
             ],
             [
              0.6666666666666666,
              "#ed7953"
             ],
             [
              0.7777777777777778,
              "#fb9f3a"
             ],
             [
              0.8888888888888888,
              "#fdca26"
             ],
             [
              1,
              "#f0f921"
             ]
            ],
            "type": "heatmapgl"
           }
          ],
          "histogram": [
           {
            "marker": {
             "pattern": {
              "fillmode": "overlay",
              "size": 10,
              "solidity": 0.2
             }
            },
            "type": "histogram"
           }
          ],
          "histogram2d": [
           {
            "colorbar": {
             "outlinewidth": 0,
             "ticks": ""
            },
            "colorscale": [
             [
              0,
              "#0d0887"
             ],
             [
              0.1111111111111111,
              "#46039f"
             ],
             [
              0.2222222222222222,
              "#7201a8"
             ],
             [
              0.3333333333333333,
              "#9c179e"
             ],
             [
              0.4444444444444444,
              "#bd3786"
             ],
             [
              0.5555555555555556,
              "#d8576b"
             ],
             [
              0.6666666666666666,
              "#ed7953"
             ],
             [
              0.7777777777777778,
              "#fb9f3a"
             ],
             [
              0.8888888888888888,
              "#fdca26"
             ],
             [
              1,
              "#f0f921"
             ]
            ],
            "type": "histogram2d"
           }
          ],
          "histogram2dcontour": [
           {
            "colorbar": {
             "outlinewidth": 0,
             "ticks": ""
            },
            "colorscale": [
             [
              0,
              "#0d0887"
             ],
             [
              0.1111111111111111,
              "#46039f"
             ],
             [
              0.2222222222222222,
              "#7201a8"
             ],
             [
              0.3333333333333333,
              "#9c179e"
             ],
             [
              0.4444444444444444,
              "#bd3786"
             ],
             [
              0.5555555555555556,
              "#d8576b"
             ],
             [
              0.6666666666666666,
              "#ed7953"
             ],
             [
              0.7777777777777778,
              "#fb9f3a"
             ],
             [
              0.8888888888888888,
              "#fdca26"
             ],
             [
              1,
              "#f0f921"
             ]
            ],
            "type": "histogram2dcontour"
           }
          ],
          "mesh3d": [
           {
            "colorbar": {
             "outlinewidth": 0,
             "ticks": ""
            },
            "type": "mesh3d"
           }
          ],
          "parcoords": [
           {
            "line": {
             "colorbar": {
              "outlinewidth": 0,
              "ticks": ""
             }
            },
            "type": "parcoords"
           }
          ],
          "pie": [
           {
            "automargin": true,
            "type": "pie"
           }
          ],
          "scatter": [
           {
            "fillpattern": {
             "fillmode": "overlay",
             "size": 10,
             "solidity": 0.2
            },
            "type": "scatter"
           }
          ],
          "scatter3d": [
           {
            "line": {
             "colorbar": {
              "outlinewidth": 0,
              "ticks": ""
             }
            },
            "marker": {
             "colorbar": {
              "outlinewidth": 0,
              "ticks": ""
             }
            },
            "type": "scatter3d"
           }
          ],
          "scattercarpet": [
           {
            "marker": {
             "colorbar": {
              "outlinewidth": 0,
              "ticks": ""
             }
            },
            "type": "scattercarpet"
           }
          ],
          "scattergeo": [
           {
            "marker": {
             "colorbar": {
              "outlinewidth": 0,
              "ticks": ""
             }
            },
            "type": "scattergeo"
           }
          ],
          "scattergl": [
           {
            "marker": {
             "colorbar": {
              "outlinewidth": 0,
              "ticks": ""
             }
            },
            "type": "scattergl"
           }
          ],
          "scattermapbox": [
           {
            "marker": {
             "colorbar": {
              "outlinewidth": 0,
              "ticks": ""
             }
            },
            "type": "scattermapbox"
           }
          ],
          "scatterpolar": [
           {
            "marker": {
             "colorbar": {
              "outlinewidth": 0,
              "ticks": ""
             }
            },
            "type": "scatterpolar"
           }
          ],
          "scatterpolargl": [
           {
            "marker": {
             "colorbar": {
              "outlinewidth": 0,
              "ticks": ""
             }
            },
            "type": "scatterpolargl"
           }
          ],
          "scatterternary": [
           {
            "marker": {
             "colorbar": {
              "outlinewidth": 0,
              "ticks": ""
             }
            },
            "type": "scatterternary"
           }
          ],
          "surface": [
           {
            "colorbar": {
             "outlinewidth": 0,
             "ticks": ""
            },
            "colorscale": [
             [
              0,
              "#0d0887"
             ],
             [
              0.1111111111111111,
              "#46039f"
             ],
             [
              0.2222222222222222,
              "#7201a8"
             ],
             [
              0.3333333333333333,
              "#9c179e"
             ],
             [
              0.4444444444444444,
              "#bd3786"
             ],
             [
              0.5555555555555556,
              "#d8576b"
             ],
             [
              0.6666666666666666,
              "#ed7953"
             ],
             [
              0.7777777777777778,
              "#fb9f3a"
             ],
             [
              0.8888888888888888,
              "#fdca26"
             ],
             [
              1,
              "#f0f921"
             ]
            ],
            "type": "surface"
           }
          ],
          "table": [
           {
            "cells": {
             "fill": {
              "color": "#EBF0F8"
             },
             "line": {
              "color": "white"
             }
            },
            "header": {
             "fill": {
              "color": "#C8D4E3"
             },
             "line": {
              "color": "white"
             }
            },
            "type": "table"
           }
          ]
         },
         "layout": {
          "annotationdefaults": {
           "arrowcolor": "#2a3f5f",
           "arrowhead": 0,
           "arrowwidth": 1
          },
          "autotypenumbers": "strict",
          "coloraxis": {
           "colorbar": {
            "outlinewidth": 0,
            "ticks": ""
           }
          },
          "colorscale": {
           "diverging": [
            [
             0,
             "#8e0152"
            ],
            [
             0.1,
             "#c51b7d"
            ],
            [
             0.2,
             "#de77ae"
            ],
            [
             0.3,
             "#f1b6da"
            ],
            [
             0.4,
             "#fde0ef"
            ],
            [
             0.5,
             "#f7f7f7"
            ],
            [
             0.6,
             "#e6f5d0"
            ],
            [
             0.7,
             "#b8e186"
            ],
            [
             0.8,
             "#7fbc41"
            ],
            [
             0.9,
             "#4d9221"
            ],
            [
             1,
             "#276419"
            ]
           ],
           "sequential": [
            [
             0,
             "#0d0887"
            ],
            [
             0.1111111111111111,
             "#46039f"
            ],
            [
             0.2222222222222222,
             "#7201a8"
            ],
            [
             0.3333333333333333,
             "#9c179e"
            ],
            [
             0.4444444444444444,
             "#bd3786"
            ],
            [
             0.5555555555555556,
             "#d8576b"
            ],
            [
             0.6666666666666666,
             "#ed7953"
            ],
            [
             0.7777777777777778,
             "#fb9f3a"
            ],
            [
             0.8888888888888888,
             "#fdca26"
            ],
            [
             1,
             "#f0f921"
            ]
           ],
           "sequentialminus": [
            [
             0,
             "#0d0887"
            ],
            [
             0.1111111111111111,
             "#46039f"
            ],
            [
             0.2222222222222222,
             "#7201a8"
            ],
            [
             0.3333333333333333,
             "#9c179e"
            ],
            [
             0.4444444444444444,
             "#bd3786"
            ],
            [
             0.5555555555555556,
             "#d8576b"
            ],
            [
             0.6666666666666666,
             "#ed7953"
            ],
            [
             0.7777777777777778,
             "#fb9f3a"
            ],
            [
             0.8888888888888888,
             "#fdca26"
            ],
            [
             1,
             "#f0f921"
            ]
           ]
          },
          "colorway": [
           "#636efa",
           "#EF553B",
           "#00cc96",
           "#ab63fa",
           "#FFA15A",
           "#19d3f3",
           "#FF6692",
           "#B6E880",
           "#FF97FF",
           "#FECB52"
          ],
          "font": {
           "color": "#2a3f5f"
          },
          "geo": {
           "bgcolor": "white",
           "lakecolor": "white",
           "landcolor": "#E5ECF6",
           "showlakes": true,
           "showland": true,
           "subunitcolor": "white"
          },
          "hoverlabel": {
           "align": "left"
          },
          "hovermode": "closest",
          "mapbox": {
           "style": "light"
          },
          "paper_bgcolor": "white",
          "plot_bgcolor": "#E5ECF6",
          "polar": {
           "angularaxis": {
            "gridcolor": "white",
            "linecolor": "white",
            "ticks": ""
           },
           "bgcolor": "#E5ECF6",
           "radialaxis": {
            "gridcolor": "white",
            "linecolor": "white",
            "ticks": ""
           }
          },
          "scene": {
           "xaxis": {
            "backgroundcolor": "#E5ECF6",
            "gridcolor": "white",
            "gridwidth": 2,
            "linecolor": "white",
            "showbackground": true,
            "ticks": "",
            "zerolinecolor": "white"
           },
           "yaxis": {
            "backgroundcolor": "#E5ECF6",
            "gridcolor": "white",
            "gridwidth": 2,
            "linecolor": "white",
            "showbackground": true,
            "ticks": "",
            "zerolinecolor": "white"
           },
           "zaxis": {
            "backgroundcolor": "#E5ECF6",
            "gridcolor": "white",
            "gridwidth": 2,
            "linecolor": "white",
            "showbackground": true,
            "ticks": "",
            "zerolinecolor": "white"
           }
          },
          "shapedefaults": {
           "line": {
            "color": "#2a3f5f"
           }
          },
          "ternary": {
           "aaxis": {
            "gridcolor": "white",
            "linecolor": "white",
            "ticks": ""
           },
           "baxis": {
            "gridcolor": "white",
            "linecolor": "white",
            "ticks": ""
           },
           "bgcolor": "#E5ECF6",
           "caxis": {
            "gridcolor": "white",
            "linecolor": "white",
            "ticks": ""
           }
          },
          "title": {
           "x": 0.05
          },
          "xaxis": {
           "automargin": true,
           "gridcolor": "white",
           "linecolor": "white",
           "ticks": "",
           "title": {
            "standoff": 15
           },
           "zerolinecolor": "white",
           "zerolinewidth": 2
          },
          "yaxis": {
           "automargin": true,
           "gridcolor": "white",
           "linecolor": "white",
           "ticks": "",
           "title": {
            "standoff": 15
           },
           "zerolinecolor": "white",
           "zerolinewidth": 2
          }
         }
        },
        "title": {
         "text": "Top 15 Best-Selling Products (December 2023)"
        },
        "width": 1200,
        "xaxis": {
         "anchor": "y",
         "domain": [
          0,
          1
         ],
         "tickangle": -25,
         "title": {
          "text": "Product"
         }
        },
        "yaxis": {
         "anchor": "x",
         "domain": [
          0,
          1
         ],
         "gridcolor": "lightgrey",
         "range": [
          0,
          59
         ],
         "showgrid": true,
         "title": {
          "text": "Number of Orders"
         }
        }
       }
      }
     },
     "metadata": {},
     "output_type": "display_data"
    }
   ],
   "source": [
    "import pandas as pd\n",
    "import plotly.express as px\n",
    "\n",
    "order_total['Created at'] = pd.to_datetime(order_total['Created at'], errors='coerce')\n",
    "\n",
    "order_total = order_total[\n",
    "    (order_total['Created at'].dt.year == 2023) &\n",
    "    (order_total['Created at'].dt.month == 12)\n",
    "]\n",
    "\n",
    "top_products = order_total.groupby('Lineitem name').size().reset_index(name='Order Count')\n",
    "\n",
    "top_15_products = top_products.sort_values(by='Order Count', ascending=False).head(15)\n",
    "\n",
    "fig = px.bar(\n",
    "    top_15_products,\n",
    "    x='Lineitem name',\n",
    "    y='Order Count',\n",
    "    title='Top 15 Best-Selling Products (December 2023)',\n",
    "    labels={'Order Count': 'Number of Orders', 'Lineitem name': 'Product'},\n",
    "    text='Order Count'  \n",
    ")\n",
    "\n",
    "fig.update_layout(\n",
    "    xaxis_title=\"Product\",\n",
    "    yaxis_title=\"Number of Orders\",\n",
    "    xaxis_tickangle=-25, \n",
    "    height=600,  \n",
    "    width=1200,  \n",
    "    font=dict(size=12),\n",
    "    plot_bgcolor='rgba(0,0,0,0)',  \n",
    "    yaxis=dict(showgrid=True, gridcolor='lightgrey'),  \n",
    "    bargap=0.1 \n",
    ")\n",
    "\n",
    "fig.update_traces(\n",
    "    textfont_size=14,\n",
    "    textposition='outside',  \n",
    "    marker=dict(color='royalblue', line=dict(color='black', width=1))  \n",
    ")\n",
    "\n",
    "fig.update_yaxes(range=[0, top_15_products['Order Count'].max() + 10])\n",
    "\n",
    "fig.show()\n"
   ]
  }
 ],
 "metadata": {
  "kernelspec": {
   "display_name": ".venv",
   "language": "python",
   "name": "python3"
  },
  "language_info": {
   "codemirror_mode": {
    "name": "ipython",
    "version": 3
   },
   "file_extension": ".py",
   "mimetype": "text/x-python",
   "name": "python",
   "nbconvert_exporter": "python",
   "pygments_lexer": "ipython3",
   "version": "3.9.20"
  }
 },
 "nbformat": 4,
 "nbformat_minor": 2
}
